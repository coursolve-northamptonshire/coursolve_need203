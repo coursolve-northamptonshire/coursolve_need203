{
 "metadata": {
  "name": "",
  "signature": "sha256:e246a8fcbb11fd633d38db92279146ed951fab99db6772bedda9a4fb27c6e67d"
 },
 "nbformat": 3,
 "nbformat_minor": 0,
 "worksheets": [
  {
   "cells": [
    {
     "cell_type": "code",
     "collapsed": false,
     "input": [
      "%pylab inline\n",
      "import pandas as pd\n",
      "from analysis.twitter_processor import Processor"
     ],
     "language": "python",
     "metadata": {},
     "outputs": [
      {
       "output_type": "stream",
       "stream": "stdout",
       "text": [
        "Populating the interactive namespace from numpy and matplotlib\n"
       ]
      }
     ],
     "prompt_number": 1
    },
    {
     "cell_type": "code",
     "collapsed": false,
     "input": [
      "results_file_name = \"/home/anshuman/northants/twitter_data/001/twout/twitter_data.json\"\n",
      "processor = Processor()\n",
      "dataframe = None\n",
      "with open(results_file_name, \"r\") as results_file:\n",
      "    dataframe = processor.make_df(results_file, 1000)"
     ],
     "language": "python",
     "metadata": {},
     "outputs": [
      {
       "output_type": "stream",
       "stream": "stderr",
       "text": [
        "WARNING:analysis.twitter_processor:Skipping empty line at 62\n"
       ]
      },
      {
       "output_type": "stream",
       "stream": "stderr",
       "text": [
        "WARNING:analysis.twitter_processor:Skipping empty line at 72\n"
       ]
      },
      {
       "output_type": "stream",
       "stream": "stderr",
       "text": [
        "WARNING:analysis.twitter_processor:Skipping empty line at 79\n"
       ]
      },
      {
       "output_type": "stream",
       "stream": "stderr",
       "text": [
        "WARNING:analysis.twitter_processor:Skipping empty line at 97\n"
       ]
      },
      {
       "output_type": "stream",
       "stream": "stderr",
       "text": [
        "WARNING:analysis.twitter_processor:Skipping empty line at 131\n"
       ]
      },
      {
       "output_type": "stream",
       "stream": "stderr",
       "text": [
        "WARNING:analysis.twitter_processor:Skipping empty line at 153\n"
       ]
      },
      {
       "output_type": "stream",
       "stream": "stderr",
       "text": [
        "WARNING:analysis.twitter_processor:Skipping empty line at 175\n"
       ]
      },
      {
       "output_type": "stream",
       "stream": "stderr",
       "text": [
        "WARNING:analysis.twitter_processor:Skipping empty line at 214\n"
       ]
      },
      {
       "output_type": "stream",
       "stream": "stderr",
       "text": [
        "WARNING:analysis.twitter_processor:Skipping empty line at 231\n"
       ]
      },
      {
       "output_type": "stream",
       "stream": "stderr",
       "text": [
        "WARNING:analysis.twitter_processor:Skipping empty line at 248\n"
       ]
      },
      {
       "output_type": "stream",
       "stream": "stderr",
       "text": [
        "WARNING:analysis.twitter_processor:Skipping empty line at 297\n"
       ]
      },
      {
       "output_type": "stream",
       "stream": "stderr",
       "text": [
        "WARNING:analysis.twitter_processor:Skipping empty line at 305\n"
       ]
      },
      {
       "output_type": "stream",
       "stream": "stderr",
       "text": [
        "WARNING:analysis.twitter_processor:Skipping empty line at 309\n"
       ]
      },
      {
       "output_type": "stream",
       "stream": "stderr",
       "text": [
        "WARNING:analysis.twitter_processor:Skipping empty line at 315\n"
       ]
      },
      {
       "output_type": "stream",
       "stream": "stderr",
       "text": [
        "WARNING:analysis.twitter_processor:Skipping empty line at 332\n"
       ]
      },
      {
       "output_type": "stream",
       "stream": "stderr",
       "text": [
        "WARNING:analysis.twitter_processor:Skipping empty line at 366\n"
       ]
      },
      {
       "output_type": "stream",
       "stream": "stderr",
       "text": [
        "WARNING:analysis.twitter_processor:Skipping empty line at 394\n"
       ]
      },
      {
       "output_type": "stream",
       "stream": "stderr",
       "text": [
        "WARNING:analysis.twitter_processor:Skipping empty line at 464\n"
       ]
      },
      {
       "output_type": "stream",
       "stream": "stderr",
       "text": [
        "WARNING:analysis.twitter_processor:Skipping empty line at 474\n"
       ]
      },
      {
       "output_type": "stream",
       "stream": "stderr",
       "text": [
        "WARNING:analysis.twitter_processor:Skipping empty line at 497\n"
       ]
      },
      {
       "output_type": "stream",
       "stream": "stderr",
       "text": [
        "WARNING:analysis.twitter_processor:Skipping empty line at 581\n"
       ]
      },
      {
       "output_type": "stream",
       "stream": "stderr",
       "text": [
        "WARNING:analysis.twitter_processor:Skipping empty line at 586\n"
       ]
      },
      {
       "output_type": "stream",
       "stream": "stderr",
       "text": [
        "WARNING:analysis.twitter_processor:Skipping empty line at 591\n"
       ]
      },
      {
       "output_type": "stream",
       "stream": "stderr",
       "text": [
        "WARNING:analysis.twitter_processor:Skipping empty line at 605\n"
       ]
      },
      {
       "output_type": "stream",
       "stream": "stderr",
       "text": [
        "WARNING:analysis.twitter_processor:Skipping empty line at 616\n"
       ]
      },
      {
       "output_type": "stream",
       "stream": "stderr",
       "text": [
        "WARNING:analysis.twitter_processor:Skipping empty line at 663\n"
       ]
      },
      {
       "output_type": "stream",
       "stream": "stderr",
       "text": [
        "WARNING:analysis.twitter_processor:Skipping empty line at 676\n"
       ]
      },
      {
       "output_type": "stream",
       "stream": "stderr",
       "text": [
        "WARNING:analysis.twitter_processor:Skipping empty line at 705\n"
       ]
      },
      {
       "output_type": "stream",
       "stream": "stderr",
       "text": [
        "WARNING:analysis.twitter_processor:Skipping empty line at 718\n"
       ]
      },
      {
       "output_type": "stream",
       "stream": "stderr",
       "text": [
        "WARNING:analysis.twitter_processor:Skipping empty line at 733\n"
       ]
      },
      {
       "output_type": "stream",
       "stream": "stderr",
       "text": [
        "WARNING:analysis.twitter_processor:Skipping empty line at 736\n"
       ]
      },
      {
       "output_type": "stream",
       "stream": "stderr",
       "text": [
        "WARNING:analysis.twitter_processor:Skipping empty line at 774\n"
       ]
      },
      {
       "output_type": "stream",
       "stream": "stderr",
       "text": [
        "WARNING:analysis.twitter_processor:Skipping empty line at 789\n"
       ]
      },
      {
       "output_type": "stream",
       "stream": "stderr",
       "text": [
        "WARNING:analysis.twitter_processor:Skipping empty line at 829\n"
       ]
      },
      {
       "output_type": "stream",
       "stream": "stderr",
       "text": [
        "WARNING:analysis.twitter_processor:Skipping empty line at 834\n"
       ]
      },
      {
       "output_type": "stream",
       "stream": "stderr",
       "text": [
        "WARNING:analysis.twitter_processor:Skipping empty line at 841\n"
       ]
      },
      {
       "output_type": "stream",
       "stream": "stderr",
       "text": [
        "WARNING:analysis.twitter_processor:Skipping empty line at 849\n"
       ]
      },
      {
       "output_type": "stream",
       "stream": "stderr",
       "text": [
        "WARNING:analysis.twitter_processor:Skipping empty line at 869\n"
       ]
      },
      {
       "output_type": "stream",
       "stream": "stderr",
       "text": [
        "WARNING:analysis.twitter_processor:Skipping empty line at 896\n"
       ]
      },
      {
       "output_type": "stream",
       "stream": "stderr",
       "text": [
        "WARNING:analysis.twitter_processor:Skipping empty line at 916\n"
       ]
      },
      {
       "output_type": "stream",
       "stream": "stderr",
       "text": [
        "WARNING:analysis.twitter_processor:Skipping empty line at 938\n"
       ]
      },
      {
       "output_type": "stream",
       "stream": "stderr",
       "text": [
        "WARNING:analysis.twitter_processor:Skipping empty line at 965\n"
       ]
      },
      {
       "output_type": "stream",
       "stream": "stderr",
       "text": [
        "WARNING:analysis.twitter_processor:Skipping empty line at 988\n"
       ]
      },
      {
       "output_type": "stream",
       "stream": "stderr",
       "text": [
        "WARNING:analysis.twitter_processor:Skipping empty line at 991\n"
       ]
      },
      {
       "output_type": "stream",
       "stream": "stderr",
       "text": [
        "WARNING:analysis.twitter_processor:Skipping empty line at 996\n"
       ]
      },
      {
       "output_type": "stream",
       "stream": "stderr",
       "text": [
        "ERROR:analysis.twitter_processor:Encountered 45 errors while reading twitter results\n"
       ]
      }
     ],
     "prompt_number": 2
    },
    {
     "cell_type": "code",
     "collapsed": false,
     "input": [
      "tweets = dataframe[['id', 'status', 'user']]\n",
      "tweets['status_strp'] = tweets['status'].map( lambda r : r.strip())\n",
      "tweets"
     ],
     "language": "python",
     "metadata": {},
     "outputs": [
      {
       "output_type": "stream",
       "stream": "stderr",
       "text": [
        "-c:2: SettingWithCopyWarning: \n",
        "A value is trying to be set on a copy of a slice from a DataFrame.\n",
        "Try using .loc[row_indexer,col_indexer] = value instead\n",
        "\n",
        "See the the caveats in the documentation: http://pandas.pydata.org/pandas-docs/stable/indexing.html#indexing-view-versus-copy\n"
       ]
      },
      {
       "html": [
        "<div style=\"max-height:1000px;max-width:1500px;overflow:auto;\">\n",
        "<table border=\"1\" class=\"dataframe\">\n",
        "  <thead>\n",
        "    <tr style=\"text-align: right;\">\n",
        "      <th></th>\n",
        "      <th>id</th>\n",
        "      <th>status</th>\n",
        "      <th>user</th>\n",
        "      <th>status_strp</th>\n",
        "    </tr>\n",
        "  </thead>\n",
        "  <tbody>\n",
        "    <tr>\n",
        "      <th>0  </th>\n",
        "      <td> 568058407606984706</td>\n",
        "      <td>                @lastminute_com #lustminute cheeky</td>\n",
        "      <td>   @pinkwinkgirly</td>\n",
        "      <td>                @lastminute_com #lustminute cheeky</td>\n",
        "    </tr>\n",
        "    <tr>\n",
        "      <th>1  </th>\n",
        "      <td> 568058411969069057</td>\n",
        "      <td>       Not even comfortable in my own skin anymore</td>\n",
        "      <td>        @sineaady</td>\n",
        "      <td>       Not even comfortable in my own skin anymore</td>\n",
        "    </tr>\n",
        "    <tr>\n",
        "      <th>2  </th>\n",
        "      <td> 568058414439538688</td>\n",
        "      <td> Weather like this, my day off &amp;amp; I have not...</td>\n",
        "      <td>    @ChloeLarkman</td>\n",
        "      <td> Weather like this, my day off &amp;amp; I have not...</td>\n",
        "    </tr>\n",
        "    <tr>\n",
        "      <th>3  </th>\n",
        "      <td> 568058437793239041</td>\n",
        "      <td> I have a great tumblr if you can look past all...</td>\n",
        "      <td>       @slushybub</td>\n",
        "      <td> I have a great tumblr if you can look past all...</td>\n",
        "    </tr>\n",
        "    <tr>\n",
        "      <th>4  </th>\n",
        "      <td> 568058440930725888</td>\n",
        "      <td>                            http://t.co/oXvf5LIR1W</td>\n",
        "      <td>    @ppjbbrightx1</td>\n",
        "      <td>                            http://t.co/oXvf5LIR1W</td>\n",
        "    </tr>\n",
        "    <tr>\n",
        "      <th>5  </th>\n",
        "      <td> 568058458332901378</td>\n",
        "      <td>                       What a beautiful day \u2600\ufe0f\u2600\ufe0f\u2600\ufe0f</td>\n",
        "      <td>     @alaynajayne</td>\n",
        "      <td>                       What a beautiful day \u2600\ufe0f\u2600\ufe0f\u2600\ufe0f</td>\n",
        "    </tr>\n",
        "    <tr>\n",
        "      <th>6  </th>\n",
        "      <td> 568058470244753408</td>\n",
        "      <td> Great views to wake up to when staying at #Viz...</td>\n",
        "      <td>     @ShortstayMK</td>\n",
        "      <td> Great views to wake up to when staying at #Viz...</td>\n",
        "    </tr>\n",
        "    <tr>\n",
        "      <th>7  </th>\n",
        "      <td> 568058474325778432</td>\n",
        "      <td>                               Such a good day\ud83d\ude02\ud83d\udc6f\u263a\ufe0f</td>\n",
        "      <td>      @em15_emily</td>\n",
        "      <td>                               Such a good day\ud83d\ude02\ud83d\udc6f\u263a\ufe0f</td>\n",
        "    </tr>\n",
        "    <tr>\n",
        "      <th>8  </th>\n",
        "      <td> 568058475504381953</td>\n",
        "      <td> @Cuthbert96 @benbeardsley1 double dip inside m...</td>\n",
        "      <td>         @Brads97</td>\n",
        "      <td> @Cuthbert96 @benbeardsley1 double dip inside m...</td>\n",
        "    </tr>\n",
        "    <tr>\n",
        "      <th>9  </th>\n",
        "      <td> 568058486829010944</td>\n",
        "      <td> #QT with my boys @ Hill Head Seafront http://t...</td>\n",
        "      <td>  @GloveBoxGlover</td>\n",
        "      <td> #QT with my boys @ Hill Head Seafront http://t...</td>\n",
        "    </tr>\n",
        "    <tr>\n",
        "      <th>10 </th>\n",
        "      <td> 568058491014942721</td>\n",
        "      <td>                            http://t.co/0PQtGqdalN</td>\n",
        "      <td>    @ppjbbrightx1</td>\n",
        "      <td>                            http://t.co/0PQtGqdalN</td>\n",
        "    </tr>\n",
        "    <tr>\n",
        "      <th>11 </th>\n",
        "      <td> 568058495146328064</td>\n",
        "      <td> A beautiful day in Yarmouth. Thanks to Wightli...</td>\n",
        "      <td>    @orchardspark</td>\n",
        "      <td> A beautiful day in Yarmouth. Thanks to Wightli...</td>\n",
        "    </tr>\n",
        "    <tr>\n",
        "      <th>12 </th>\n",
        "      <td> 568058497843265536</td>\n",
        "      <td> Hey @jacek_rzrz Check out @MarlaCFO the @rapid...</td>\n",
        "      <td>   @SuitablySally</td>\n",
        "      <td> Hey @jacek_rzrz Check out @MarlaCFO the @rapid...</td>\n",
        "    </tr>\n",
        "    <tr>\n",
        "      <th>13 </th>\n",
        "      <td> 568058504294084608</td>\n",
        "      <td> Options Admin - we want to help turn your admi...</td>\n",
        "      <td>   @ElaineGarnham</td>\n",
        "      <td> Options Admin - we want to help turn your admi...</td>\n",
        "    </tr>\n",
        "    <tr>\n",
        "      <th>14 </th>\n",
        "      <td> 568058504185028608</td>\n",
        "      <td>                      @sandiwich11 Thanks Sandi xx</td>\n",
        "      <td>        @AnninLoC</td>\n",
        "      <td>                      @sandiwich11 Thanks Sandi xx</td>\n",
        "    </tr>\n",
        "    <tr>\n",
        "      <th>15 </th>\n",
        "      <td> 568058543796039680</td>\n",
        "      <td>      My dog is not only gay but has OCD as well \ud83d\ude02</td>\n",
        "      <td>     @HodgeJoseph</td>\n",
        "      <td>      My dog is not only gay but has OCD as well \ud83d\ude02</td>\n",
        "    </tr>\n",
        "    <tr>\n",
        "      <th>16 </th>\n",
        "      <td> 568058548774694912</td>\n",
        "      <td> @edwest Mainly debunked. Sorry.http://t.co/q0f...</td>\n",
        "      <td> @VeryBritishDude</td>\n",
        "      <td> @edwest Mainly debunked. Sorry.http://t.co/q0f...</td>\n",
        "    </tr>\n",
        "    <tr>\n",
        "      <th>17 </th>\n",
        "      <td> 568058548648861696</td>\n",
        "      <td> First Milk brings in A and B pricing formula |...</td>\n",
        "      <td> @FarmersGuardian</td>\n",
        "      <td> First Milk brings in A and B pricing formula |...</td>\n",
        "    </tr>\n",
        "    <tr>\n",
        "      <th>18 </th>\n",
        "      <td> 568058554588008448</td>\n",
        "      <td> Latest @Armyfa1888 lead 3 - 0 over Navy after ...</td>\n",
        "      <td>       @richwbfbs</td>\n",
        "      <td> Latest @Armyfa1888 lead 3 - 0 over Navy after ...</td>\n",
        "    </tr>\n",
        "    <tr>\n",
        "      <th>19 </th>\n",
        "      <td> 568058561928024064</td>\n",
        "      <td>                            http://t.co/ZuDXzOe5ZX</td>\n",
        "      <td>    @ppjbbrightx1</td>\n",
        "      <td>                            http://t.co/ZuDXzOe5ZX</td>\n",
        "    </tr>\n",
        "    <tr>\n",
        "      <th>20 </th>\n",
        "      <td> 568058567997202432</td>\n",
        "      <td> Mi servir\u00e0 un trapianto di cuore se continuo a...</td>\n",
        "      <td> @themefrompinata</td>\n",
        "      <td> Mi servir\u00e0 un trapianto di cuore se continuo a...</td>\n",
        "    </tr>\n",
        "    <tr>\n",
        "      <th>21 </th>\n",
        "      <td> 568058576062812160</td>\n",
        "      <td> I can't wait for the weekend!!! @joeinpz wanna...</td>\n",
        "      <td>      @EllaBullet</td>\n",
        "      <td> I can't wait for the weekend!!! @joeinpz wanna...</td>\n",
        "    </tr>\n",
        "    <tr>\n",
        "      <th>22 </th>\n",
        "      <td> 568058576612274176</td>\n",
        "      <td>           @chichiclothing stunning dress #perfect</td>\n",
        "      <td>   @pinkwinkgirly</td>\n",
        "      <td>           @chichiclothing stunning dress #perfect</td>\n",
        "    </tr>\n",
        "    <tr>\n",
        "      <th>23 </th>\n",
        "      <td> 568058580731092992</td>\n",
        "      <td> @ChevelleBaxter @daaaniellegates what is it?Do...</td>\n",
        "      <td>   @newtattooshow</td>\n",
        "      <td> @ChevelleBaxter @daaaniellegates what is it?Do...</td>\n",
        "    </tr>\n",
        "    <tr>\n",
        "      <th>24 </th>\n",
        "      <td> 568058588977098752</td>\n",
        "      <td>                                   @uzair_baig lol</td>\n",
        "      <td>  @alisha11781587</td>\n",
        "      <td>                                   @uzair_baig lol</td>\n",
        "    </tr>\n",
        "    <tr>\n",
        "      <th>25 </th>\n",
        "      <td> 568058599848742912</td>\n",
        "      <td>                              amazing spiderman ^^</td>\n",
        "      <td>   @Asdfghjulskie</td>\n",
        "      <td>                              amazing spiderman ^^</td>\n",
        "    </tr>\n",
        "    <tr>\n",
        "      <th>26 </th>\n",
        "      <td> 568058606224076800</td>\n",
        "      <td> @gbankuti Well spotted. I'd already fixed that...</td>\n",
        "      <td>    @shjackcharts</td>\n",
        "      <td> @gbankuti Well spotted. I'd already fixed that...</td>\n",
        "    </tr>\n",
        "    <tr>\n",
        "      <th>27 </th>\n",
        "      <td> 568058623462641664</td>\n",
        "      <td>                            http://t.co/76DoaG37rS</td>\n",
        "      <td>    @ppjbbrightx1</td>\n",
        "      <td>                            http://t.co/76DoaG37rS</td>\n",
        "    </tr>\n",
        "    <tr>\n",
        "      <th>28 </th>\n",
        "      <td> 568058646074150912</td>\n",
        "      <td>                                 @TammyBlackshaw \ud83d\ude18</td>\n",
        "      <td>        @_JSWEETS</td>\n",
        "      <td>                                 @TammyBlackshaw \ud83d\ude18</td>\n",
        "    </tr>\n",
        "    <tr>\n",
        "      <th>29 </th>\n",
        "      <td> 568058653116383233</td>\n",
        "      <td>                         @S_Wigglesworth1 @smoke99</td>\n",
        "      <td>  @AimiMcglinchey</td>\n",
        "      <td>                         @S_Wigglesworth1 @smoke99</td>\n",
        "    </tr>\n",
        "    <tr>\n",
        "      <th>...</th>\n",
        "      <td>...</td>\n",
        "      <td>...</td>\n",
        "      <td>...</td>\n",
        "      <td>...</td>\n",
        "    </tr>\n",
        "    <tr>\n",
        "      <th>925</th>\n",
        "      <td> 568067801111519232</td>\n",
        "      <td>                     @yeban_prosto \u043f\u0440\u043e\u0434\u043e\u043b\u0436\u0430\u0439 \u0442\u043e\u0433\u0434\u0430</td>\n",
        "      <td>  @beware_rotters</td>\n",
        "      <td>                     @yeban_prosto \u043f\u0440\u043e\u0434\u043e\u043b\u0436\u0430\u0439 \u0442\u043e\u0433\u0434\u0430</td>\n",
        "    </tr>\n",
        "    <tr>\n",
        "      <th>926</th>\n",
        "      <td> 568067816068390912</td>\n",
        "      <td>                  Is this guy for real #JeremyKyle</td>\n",
        "      <td>   @Joshua_Brough</td>\n",
        "      <td>                  Is this guy for real #JeremyKyle</td>\n",
        "    </tr>\n",
        "    <tr>\n",
        "      <th>927</th>\n",
        "      <td> 568067815753818112</td>\n",
        "      <td> Nearly just took out a learner driver on my st...</td>\n",
        "      <td>   @megansolomons</td>\n",
        "      <td> Nearly just took out a learner driver on my st...</td>\n",
        "    </tr>\n",
        "    <tr>\n",
        "      <th>928</th>\n",
        "      <td> 568067819377721344</td>\n",
        "      <td>   39 dni a budu v paradise http://t.co/fT1Yn92SFN</td>\n",
        "      <td>       @EBudinova</td>\n",
        "      <td>   39 dni a budu v paradise http://t.co/fT1Yn92SFN</td>\n",
        "    </tr>\n",
        "    <tr>\n",
        "      <th>929</th>\n",
        "      <td> 568067826218618880</td>\n",
        "      <td> @BrianCAlbrecht sorry i am an ignorant macro g...</td>\n",
        "      <td> @Molto_Vivace_88</td>\n",
        "      <td> @BrianCAlbrecht sorry i am an ignorant macro g...</td>\n",
        "    </tr>\n",
        "    <tr>\n",
        "      <th>930</th>\n",
        "      <td> 568067830433886208</td>\n",
        "      <td>                       Such a nice day for driving</td>\n",
        "      <td>           @MegQ1</td>\n",
        "      <td>                       Such a nice day for driving</td>\n",
        "    </tr>\n",
        "    <tr>\n",
        "      <th>931</th>\n",
        "      <td> 568067838570835968</td>\n",
        "      <td> @chibicloud1 @Madnessuprising @Kaiyarrr I DID ...</td>\n",
        "      <td>     @chibicloud1</td>\n",
        "      <td> @chibicloud1 @Madnessuprising @Kaiyarrr I DID ...</td>\n",
        "    </tr>\n",
        "    <tr>\n",
        "      <th>932</th>\n",
        "      <td> 568067852986671104</td>\n",
        "      <td>  Mam wrazenie jakbym Ja znala conajmniej z 3 lata</td>\n",
        "      <td>  @calumsbaebitch</td>\n",
        "      <td>  Mam wrazenie jakbym Ja znala conajmniej z 3 lata</td>\n",
        "    </tr>\n",
        "    <tr>\n",
        "      <th>933</th>\n",
        "      <td> 568067854316249088</td>\n",
        "      <td> @HampshireFA gave it a go - thanks for the det...</td>\n",
        "      <td>      @MartynReah</td>\n",
        "      <td> @HampshireFA gave it a go - thanks for the det...</td>\n",
        "    </tr>\n",
        "    <tr>\n",
        "      <th>934</th>\n",
        "      <td> 568067859403784193</td>\n",
        "      <td> Singing success for #Uppingham Children\u2019s Choi...</td>\n",
        "      <td>        @Rutland_</td>\n",
        "      <td> Singing success for #Uppingham Children\u2019s Choi...</td>\n",
        "    </tr>\n",
        "    <tr>\n",
        "      <th>935</th>\n",
        "      <td> 568067860226048001</td>\n",
        "      <td> Amazing to see so many here at campus clash at...</td>\n",
        "      <td>   @staffs_louise</td>\n",
        "      <td> Amazing to see so many here at campus clash at...</td>\n",
        "    </tr>\n",
        "    <tr>\n",
        "      <th>936</th>\n",
        "      <td> 568067884037087232</td>\n",
        "      <td>                               Eaten loads today \ud83d\ude1f</td>\n",
        "      <td>     @Saamantha_A</td>\n",
        "      <td>                               Eaten loads today \ud83d\ude1f</td>\n",
        "    </tr>\n",
        "    <tr>\n",
        "      <th>937</th>\n",
        "      <td> 568067906543747072</td>\n",
        "      <td>                      \ud83d\udc98\ud83d\ude0f\ud83d\udc98\ud83c\udf1a\ud83c\udf1a http://t.co/RQwNcXhajM</td>\n",
        "      <td>       @jasminacr</td>\n",
        "      <td>                      \ud83d\udc98\ud83d\ude0f\ud83d\udc98\ud83c\udf1a\ud83c\udf1a http://t.co/RQwNcXhajM</td>\n",
        "    </tr>\n",
        "    <tr>\n",
        "      <th>938</th>\n",
        "      <td> 568067950374232064</td>\n",
        "      <td> I will not hear any shit spoken about Dragon A...</td>\n",
        "      <td>   @sammysummer13</td>\n",
        "      <td> I will not hear any shit spoken about Dragon A...</td>\n",
        "    </tr>\n",
        "    <tr>\n",
        "      <th>939</th>\n",
        "      <td> 568067951196282880</td>\n",
        "      <td> @jacobAfrost he told me about this awesome guy...</td>\n",
        "      <td>     @HodgeJoseph</td>\n",
        "      <td> @jacobAfrost he told me about this awesome guy...</td>\n",
        "    </tr>\n",
        "    <tr>\n",
        "      <th>940</th>\n",
        "      <td> 568067960843182080</td>\n",
        "      <td> This is why mums should never go to Iceland ht...</td>\n",
        "      <td>          @_StewC</td>\n",
        "      <td> This is why mums should never go to Iceland ht...</td>\n",
        "    </tr>\n",
        "    <tr>\n",
        "      <th>941</th>\n",
        "      <td> 568067981944741888</td>\n",
        "      <td> Whooooooops lol great typo to send to my boss ...</td>\n",
        "      <td> @emilypartington</td>\n",
        "      <td> Whooooooops lol great typo to send to my boss ...</td>\n",
        "    </tr>\n",
        "    <tr>\n",
        "      <th>942</th>\n",
        "      <td> 568067987833532416</td>\n",
        "      <td> \u201c@amb_bates: @sophieeeeosborn alright sam\u201d @Mc...</td>\n",
        "      <td> @sophieeeeosborn</td>\n",
        "      <td> \u201c@amb_bates: @sophieeeeosborn alright sam\u201d @Mc...</td>\n",
        "    </tr>\n",
        "    <tr>\n",
        "      <th>943</th>\n",
        "      <td> 568067988320067584</td>\n",
        "      <td> @orozcoly1 Chaves y Gri\u00f1an los elegidos, T\u00f3mas...</td>\n",
        "      <td>       @vichamsan</td>\n",
        "      <td> @orozcoly1 Chaves y Gri\u00f1an los elegidos, T\u00f3mas...</td>\n",
        "    </tr>\n",
        "    <tr>\n",
        "      <th>944</th>\n",
        "      <td> 568067997648224256</td>\n",
        "      <td>            @ThisIsEllisHere should of come babe!!</td>\n",
        "      <td>     @HodgeJoseph</td>\n",
        "      <td>            @ThisIsEllisHere should of come babe!!</td>\n",
        "    </tr>\n",
        "    <tr>\n",
        "      <th>945</th>\n",
        "      <td> 568068044787990528</td>\n",
        "      <td> @localmagazines Grange Park Food and Drink fes...</td>\n",
        "      <td>      @HobbyCooks</td>\n",
        "      <td> @localmagazines Grange Park Food and Drink fes...</td>\n",
        "    </tr>\n",
        "    <tr>\n",
        "      <th>946</th>\n",
        "      <td> 568068072260706304</td>\n",
        "      <td> Never going to be a tupperware saddo, but I ha...</td>\n",
        "      <td>          @gfreeb</td>\n",
        "      <td> Never going to be a tupperware saddo, but I ha...</td>\n",
        "    </tr>\n",
        "    <tr>\n",
        "      <th>947</th>\n",
        "      <td> 568068089910333440</td>\n",
        "      <td>              @unicornlizz getting there thanks :)</td>\n",
        "      <td>       @OliDillon</td>\n",
        "      <td>              @unicornlizz getting there thanks :)</td>\n",
        "    </tr>\n",
        "    <tr>\n",
        "      <th>948</th>\n",
        "      <td> 568068096772210691</td>\n",
        "      <td> we can't be, we can never be, too many bitter ...</td>\n",
        "      <td>  @twickerschick_</td>\n",
        "      <td> we can't be, we can never be, too many bitter ...</td>\n",
        "    </tr>\n",
        "    <tr>\n",
        "      <th>949</th>\n",
        "      <td> 568068110890242048</td>\n",
        "      <td> @producerjacob there's a bevvy of beautiful vo...</td>\n",
        "      <td>       @Folkstock</td>\n",
        "      <td> @producerjacob there's a bevvy of beautiful vo...</td>\n",
        "    </tr>\n",
        "    <tr>\n",
        "      <th>950</th>\n",
        "      <td> 568068150077599744</td>\n",
        "      <td> @waitrose I threw out the packaging and receip...</td>\n",
        "      <td>    @hellyeahetta</td>\n",
        "      <td> @waitrose I threw out the packaging and receip...</td>\n",
        "    </tr>\n",
        "    <tr>\n",
        "      <th>951</th>\n",
        "      <td> 568068182654775297</td>\n",
        "      <td> Its London time babe!!\ud83d\ude1c (@ London Stansted Air...</td>\n",
        "      <td>   @edujalexander</td>\n",
        "      <td> Its London time babe!!\ud83d\ude1c (@ London Stansted Air...</td>\n",
        "    </tr>\n",
        "    <tr>\n",
        "      <th>952</th>\n",
        "      <td> 568068183397167104</td>\n",
        "      <td> @Schofe Brings a whole new meaning to making a...</td>\n",
        "      <td>         @pH_ints</td>\n",
        "      <td> @Schofe Brings a whole new meaning to making a...</td>\n",
        "    </tr>\n",
        "    <tr>\n",
        "      <th>953</th>\n",
        "      <td> 568068192519774208</td>\n",
        "      <td> @_harrietharvey tibetan mastiffs are far bette...</td>\n",
        "      <td>     @HodgeJoseph</td>\n",
        "      <td> @_harrietharvey tibetan mastiffs are far bette...</td>\n",
        "    </tr>\n",
        "    <tr>\n",
        "      <th>954</th>\n",
        "      <td> 568068216150462465</td>\n",
        "      <td> and I wish we never did it, and I wish we neve...</td>\n",
        "      <td>  @twickerschick_</td>\n",
        "      <td> and I wish we never did it, and I wish we neve...</td>\n",
        "    </tr>\n",
        "  </tbody>\n",
        "</table>\n",
        "<p>955 rows \u00d7 4 columns</p>\n",
        "</div>"
       ],
       "metadata": {},
       "output_type": "pyout",
       "prompt_number": 3,
       "text": [
        "                     id                                             status  \\\n",
        "0    568058407606984706                 @lastminute_com #lustminute cheeky   \n",
        "1    568058411969069057        Not even comfortable in my own skin anymore   \n",
        "2    568058414439538688  Weather like this, my day off &amp; I have not...   \n",
        "3    568058437793239041  I have a great tumblr if you can look past all...   \n",
        "4    568058440930725888                             http://t.co/oXvf5LIR1W   \n",
        "5    568058458332901378                        What a beautiful day \u2600\ufe0f\u2600\ufe0f\u2600\ufe0f   \n",
        "6    568058470244753408  Great views to wake up to when staying at #Viz...   \n",
        "7    568058474325778432                                Such a good day\ud83d\ude02\ud83d\udc6f\u263a\ufe0f   \n",
        "8    568058475504381953  @Cuthbert96 @benbeardsley1 double dip inside m...   \n",
        "9    568058486829010944  #QT with my boys @ Hill Head Seafront http://t...   \n",
        "10   568058491014942721                             http://t.co/0PQtGqdalN   \n",
        "11   568058495146328064  A beautiful day in Yarmouth. Thanks to Wightli...   \n",
        "12   568058497843265536  Hey @jacek_rzrz Check out @MarlaCFO the @rapid...   \n",
        "13   568058504294084608  Options Admin - we want to help turn your admi...   \n",
        "14   568058504185028608                       @sandiwich11 Thanks Sandi xx   \n",
        "15   568058543796039680       My dog is not only gay but has OCD as well \ud83d\ude02   \n",
        "16   568058548774694912  @edwest Mainly debunked. Sorry.http://t.co/q0f...   \n",
        "17   568058548648861696  First Milk brings in A and B pricing formula |...   \n",
        "18   568058554588008448  Latest @Armyfa1888 lead 3 - 0 over Navy after ...   \n",
        "19   568058561928024064                             http://t.co/ZuDXzOe5ZX   \n",
        "20   568058567997202432  Mi servir\u00e0 un trapianto di cuore se continuo a...   \n",
        "21   568058576062812160  I can't wait for the weekend!!! @joeinpz wanna...   \n",
        "22   568058576612274176            @chichiclothing stunning dress #perfect   \n",
        "23   568058580731092992  @ChevelleBaxter @daaaniellegates what is it?Do...   \n",
        "24   568058588977098752                                    @uzair_baig lol   \n",
        "25   568058599848742912                               amazing spiderman ^^   \n",
        "26   568058606224076800  @gbankuti Well spotted. I'd already fixed that...   \n",
        "27   568058623462641664                             http://t.co/76DoaG37rS   \n",
        "28   568058646074150912                                  @TammyBlackshaw \ud83d\ude18   \n",
        "29   568058653116383233                          @S_Wigglesworth1 @smoke99   \n",
        "..                  ...                                                ...   \n",
        "925  568067801111519232                      @yeban_prosto \u043f\u0440\u043e\u0434\u043e\u043b\u0436\u0430\u0439 \u0442\u043e\u0433\u0434\u0430   \n",
        "926  568067816068390912                   Is this guy for real #JeremyKyle   \n",
        "927  568067815753818112  Nearly just took out a learner driver on my st...   \n",
        "928  568067819377721344    39 dni a budu v paradise http://t.co/fT1Yn92SFN   \n",
        "929  568067826218618880  @BrianCAlbrecht sorry i am an ignorant macro g...   \n",
        "930  568067830433886208                        Such a nice day for driving   \n",
        "931  568067838570835968  @chibicloud1 @Madnessuprising @Kaiyarrr I DID ...   \n",
        "932  568067852986671104   Mam wrazenie jakbym Ja znala conajmniej z 3 lata   \n",
        "933  568067854316249088  @HampshireFA gave it a go - thanks for the det...   \n",
        "934  568067859403784193  Singing success for #Uppingham Children\u2019s Choi...   \n",
        "935  568067860226048001  Amazing to see so many here at campus clash at...   \n",
        "936  568067884037087232                                Eaten loads today \ud83d\ude1f   \n",
        "937  568067906543747072                       \ud83d\udc98\ud83d\ude0f\ud83d\udc98\ud83c\udf1a\ud83c\udf1a http://t.co/RQwNcXhajM   \n",
        "938  568067950374232064  I will not hear any shit spoken about Dragon A...   \n",
        "939  568067951196282880  @jacobAfrost he told me about this awesome guy...   \n",
        "940  568067960843182080  This is why mums should never go to Iceland ht...   \n",
        "941  568067981944741888  Whooooooops lol great typo to send to my boss ...   \n",
        "942  568067987833532416  \u201c@amb_bates: @sophieeeeosborn alright sam\u201d @Mc...   \n",
        "943  568067988320067584  @orozcoly1 Chaves y Gri\u00f1an los elegidos, T\u00f3mas...   \n",
        "944  568067997648224256             @ThisIsEllisHere should of come babe!!   \n",
        "945  568068044787990528  @localmagazines Grange Park Food and Drink fes...   \n",
        "946  568068072260706304  Never going to be a tupperware saddo, but I ha...   \n",
        "947  568068089910333440               @unicornlizz getting there thanks :)   \n",
        "948  568068096772210691  we can't be, we can never be, too many bitter ...   \n",
        "949  568068110890242048  @producerjacob there's a bevvy of beautiful vo...   \n",
        "950  568068150077599744  @waitrose I threw out the packaging and receip...   \n",
        "951  568068182654775297  Its London time babe!!\ud83d\ude1c (@ London Stansted Air...   \n",
        "952  568068183397167104  @Schofe Brings a whole new meaning to making a...   \n",
        "953  568068192519774208  @_harrietharvey tibetan mastiffs are far bette...   \n",
        "954  568068216150462465  and I wish we never did it, and I wish we neve...   \n",
        "\n",
        "                 user                                        status_strp  \n",
        "0      @pinkwinkgirly                 @lastminute_com #lustminute cheeky  \n",
        "1           @sineaady        Not even comfortable in my own skin anymore  \n",
        "2       @ChloeLarkman  Weather like this, my day off &amp; I have not...  \n",
        "3          @slushybub  I have a great tumblr if you can look past all...  \n",
        "4       @ppjbbrightx1                             http://t.co/oXvf5LIR1W  \n",
        "5        @alaynajayne                        What a beautiful day \u2600\ufe0f\u2600\ufe0f\u2600\ufe0f  \n",
        "6        @ShortstayMK  Great views to wake up to when staying at #Viz...  \n",
        "7         @em15_emily                                Such a good day\ud83d\ude02\ud83d\udc6f\u263a\ufe0f  \n",
        "8            @Brads97  @Cuthbert96 @benbeardsley1 double dip inside m...  \n",
        "9     @GloveBoxGlover  #QT with my boys @ Hill Head Seafront http://t...  \n",
        "10      @ppjbbrightx1                             http://t.co/0PQtGqdalN  \n",
        "11      @orchardspark  A beautiful day in Yarmouth. Thanks to Wightli...  \n",
        "12     @SuitablySally  Hey @jacek_rzrz Check out @MarlaCFO the @rapid...  \n",
        "13     @ElaineGarnham  Options Admin - we want to help turn your admi...  \n",
        "14          @AnninLoC                       @sandiwich11 Thanks Sandi xx  \n",
        "15       @HodgeJoseph       My dog is not only gay but has OCD as well \ud83d\ude02  \n",
        "16   @VeryBritishDude  @edwest Mainly debunked. Sorry.http://t.co/q0f...  \n",
        "17   @FarmersGuardian  First Milk brings in A and B pricing formula |...  \n",
        "18         @richwbfbs  Latest @Armyfa1888 lead 3 - 0 over Navy after ...  \n",
        "19      @ppjbbrightx1                             http://t.co/ZuDXzOe5ZX  \n",
        "20   @themefrompinata  Mi servir\u00e0 un trapianto di cuore se continuo a...  \n",
        "21        @EllaBullet  I can't wait for the weekend!!! @joeinpz wanna...  \n",
        "22     @pinkwinkgirly            @chichiclothing stunning dress #perfect  \n",
        "23     @newtattooshow  @ChevelleBaxter @daaaniellegates what is it?Do...  \n",
        "24    @alisha11781587                                    @uzair_baig lol  \n",
        "25     @Asdfghjulskie                               amazing spiderman ^^  \n",
        "26      @shjackcharts  @gbankuti Well spotted. I'd already fixed that...  \n",
        "27      @ppjbbrightx1                             http://t.co/76DoaG37rS  \n",
        "28          @_JSWEETS                                  @TammyBlackshaw \ud83d\ude18  \n",
        "29    @AimiMcglinchey                          @S_Wigglesworth1 @smoke99  \n",
        "..                ...                                                ...  \n",
        "925   @beware_rotters                      @yeban_prosto \u043f\u0440\u043e\u0434\u043e\u043b\u0436\u0430\u0439 \u0442\u043e\u0433\u0434\u0430  \n",
        "926    @Joshua_Brough                   Is this guy for real #JeremyKyle  \n",
        "927    @megansolomons  Nearly just took out a learner driver on my st...  \n",
        "928        @EBudinova    39 dni a budu v paradise http://t.co/fT1Yn92SFN  \n",
        "929  @Molto_Vivace_88  @BrianCAlbrecht sorry i am an ignorant macro g...  \n",
        "930            @MegQ1                        Such a nice day for driving  \n",
        "931      @chibicloud1  @chibicloud1 @Madnessuprising @Kaiyarrr I DID ...  \n",
        "932   @calumsbaebitch   Mam wrazenie jakbym Ja znala conajmniej z 3 lata  \n",
        "933       @MartynReah  @HampshireFA gave it a go - thanks for the det...  \n",
        "934         @Rutland_  Singing success for #Uppingham Children\u2019s Choi...  \n",
        "935    @staffs_louise  Amazing to see so many here at campus clash at...  \n",
        "936      @Saamantha_A                                Eaten loads today \ud83d\ude1f  \n",
        "937        @jasminacr                       \ud83d\udc98\ud83d\ude0f\ud83d\udc98\ud83c\udf1a\ud83c\udf1a http://t.co/RQwNcXhajM  \n",
        "938    @sammysummer13  I will not hear any shit spoken about Dragon A...  \n",
        "939      @HodgeJoseph  @jacobAfrost he told me about this awesome guy...  \n",
        "940           @_StewC  This is why mums should never go to Iceland ht...  \n",
        "941  @emilypartington  Whooooooops lol great typo to send to my boss ...  \n",
        "942  @sophieeeeosborn  \u201c@amb_bates: @sophieeeeosborn alright sam\u201d @Mc...  \n",
        "943        @vichamsan  @orozcoly1 Chaves y Gri\u00f1an los elegidos, T\u00f3mas...  \n",
        "944      @HodgeJoseph             @ThisIsEllisHere should of come babe!!  \n",
        "945       @HobbyCooks  @localmagazines Grange Park Food and Drink fes...  \n",
        "946           @gfreeb  Never going to be a tupperware saddo, but I ha...  \n",
        "947        @OliDillon               @unicornlizz getting there thanks :)  \n",
        "948   @twickerschick_  we can't be, we can never be, too many bitter ...  \n",
        "949        @Folkstock  @producerjacob there's a bevvy of beautiful vo...  \n",
        "950     @hellyeahetta  @waitrose I threw out the packaging and receip...  \n",
        "951    @edujalexander  Its London time babe!!\ud83d\ude1c (@ London Stansted Air...  \n",
        "952          @pH_ints  @Schofe Brings a whole new meaning to making a...  \n",
        "953      @HodgeJoseph  @_harrietharvey tibetan mastiffs are far bette...  \n",
        "954   @twickerschick_  and I wish we never did it, and I wish we neve...  \n",
        "\n",
        "[955 rows x 4 columns]"
       ]
      }
     ],
     "prompt_number": 3
    },
    {
     "cell_type": "code",
     "collapsed": false,
     "input": [
      "import collections\n",
      "import vincent\n",
      "import re\n",
      "vincent.core.initialize_notebook()\n",
      "\n",
      "counter = collections.Counter()\n",
      "\n",
      "import stopwords\n",
      "\n",
      "stop_dict = {w: True for w in stopwords.WORDS}\n",
      "\n",
      "re_handtagurl = re.compile(r'^(\\@|\\#|http\\:\\/\\/).*$', re.I)\n",
      "\n",
      "def count_words(text):\n",
      "    for w in text.split():\n",
      "        w= w.strip().lower()\n",
      "        if not w in stop_dict and len(w) > 4:\n",
      "                if not re_handtagurl.match(w):\n",
      "                    counter[w] += 1\n",
      "tweets[\"status_strp\"].apply(count_words)\n",
      "normalize = lambda x: int(x / (max(counter.values()) - min(counter.values())) * 90 + 10)\n",
      "word_list = {k: normalize(v) for k, v in counter.items()}\n",
      "word = vincent.Word(word_list)\n",
      "word.display() #to_json('wordcloud.json', html_out=True, html_path='word_cloud_template.html')"
     ],
     "language": "python",
     "metadata": {},
     "outputs": [
      {
       "html": [
        "\n",
        "           <script>\n",
        "               \n",
        "                function vct_load_lib(url, callback){\n",
        "                      if(typeof d3 !== 'undefined' &&\n",
        "                         url === 'http://d3js.org/d3.v3.min.js'){\n",
        "                        callback()\n",
        "                      }\n",
        "                      var s = document.createElement('script');\n",
        "                      s.src = url;\n",
        "                      s.async = true;\n",
        "                      s.onreadystatechange = s.onload = callback;\n",
        "                      s.onerror = function(){\n",
        "                        console.warn(\"failed to load library \" + url);\n",
        "                        };\n",
        "                      document.getElementsByTagName(\"head\")[0].appendChild(s);\n",
        "                };\n",
        "                var vincent_event = new CustomEvent(\n",
        "                  \"vincent_libs_loaded\",\n",
        "                  {bubbles: true, cancelable: true}\n",
        "                );\n",
        "                \n",
        "               function load_all_libs(){\n",
        "                  console.log('Loading Vincent libs...')\n",
        "                  vct_load_lib('http://d3js.org/d3.v3.min.js', function(){\n",
        "                  vct_load_lib('http://d3js.org/d3.geo.projection.v0.min.js', function(){\n",
        "                  vct_load_lib('http://wrobstory.github.io/d3-cloud/d3.layout.cloud.js', function(){\n",
        "                  vct_load_lib('http://wrobstory.github.io/vega/vega.v1.3.3.js', function(){\n",
        "                  window.dispatchEvent(vincent_event);\n",
        "                  });\n",
        "                  });\n",
        "                  });\n",
        "                  });\n",
        "               };\n",
        "               if(typeof define === \"function\" && define.amd){\n",
        "                    if (window['d3'] === undefined ||\n",
        "                        window['topojson'] === undefined){\n",
        "                        require.config(\n",
        "                            {paths: {\n",
        "                              d3: 'http://d3js.org/d3.v3.min',\n",
        "                              topojson: 'http://d3js.org/topojson.v1.min'\n",
        "                              }\n",
        "                            }\n",
        "                          );\n",
        "                        require([\"d3\"], function(d3){\n",
        "                            console.log('Loading Vincent from require.js...')\n",
        "                            window.d3 = d3;\n",
        "                            require([\"topojson\"], function(topojson){\n",
        "                                window.topojson = topojson;\n",
        "                                load_all_libs();\n",
        "                            });\n",
        "                        });\n",
        "                    } else {\n",
        "                        load_all_libs();\n",
        "                    };\n",
        "               }else{\n",
        "                    console.log('Require.js not found, loading manually...')\n",
        "                    load_all_libs();\n",
        "               };\n",
        "\n",
        "           </script>"
       ],
       "metadata": {},
       "output_type": "display_data",
       "text": [
        "<IPython.core.display.HTML at 0x7ffe9c71b110>"
       ]
      },
      {
       "html": [
        "<div id=\"visa82493d2d14d4b1689685719f43ee848\"></div>\n",
        "<script>\n",
        "   ( function() {\n",
        "     var _do_plot = function() {\n",
        "       if (typeof vg === 'undefined') {\n",
        "         window.addEventListener('vincent_libs_loaded', _do_plot)\n",
        "         return;\n",
        "       }\n",
        "       vg.parse.spec({\"axes\": [], \"data\": [{\"name\": \"table\", \"transform\": [{\"font\": \"Helvetica Neue\", \"fontSize\": \"data.val\", \"rotate\": {\"random\": [-90, -60, -30, 0, 30, 60]}, \"text\": \"data.idx\", \"type\": \"wordcloud\"}], \"values\": [{\"col\": \"data\", \"idx\": \"!!!!!\", \"val\": 10}, {\"col\": \"data\", \"idx\": \"!https://t.co/u8lcg1zmiw\", \"val\": 10}, {\"col\": \"data\", \"idx\": \"\\\"@4qm67vup291i0\", \"val\": 10}, {\"col\": \"data\", \"idx\": \"\\\"@benjaminlhp\", \"val\": 10}, {\"col\": \"data\", \"idx\": \"\\\"banana\\\"...\", \"val\": 10}, {\"col\": \"data\", \"idx\": \"\\\"excuse\", \"val\": 10}, {\"col\": \"data\", \"idx\": \"\\\"futures\", \"val\": 10}, {\"col\": \"data\", \"idx\": \"\\\"proud\", \"val\": 10}, {\"col\": \"data\", \"idx\": \"\\\"safe\", \"val\": 10}, {\"col\": \"data\", \"idx\": \"\\\"scared\\\"\", \"val\": 10}, {\"col\": \"data\", \"idx\": \"\\\"send\", \"val\": 10}, {\"col\": \"data\", \"idx\": \"\\\"share\", \"val\": 10}, {\"col\": \"data\", \"idx\": \"\\\"she's\", \"val\": 10}, {\"col\": \"data\", \"idx\": \"\\\"shit\\\"\", \"val\": 10}, {\"col\": \"data\", \"idx\": \"\\\"sorbete\", \"val\": 10}, {\"col\": \"data\", \"idx\": \"\\\"starry\", \"val\": 10}, {\"col\": \"data\", \"idx\": \"\\\"theres\", \"val\": 10}, {\"col\": \"data\", \"idx\": \"\\\"warren\", \"val\": 10}, {\"col\": \"data\", \"idx\": \"\\\"we\\\"?\", \"val\": 10}, {\"col\": \"data\", \"idx\": \"\\\"where\", \"val\": 10}, {\"col\": \"data\", \"idx\": \"&amp;his\", \"val\": 10}, {\"col\": \"data\", \"idx\": \"&gt;mark\", \"val\": 10}, {\"col\": \"data\", \"idx\": \"&lt;333\", \"val\": 10}, {\"col\": \"data\", \"idx\": \"'about\", \"val\": 10}, {\"col\": \"data\", \"idx\": \"'added\", \"val\": 10}, {\"col\": \"data\", \"idx\": \"'cause\", \"val\": 10}, {\"col\": \"data\", \"idx\": \"'coffee'?\", \"val\": 10}, {\"col\": \"data\", \"idx\": \"'dive'.\", \"val\": 10}, {\"col\": \"data\", \"idx\": \"'helper'\", \"val\": 10}, {\"col\": \"data\", \"idx\": \"'hitting'??\", \"val\": 10}, {\"col\": \"data\", \"idx\": \"'nap'\", \"val\": 10}, {\"col\": \"data\", \"idx\": \"'polemical'\", \"val\": 10}, {\"col\": \"data\", \"idx\": \"'potential'\", \"val\": 10}, {\"col\": \"data\", \"idx\": \"'reachout'\", \"val\": 10}, {\"col\": \"data\", \"idx\": \"'slow'\", \"val\": 10}, {\"col\": \"data\", \"idx\": \"'sports\", \"val\": 10}, {\"col\": \"data\", \"idx\": \"(@adtheband)\", \"val\": 10}, {\"col\": \"data\", \"idx\": \"(ave),\", \"val\": 10}, {\"col\": \"data\", \"idx\": \"(east)\", \"val\": 10}, {\"col\": \"data\", \"idx\": \"(enhanced\", \"val\": 10}, {\"col\": \"data\", \"idx\": \"(gust),\", \"val\": 10}, {\"col\": \"data\", \"idx\": \"(hourly)\", \"val\": 10}, {\"col\": \"data\", \"idx\": \"(i'll\", \"val\": 10}, {\"col\": \"data\", \"idx\": \"(minor\", \"val\": 10}, {\"col\": \"data\", \"idx\": \"(particularly\", \"val\": 10}, {\"col\": \"data\", \"idx\": \"(r.o.i.)\", \"val\": 10}, {\"col\": \"data\", \"idx\": \"(stn)\", \"val\": 10}, {\"col\": \"data\", \"idx\": \"(\\u00a313,999,\", \"val\": 10}, {\"col\": \"data\", \"idx\": \"*chuuuuu\", \"val\": 10}, {\"col\": \"data\", \"idx\": \"*facepalm\", \"val\": 10}, {\"col\": \"data\", \"idx\": \"*headdesk\", \"val\": 10}, {\"col\": \"data\", \"idx\": \"*rolls\", \"val\": 10}, {\"col\": \"data\", \"idx\": \"*what\", \"val\": 10}, {\"col\": \"data\", \"idx\": \"+@minniebirch\", \"val\": 10}, {\"col\": \"data\", \"idx\": \",#cafes\", \"val\": 10}, {\"col\": \"data\", \"idx\": \",20\\u201445\", \"val\": 10}, {\"col\": \"data\", \"idx\": \"-_______-\", \"val\": 10}, {\"col\": \"data\", \"idx\": \".......\", \"val\": 10}, {\"col\": \"data\", \"idx\": \"....oh\", \"val\": 10}, {\"col\": \"data\", \"idx\": \"....remind\", \"val\": 10}, {\"col\": \"data\", \"idx\": \"...who\", \"val\": 10}, {\"col\": \"data\", \"idx\": \"..draw\", \"val\": 10}, {\"col\": \"data\", \"idx\": \"..here\", \"val\": 10}, {\"col\": \"data\", \"idx\": \".@diytoolkitm,\", \"val\": 10}, {\"col\": \"data\", \"idx\": \".@sovahealthcare\", \"val\": 10}, {\"col\": \"data\", \"idx\": \".@thringslaw\", \"val\": 10}, {\"col\": \"data\", \"idx\": \".horder\", \"val\": 10}, {\"col\": \"data\", \"idx\": \"/////\", \"val\": 10}, {\"col\": \"data\", \"idx\": \"/1\\u201di've\", \"val\": 10}, {\"col\": \"data\", \"idx\": \"0.0mm.pressure:\", \"val\": 10}, {\"col\": \"data\", \"idx\": \"01296\", \"val\": 10}, {\"col\": \"data\", \"idx\": \"01604\", \"val\": 10}, {\"col\": \"data\", \"idx\": \"01753\", \"val\": 10}, {\"col\": \"data\", \"idx\": \"02:57.\", \"val\": 10}, {\"col\": \"data\", \"idx\": \"07763236147\", \"val\": 10}, {\"col\": \"data\", \"idx\": \"07807984506.\", \"val\": 10}, {\"col\": \"data\", \"idx\": \"10.1c\", \"val\": 10}, {\"col\": \"data\", \"idx\": \"10.7\\u00b0c,\", \"val\": 10}, {\"col\": \"data\", \"idx\": \"100%...\", \"val\": 10}, {\"col\": \"data\", \"idx\": \"1027.5\", \"val\": 10}, {\"col\": \"data\", \"idx\": \"1032.65mb\", \"val\": 10}, {\"col\": \"data\", \"idx\": \"1035.1\", \"val\": 10}, {\"col\": \"data\", \"idx\": \"1040.1mb\", \"val\": 10}, {\"col\": \"data\", \"idx\": \"1040.7\", \"val\": 10}, {\"col\": \"data\", \"idx\": \"1043.4\", \"val\": 10}, {\"col\": \"data\", \"idx\": \"107.1\", \"val\": 10}, {\"col\": \"data\", \"idx\": \"10am.\", \"val\": 10}, {\"col\": \"data\", \"idx\": \"11.0\\u00b0c.\", \"val\": 10}, {\"col\": \"data\", \"idx\": \"11.1\\u00b0c,\", \"val\": 10}, {\"col\": \"data\", \"idx\": \"11.2c\", \"val\": 10}, {\"col\": \"data\", \"idx\": \"11.31\", \"val\": 10}, {\"col\": \"data\", \"idx\": \"11:37.\", \"val\": 10}, {\"col\": \"data\", \"idx\": \"11:55,tmin\", \"val\": 10}, {\"col\": \"data\", \"idx\": \"14:55\", \"val\": 10}, {\"col\": \"data\", \"idx\": \"15:00\", \"val\": 10}, {\"col\": \"data\", \"idx\": \"15:00:02.#ukweather.#weather\", \"val\": 10}, {\"col\": \"data\", \"idx\": \"16-18\", \"val\": 10}, {\"col\": \"data\", \"idx\": \"1h:05m:03s\", \"val\": 10}, {\"col\": \"data\", \"idx\": \"2014\\ud83d\\ude48\", \"val\": 10}, {\"col\": \"data\", \"idx\": \"2015,\", \"val\": 10}, {\"col\": \"data\", \"idx\": \"2017....\", \"val\": 10}, {\"col\": \"data\", \"idx\": \"21st!!!\", \"val\": 10}, {\"col\": \"data\", \"idx\": \"24-25th\", \"val\": 10}, {\"col\": \"data\", \"idx\": \"25secs\", \"val\": 10}, {\"col\": \"data\", \"idx\": \"2morrw)\", \"val\": 10}, {\"col\": \"data\", \"idx\": \"40min.\", \"val\": 10}, {\"col\": \"data\", \"idx\": \"429999\", \"val\": 10}, {\"col\": \"data\", \"idx\": \"4ward\", \"val\": 10}, {\"col\": \"data\", \"idx\": \"626543\", \"val\": 10}, {\"col\": \"data\", \"idx\": \"763627\", \"val\": 10}, {\"col\": \"data\", \"idx\": \"763627!\", \"val\": 10}, {\"col\": \"data\", \"idx\": \"76g?!\", \"val\": 10}, {\"col\": \"data\", \"idx\": \"8!!!1\", \"val\": 10}, {\"col\": \"data\", \"idx\": \"8-9pm\", \"val\": 10}, {\"col\": \"data\", \"idx\": \"8-9pm!\", \"val\": 10}, {\"col\": \"data\", \"idx\": \"8.3mph,gust\", \"val\": 10}, {\"col\": \"data\", \"idx\": \"89431419\", \"val\": 10}, {\"col\": \"data\", \"idx\": \"[pic]\", \"val\": 10}, {\"col\": \"data\", \"idx\": \"a-class\", \"val\": 10}, {\"col\": \"data\", \"idx\": \"abaixar\", \"val\": 10}, {\"col\": \"data\", \"idx\": \"abandon\", \"val\": 10}, {\"col\": \"data\", \"idx\": \"abi...\", \"val\": 10}, {\"col\": \"data\", \"idx\": \"about?\", \"val\": 10}, {\"col\": \"data\", \"idx\": \"absolute\", \"val\": 10}, {\"col\": \"data\", \"idx\": \"absolutely\", \"val\": 10}, {\"col\": \"data\", \"idx\": \"absolutely.\", \"val\": 10}, {\"col\": \"data\", \"idx\": \"abuela\", \"val\": 10}, {\"col\": \"data\", \"idx\": \"academy\", \"val\": 10}, {\"col\": \"data\", \"idx\": \"acceleracers\", \"val\": 10}, {\"col\": \"data\", \"idx\": \"accident\", \"val\": 10}, {\"col\": \"data\", \"idx\": \"accidentally\", \"val\": 10}, {\"col\": \"data\", \"idx\": \"acordou\", \"val\": 10}, {\"col\": \"data\", \"idx\": \"action\", \"val\": 10}, {\"col\": \"data\", \"idx\": \"actions.\", \"val\": 10}, {\"col\": \"data\", \"idx\": \"activities\", \"val\": 10}, {\"col\": \"data\", \"idx\": \"activity\", \"val\": 10}, {\"col\": \"data\", \"idx\": \"activit\\u00e9\", \"val\": 10}, {\"col\": \"data\", \"idx\": \"actually,\", \"val\": 10}, {\"col\": \"data\", \"idx\": \"adding\", \"val\": 10}, {\"col\": \"data\", \"idx\": \"adem\\u00e1s\", \"val\": 10}, {\"col\": \"data\", \"idx\": \"admin\", \"val\": 10}, {\"col\": \"data\", \"idx\": \"adobe\", \"val\": 10}, {\"col\": \"data\", \"idx\": \"adobecc\", \"val\": 10}, {\"col\": \"data\", \"idx\": \"adorable,\", \"val\": 10}, {\"col\": \"data\", \"idx\": \"adorent.\", \"val\": 10}, {\"col\": \"data\", \"idx\": \"adoro\", \"val\": 10}, {\"col\": \"data\", \"idx\": \"advance\", \"val\": 10}, {\"col\": \"data\", \"idx\": \"advertise\", \"val\": 10}, {\"col\": \"data\", \"idx\": \"advice,\", \"val\": 10}, {\"col\": \"data\", \"idx\": \"affect\", \"val\": 10}, {\"col\": \"data\", \"idx\": \"afternoon\", \"val\": 10}, {\"col\": \"data\", \"idx\": \"again!\", \"val\": 10}, {\"col\": \"data\", \"idx\": \"again\\\"\", \"val\": 10}, {\"col\": \"data\", \"idx\": \"again?\", \"val\": 10}, {\"col\": \"data\", \"idx\": \"agbout\", \"val\": 10}, {\"col\": \"data\", \"idx\": \"agents.\", \"val\": 10}, {\"col\": \"data\", \"idx\": \"agony\", \"val\": 10}, {\"col\": \"data\", \"idx\": \"agora\", \"val\": 10}, {\"col\": \"data\", \"idx\": \"agree\", \"val\": 10}, {\"col\": \"data\", \"idx\": \"agree,\", \"val\": 10}, {\"col\": \"data\", \"idx\": \"agreed.\", \"val\": 10}, {\"col\": \"data\", \"idx\": \"agreeing\", \"val\": 10}, {\"col\": \"data\", \"idx\": \"aguenta\", \"val\": 10}, {\"col\": \"data\", \"idx\": \"ahahah!\", \"val\": 10}, {\"col\": \"data\", \"idx\": \"ahead\", \"val\": 10}, {\"col\": \"data\", \"idx\": \"ahead!\", \"val\": 10}, {\"col\": \"data\", \"idx\": \"ahhha\", \"val\": 10}, {\"col\": \"data\", \"idx\": \"aimes\", \"val\": 10}, {\"col\": \"data\", \"idx\": \"ainda\", \"val\": 10}, {\"col\": \"data\", \"idx\": \"aired\", \"val\": 10}, {\"col\": \"data\", \"idx\": \"airfield\", \"val\": 10}, {\"col\": \"data\", \"idx\": \"airport\", \"val\": 10}, {\"col\": \"data\", \"idx\": \"alas,\", \"val\": 10}, {\"col\": \"data\", \"idx\": \"albion\", \"val\": 10}, {\"col\": \"data\", \"idx\": \"alice@the-plug.com!\", \"val\": 10}, {\"col\": \"data\", \"idx\": \"aliens\\\"\", \"val\": 10}, {\"col\": \"data\", \"idx\": \"allay\", \"val\": 10}, {\"col\": \"data\", \"idx\": \"allow\", \"val\": 10}, {\"col\": \"data\", \"idx\": \"almoco,\", \"val\": 10}, {\"col\": \"data\", \"idx\": \"alpha\", \"val\": 10}, {\"col\": \"data\", \"idx\": \"alright\", \"val\": 10}, {\"col\": \"data\", \"idx\": \"amaze\", \"val\": 10}, {\"col\": \"data\", \"idx\": \"amazing\", \"val\": 10}, {\"col\": \"data\", \"idx\": \"amazing!!\", \"val\": 10}, {\"col\": \"data\", \"idx\": \"amazing,\", \"val\": 10}, {\"col\": \"data\", \"idx\": \"amazing...\", \"val\": 10}, {\"col\": \"data\", \"idx\": \"ambient\", \"val\": 10}, {\"col\": \"data\", \"idx\": \"amen.\", \"val\": 10}, {\"col\": \"data\", \"idx\": \"amizade,ou\", \"val\": 10}, {\"col\": \"data\", \"idx\": \"animal\", \"val\": 10}, {\"col\": \"data\", \"idx\": \"animes.\", \"val\": 10}, {\"col\": \"data\", \"idx\": \"annoyed.\", \"val\": 10}, {\"col\": \"data\", \"idx\": \"another,\", \"val\": 10}, {\"col\": \"data\", \"idx\": \"ansome\", \"val\": 10}, {\"col\": \"data\", \"idx\": \"answer\", \"val\": 10}, {\"col\": \"data\", \"idx\": \"answer,\", \"val\": 10}, {\"col\": \"data\", \"idx\": \"answer.\", \"val\": 10}, {\"col\": \"data\", \"idx\": \"anymore...\\ud83d\\ude25\", \"val\": 10}, {\"col\": \"data\", \"idx\": \"anyways,\", \"val\": 10}, {\"col\": \"data\", \"idx\": \"apologising\", \"val\": 10}, {\"col\": \"data\", \"idx\": \"apparent\", \"val\": 10}, {\"col\": \"data\", \"idx\": \"appetite\", \"val\": 10}, {\"col\": \"data\", \"idx\": \"applaudissements\", \"val\": 10}, {\"col\": \"data\", \"idx\": \"apple\", \"val\": 10}, {\"col\": \"data\", \"idx\": \"applications\", \"val\": 10}, {\"col\": \"data\", \"idx\": \"applied\", \"val\": 10}, {\"col\": \"data\", \"idx\": \"applies\", \"val\": 10}, {\"col\": \"data\", \"idx\": \"appointment\", \"val\": 10}, {\"col\": \"data\", \"idx\": \"approach\", \"val\": 10}, {\"col\": \"data\", \"idx\": \"aprender\", \"val\": 10}, {\"col\": \"data\", \"idx\": \"april.\", \"val\": 10}, {\"col\": \"data\", \"idx\": \"archaeologist,\", \"val\": 10}, {\"col\": \"data\", \"idx\": \"area,\", \"val\": 10}, {\"col\": \"data\", \"idx\": \"area.\", \"val\": 10}, {\"col\": \"data\", \"idx\": \"aren't\", \"val\": 10}, {\"col\": \"data\", \"idx\": \"arguing\", \"val\": 10}, {\"col\": \"data\", \"idx\": \"argument\", \"val\": 10}, {\"col\": \"data\", \"idx\": \"army.\", \"val\": 10}, {\"col\": \"data\", \"idx\": \"arrested\", \"val\": 10}, {\"col\": \"data\", \"idx\": \"article\", \"val\": 10}, {\"col\": \"data\", \"idx\": \"artist?new\", \"val\": 10}, {\"col\": \"data\", \"idx\": \"artwork\", \"val\": 10}, {\"col\": \"data\", \"idx\": \"asdfghj\", \"val\": 10}, {\"col\": \"data\", \"idx\": \"asleep?\\ud83d\\ude09\", \"val\": 10}, {\"col\": \"data\", \"idx\": \"assuming\", \"val\": 10}, {\"col\": \"data\", \"idx\": \"aswell\", \"val\": 10}, {\"col\": \"data\", \"idx\": \"athletes\", \"val\": 10}, {\"col\": \"data\", \"idx\": \"attach\\u00e9,\", \"val\": 10}, {\"col\": \"data\", \"idx\": \"attended\", \"val\": 10}, {\"col\": \"data\", \"idx\": \"attention\", \"val\": 10}, {\"col\": \"data\", \"idx\": \"attention!\", \"val\": 10}, {\"col\": \"data\", \"idx\": \"autograph\", \"val\": 10}, {\"col\": \"data\", \"idx\": \"awaiting\", \"val\": 10}, {\"col\": \"data\", \"idx\": \"award.\", \"val\": 10}, {\"col\": \"data\", \"idx\": \"awesome\", \"val\": 10}, {\"col\": \"data\", \"idx\": \"awesome!!!!!!!!!\", \"val\": 10}, {\"col\": \"data\", \"idx\": \"awful\", \"val\": 10}, {\"col\": \"data\", \"idx\": \"awkward\", \"val\": 10}, {\"col\": \"data\", \"idx\": \"awwww\", \"val\": 10}, {\"col\": \"data\", \"idx\": \"axles\", \"val\": 10}, {\"col\": \"data\", \"idx\": \"aylestone\", \"val\": 10}, {\"col\": \"data\", \"idx\": \"ayyyyy\", \"val\": 10}, {\"col\": \"data\", \"idx\": \"babe!!\", \"val\": 10}, {\"col\": \"data\", \"idx\": \"babe!!\\ud83d\\ude1c\", \"val\": 10}, {\"col\": \"data\", \"idx\": \"babes!\", \"val\": 10}, {\"col\": \"data\", \"idx\": \"babies.\", \"val\": 10}, {\"col\": \"data\", \"idx\": \"back,\", \"val\": 10}, {\"col\": \"data\", \"idx\": \"back?\", \"val\": 10}, {\"col\": \"data\", \"idx\": \"back??!!\", \"val\": 10}, {\"col\": \"data\", \"idx\": \"backed\", \"val\": 10}, {\"col\": \"data\", \"idx\": \"bacon\", \"val\": 10}, {\"col\": \"data\", \"idx\": \"badly\", \"val\": 10}, {\"col\": \"data\", \"idx\": \"badminton\", \"val\": 10}, {\"col\": \"data\", \"idx\": \"bajen\", \"val\": 10}, {\"col\": \"data\", \"idx\": \"bananas\", \"val\": 10}, {\"col\": \"data\", \"idx\": \"banged\", \"val\": 10}, {\"col\": \"data\", \"idx\": \"bankers!\", \"val\": 10}, {\"col\": \"data\", \"idx\": \"banners.\", \"val\": 10}, {\"col\": \"data\", \"idx\": \"barbaric!\", \"val\": 10}, {\"col\": \"data\", \"idx\": \"barclay\", \"val\": 10}, {\"col\": \"data\", \"idx\": \"bargain\", \"val\": 10}, {\"col\": \"data\", \"idx\": \"barnes\", \"val\": 10}, {\"col\": \"data\", \"idx\": \"barometer\", \"val\": 10}, {\"col\": \"data\", \"idx\": \"bars?\", \"val\": 10}, {\"col\": \"data\", \"idx\": \"basically\", \"val\": 10}, {\"col\": \"data\", \"idx\": \"bats?\", \"val\": 10}, {\"col\": \"data\", \"idx\": \"battle\", \"val\": 10}, {\"col\": \"data\", \"idx\": \"bday,\", \"val\": 10}, {\"col\": \"data\", \"idx\": \"be...\", \"val\": 10}, {\"col\": \"data\", \"idx\": \"beach\", \"val\": 10}, {\"col\": \"data\", \"idx\": \"beale?\", \"val\": 10}, {\"col\": \"data\", \"idx\": \"beast\", \"val\": 10}, {\"col\": \"data\", \"idx\": \"beaumanor\", \"val\": 10}, {\"col\": \"data\", \"idx\": \"beautiful\", \"val\": 10}, {\"col\": \"data\", \"idx\": \"been?\", \"val\": 10}, {\"col\": \"data\", \"idx\": \"beers!\", \"val\": 10}, {\"col\": \"data\", \"idx\": \"beetroot,\", \"val\": 10}, {\"col\": \"data\", \"idx\": \"before.\", \"val\": 10}, {\"col\": \"data\", \"idx\": \"before?\", \"val\": 10}, {\"col\": \"data\", \"idx\": \"begging\", \"val\": 10}, {\"col\": \"data\", \"idx\": \"belief\", \"val\": 10}, {\"col\": \"data\", \"idx\": \"belly\", \"val\": 10}, {\"col\": \"data\", \"idx\": \"beloved\", \"val\": 10}, {\"col\": \"data\", \"idx\": \"below!\", \"val\": 10}, {\"col\": \"data\", \"idx\": \"benefit\", \"val\": 10}, {\"col\": \"data\", \"idx\": \"benefits\", \"val\": 10}, {\"col\": \"data\", \"idx\": \"berkshire)\", \"val\": 10}, {\"col\": \"data\", \"idx\": \"better\", \"val\": 10}, {\"col\": \"data\", \"idx\": \"bevvy\", \"val\": 10}, {\"col\": \"data\", \"idx\": \"bewildered\", \"val\": 10}, {\"col\": \"data\", \"idx\": \"beyblade\", \"val\": 10}, {\"col\": \"data\", \"idx\": \"biggest\", \"val\": 10}, {\"col\": \"data\", \"idx\": \"billion\", \"val\": 10}, {\"col\": \"data\", \"idx\": \"birch\", \"val\": 10}, {\"col\": \"data\", \"idx\": \"birthday\", \"val\": 10}, {\"col\": \"data\", \"idx\": \"birthday,\", \"val\": 10}, {\"col\": \"data\", \"idx\": \"biscuits.\", \"val\": 10}, {\"col\": \"data\", \"idx\": \"bits.\", \"val\": 10}, {\"col\": \"data\", \"idx\": \"bitter\", \"val\": 10}, {\"col\": \"data\", \"idx\": \"black\", \"val\": 10}, {\"col\": \"data\", \"idx\": \"blame?\", \"val\": 10}, {\"col\": \"data\", \"idx\": \"bleedin\", \"val\": 10}, {\"col\": \"data\", \"idx\": \"bless\", \"val\": 10}, {\"col\": \"data\", \"idx\": \"blessed\", \"val\": 10}, {\"col\": \"data\", \"idx\": \"block\", \"val\": 10}, {\"col\": \"data\", \"idx\": \"blocking\", \"val\": 10}, {\"col\": \"data\", \"idx\": \"bloody\", \"val\": 10}, {\"col\": \"data\", \"idx\": \"blueberries,\", \"val\": 10}, {\"col\": \"data\", \"idx\": \"board\", \"val\": 10}, {\"col\": \"data\", \"idx\": \"bombarding\", \"val\": 10}, {\"col\": \"data\", \"idx\": \"boobs,\", \"val\": 10}, {\"col\": \"data\", \"idx\": \"book!\", \"val\": 10}, {\"col\": \"data\", \"idx\": \"booked\", \"val\": 10}, {\"col\": \"data\", \"idx\": \"booking\", \"val\": 10}, {\"col\": \"data\", \"idx\": \"bookings\", \"val\": 10}, {\"col\": \"data\", \"idx\": \"book\\ud83d\\udcd5things\", \"val\": 10}, {\"col\": \"data\", \"idx\": \"boo\\ud83c\\udf3a\\ud83d\\udc9e\", \"val\": 10}, {\"col\": \"data\", \"idx\": \"bother\", \"val\": 10}, {\"col\": \"data\", \"idx\": \"bottom\", \"val\": 10}, {\"col\": \"data\", \"idx\": \"bought\", \"val\": 10}, {\"col\": \"data\", \"idx\": \"bound\", \"val\": 10}, {\"col\": \"data\", \"idx\": \"boyle...\", \"val\": 10}, {\"col\": \"data\", \"idx\": \"brahma\", \"val\": 10}, {\"col\": \"data\", \"idx\": \"brahman\", \"val\": 10}, {\"col\": \"data\", \"idx\": \"brainless\", \"val\": 10}, {\"col\": \"data\", \"idx\": \"brand\", \"val\": 10}, {\"col\": \"data\", \"idx\": \"break\", \"val\": 10}, {\"col\": \"data\", \"idx\": \"breath\", \"val\": 10}, {\"col\": \"data\", \"idx\": \"breathin\", \"val\": 10}, {\"col\": \"data\", \"idx\": \"bright\", \"val\": 10}, {\"col\": \"data\", \"idx\": \"brighton\", \"val\": 10}, {\"col\": \"data\", \"idx\": \"brilliant\", \"val\": 10}, {\"col\": \"data\", \"idx\": \"brilliant,\", \"val\": 10}, {\"col\": \"data\", \"idx\": \"bringing\", \"val\": 10}, {\"col\": \"data\", \"idx\": \"brings\", \"val\": 10}, {\"col\": \"data\", \"idx\": \"britain\", \"val\": 10}, {\"col\": \"data\", \"idx\": \"british\", \"val\": 10}, {\"col\": \"data\", \"idx\": \"broadchurch\", \"val\": 10}, {\"col\": \"data\", \"idx\": \"bronze\", \"val\": 10}, {\"col\": \"data\", \"idx\": \"broody\", \"val\": 10}, {\"col\": \"data\", \"idx\": \"bros.\", \"val\": 10}, {\"col\": \"data\", \"idx\": \"brothers\", \"val\": 10}, {\"col\": \"data\", \"idx\": \"brothers,\", \"val\": 10}, {\"col\": \"data\", \"idx\": \"brother\\ud83d\\ude02\", \"val\": 10}, {\"col\": \"data\", \"idx\": \"brought\", \"val\": 10}, {\"col\": \"data\", \"idx\": \"browser/tabs\", \"val\": 10}, {\"col\": \"data\", \"idx\": \"brucebuds\", \"val\": 10}, {\"col\": \"data\", \"idx\": \"bruket\", \"val\": 10}, {\"col\": \"data\", \"idx\": \"brunch\", \"val\": 10}, {\"col\": \"data\", \"idx\": \"brushes\", \"val\": 10}, {\"col\": \"data\", \"idx\": \"bruv.\", \"val\": 10}, {\"col\": \"data\", \"idx\": \"bruv...just\", \"val\": 10}, {\"col\": \"data\", \"idx\": \"budget\", \"val\": 10}, {\"col\": \"data\", \"idx\": \"buffet\", \"val\": 10}, {\"col\": \"data\", \"idx\": \"buffet\\\"?\", \"val\": 10}, {\"col\": \"data\", \"idx\": \"build\", \"val\": 10}, {\"col\": \"data\", \"idx\": \"builds\", \"val\": 10}, {\"col\": \"data\", \"idx\": \"bulldogs\", \"val\": 10}, {\"col\": \"data\", \"idx\": \"bullied\", \"val\": 10}, {\"col\": \"data\", \"idx\": \"bullshit\", \"val\": 10}, {\"col\": \"data\", \"idx\": \"bunch\", \"val\": 10}, {\"col\": \"data\", \"idx\": \"bunny\", \"val\": 10}, {\"col\": \"data\", \"idx\": \"burrs\", \"val\": 10}, {\"col\": \"data\", \"idx\": \"burton's\", \"val\": 10}, {\"col\": \"data\", \"idx\": \"business\", \"val\": 10}, {\"col\": \"data\", \"idx\": \"business,\", \"val\": 10}, {\"col\": \"data\", \"idx\": \"business.\", \"val\": 10}, {\"col\": \"data\", \"idx\": \"businesses\", \"val\": 10}, {\"col\": \"data\", \"idx\": \"businesses,\", \"val\": 10}, {\"col\": \"data\", \"idx\": \"but...\\\"\", \"val\": 10}, {\"col\": \"data\", \"idx\": \"buttttt\", \"val\": 10}, {\"col\": \"data\", \"idx\": \"c'est\", \"val\": 10}, {\"col\": \"data\", \"idx\": \"cabriolet\", \"val\": 10}, {\"col\": \"data\", \"idx\": \"cadbury's\", \"val\": 10}, {\"col\": \"data\", \"idx\": \"call,\", \"val\": 10}, {\"col\": \"data\", \"idx\": \"calling\", \"val\": 10}, {\"col\": \"data\", \"idx\": \"calls,\", \"val\": 10}, {\"col\": \"data\", \"idx\": \"calm!\", \"val\": 10}, {\"col\": \"data\", \"idx\": \"cambridgeshire\", \"val\": 10}, {\"col\": \"data\", \"idx\": \"camera\", \"val\": 10}, {\"col\": \"data\", \"idx\": \"camera.\", \"val\": 10}, {\"col\": \"data\", \"idx\": \"campaigning\", \"val\": 10}, {\"col\": \"data\", \"idx\": \"campus\", \"val\": 10}, {\"col\": \"data\", \"idx\": \"cancelled\", \"val\": 10}, {\"col\": \"data\", \"idx\": \"cancer\", \"val\": 10}, {\"col\": \"data\", \"idx\": \"cancer.\", \"val\": 10}, {\"col\": \"data\", \"idx\": \"cancerous\", \"val\": 10}, {\"col\": \"data\", \"idx\": \"capacity\", \"val\": 10}, {\"col\": \"data\", \"idx\": \"captain\", \"val\": 10}, {\"col\": \"data\", \"idx\": \"captain!\", \"val\": 10}, {\"col\": \"data\", \"idx\": \"caramel\", \"val\": 10}, {\"col\": \"data\", \"idx\": \"cardiff\", \"val\": 10}, {\"col\": \"data\", \"idx\": \"care!\", \"val\": 10}, {\"col\": \"data\", \"idx\": \"care\\\"\", \"val\": 10}, {\"col\": \"data\", \"idx\": \"care.\", \"val\": 10}, {\"col\": \"data\", \"idx\": \"career\", \"val\": 10}, {\"col\": \"data\", \"idx\": \"careers\", \"val\": 10}, {\"col\": \"data\", \"idx\": \"caring.\", \"val\": 10}, {\"col\": \"data\", \"idx\": \"carrie!\", \"val\": 10}, {\"col\": \"data\", \"idx\": \"carry\", \"val\": 10}, {\"col\": \"data\", \"idx\": \"casaria\", \"val\": 10}, {\"col\": \"data\", \"idx\": \"casper\", \"val\": 10}, {\"col\": \"data\", \"idx\": \"casserole\", \"val\": 10}, {\"col\": \"data\", \"idx\": \"casting\", \"val\": 10}, {\"col\": \"data\", \"idx\": \"catch\", \"val\": 10}, {\"col\": \"data\", \"idx\": \"catching\", \"val\": 10}, {\"col\": \"data\", \"idx\": \"cbeebies\", \"val\": 10}, {\"col\": \"data\", \"idx\": \"cdn't\", \"val\": 10}, {\"col\": \"data\", \"idx\": \"ceases\", \"val\": 10}, {\"col\": \"data\", \"idx\": \"ceci.\", \"val\": 10}, {\"col\": \"data\", \"idx\": \"celebrating\", \"val\": 10}, {\"col\": \"data\", \"idx\": \"celebrations\", \"val\": 10}, {\"col\": \"data\", \"idx\": \"cells\", \"val\": 10}, {\"col\": \"data\", \"idx\": \"centre\", \"val\": 10}, {\"col\": \"data\", \"idx\": \"challenge\", \"val\": 10}, {\"col\": \"data\", \"idx\": \"challenge!\", \"val\": 10}, {\"col\": \"data\", \"idx\": \"challenged..\", \"val\": 10}, {\"col\": \"data\", \"idx\": \"championship\", \"val\": 10}, {\"col\": \"data\", \"idx\": \"chance\", \"val\": 10}, {\"col\": \"data\", \"idx\": \"change\", \"val\": 10}, {\"col\": \"data\", \"idx\": \"channel\", \"val\": 10}, {\"col\": \"data\", \"idx\": \"chaos\", \"val\": 10}, {\"col\": \"data\", \"idx\": \"character\", \"val\": 10}, {\"col\": \"data\", \"idx\": \"character!\", \"val\": 10}, {\"col\": \"data\", \"idx\": \"charities\", \"val\": 10}, {\"col\": \"data\", \"idx\": \"chaves\", \"val\": 10}, {\"col\": \"data\", \"idx\": \"cheadle\", \"val\": 10}, {\"col\": \"data\", \"idx\": \"check\", \"val\": 10}, {\"col\": \"data\", \"idx\": \"checked\", \"val\": 10}, {\"col\": \"data\", \"idx\": \"cheeky\", \"val\": 10}, {\"col\": \"data\", \"idx\": \"cheeky!\", \"val\": 10}, {\"col\": \"data\", \"idx\": \"cheer\", \"val\": 10}, {\"col\": \"data\", \"idx\": \"cheese!\", \"val\": 10}, {\"col\": \"data\", \"idx\": \"chelsea\", \"val\": 10}, {\"col\": \"data\", \"idx\": \"chemistry\", \"val\": 10}, {\"col\": \"data\", \"idx\": \"chicago\", \"val\": 10}, {\"col\": \"data\", \"idx\": \"chicken\", \"val\": 10}, {\"col\": \"data\", \"idx\": \"chicken,\", \"val\": 10}, {\"col\": \"data\", \"idx\": \"child\", \"val\": 10}, {\"col\": \"data\", \"idx\": \"children\", \"val\": 10}, {\"col\": \"data\", \"idx\": \"children\\u2019s\", \"val\": 10}, {\"col\": \"data\", \"idx\": \"chilli\", \"val\": 10}, {\"col\": \"data\", \"idx\": \"chinese\", \"val\": 10}, {\"col\": \"data\", \"idx\": \"chinese-evington\", \"val\": 10}, {\"col\": \"data\", \"idx\": \"chocolate\", \"val\": 10}, {\"col\": \"data\", \"idx\": \"chocolate\\ud83d\\ude1b\\u2764\\ufe0f\", \"val\": 10}, {\"col\": \"data\", \"idx\": \"choice\", \"val\": 10}, {\"col\": \"data\", \"idx\": \"choir\", \"val\": 10}, {\"col\": \"data\", \"idx\": \"choose\", \"val\": 10}, {\"col\": \"data\", \"idx\": \"chose\", \"val\": 10}, {\"col\": \"data\", \"idx\": \"choudhury\", \"val\": 10}, {\"col\": \"data\", \"idx\": \"christian\", \"val\": 10}, {\"col\": \"data\", \"idx\": \"cigarette\", \"val\": 10}, {\"col\": \"data\", \"idx\": \"cindy\", \"val\": 10}, {\"col\": \"data\", \"idx\": \"cinema?\", \"val\": 10}, {\"col\": \"data\", \"idx\": \"city&lt;\", \"val\": 10}, {\"col\": \"data\", \"idx\": \"claimed\", \"val\": 10}, {\"col\": \"data\", \"idx\": \"clash\", \"val\": 10}, {\"col\": \"data\", \"idx\": \"classes\", \"val\": 10}, {\"col\": \"data\", \"idx\": \"classic\", \"val\": 10}, {\"col\": \"data\", \"idx\": \"clean\", \"val\": 10}, {\"col\": \"data\", \"idx\": \"cleaning\", \"val\": 10}, {\"col\": \"data\", \"idx\": \"clear\", \"val\": 10}, {\"col\": \"data\", \"idx\": \"clicked\", \"val\": 10}, {\"col\": \"data\", \"idx\": \"client,\", \"val\": 10}, {\"col\": \"data\", \"idx\": \"clinging\", \"val\": 10}, {\"col\": \"data\", \"idx\": \"close\", \"val\": 10}, {\"col\": \"data\", \"idx\": \"closed!\", \"val\": 10}, {\"col\": \"data\", \"idx\": \"closes\", \"val\": 10}, {\"col\": \"data\", \"idx\": \"closing\\ud83d\\udd2b\", \"val\": 10}, {\"col\": \"data\", \"idx\": \"clout.\", \"val\": 10}, {\"col\": \"data\", \"idx\": \"clown\", \"val\": 10}, {\"col\": \"data\", \"idx\": \"coach\", \"val\": 10}, {\"col\": \"data\", \"idx\": \"coachable.\", \"val\": 10}, {\"col\": \"data\", \"idx\": \"coaches\", \"val\": 10}, {\"col\": \"data\", \"idx\": \"coast\", \"val\": 10}, {\"col\": \"data\", \"idx\": \"coastal\", \"val\": 10}, {\"col\": \"data\", \"idx\": \"coches\", \"val\": 10}, {\"col\": \"data\", \"idx\": \"cocktails\", \"val\": 10}, {\"col\": \"data\", \"idx\": \"coisa\", \"val\": 10}, {\"col\": \"data\", \"idx\": \"colchester\", \"val\": 10}, {\"col\": \"data\", \"idx\": \"cold-cure:\", \"val\": 10}, {\"col\": \"data\", \"idx\": \"colleague\", \"val\": 10}, {\"col\": \"data\", \"idx\": \"collect\", \"val\": 10}, {\"col\": \"data\", \"idx\": \"collection\", \"val\": 10}, {\"col\": \"data\", \"idx\": \"collection.\", \"val\": 10}, {\"col\": \"data\", \"idx\": \"collins\", \"val\": 10}, {\"col\": \"data\", \"idx\": \"colour\", \"val\": 10}, {\"col\": \"data\", \"idx\": \"colours.\", \"val\": 10}, {\"col\": \"data\", \"idx\": \"combined.\\u201d\", \"val\": 10}, {\"col\": \"data\", \"idx\": \"comedy\", \"val\": 10}, {\"col\": \"data\", \"idx\": \"comfortable\", \"val\": 10}, {\"col\": \"data\", \"idx\": \"comfortably\", \"val\": 10}, {\"col\": \"data\", \"idx\": \"coming\", \"val\": 10}, {\"col\": \"data\", \"idx\": \"coming!\", \"val\": 10}, {\"col\": \"data\", \"idx\": \"coming.\", \"val\": 10}, {\"col\": \"data\", \"idx\": \"common\", \"val\": 10}, {\"col\": \"data\", \"idx\": \"community\", \"val\": 10}, {\"col\": \"data\", \"idx\": \"companies\", \"val\": 10}, {\"col\": \"data\", \"idx\": \"company\", \"val\": 10}, {\"col\": \"data\", \"idx\": \"compare\", \"val\": 10}, {\"col\": \"data\", \"idx\": \"compared\", \"val\": 10}, {\"col\": \"data\", \"idx\": \"compete\", \"val\": 10}, {\"col\": \"data\", \"idx\": \"competions\", \"val\": 10}, {\"col\": \"data\", \"idx\": \"competition\", \"val\": 10}, {\"col\": \"data\", \"idx\": \"computer\", \"val\": 10}, {\"col\": \"data\", \"idx\": \"conajmniej\", \"val\": 10}, {\"col\": \"data\", \"idx\": \"concentrate\", \"val\": 10}, {\"col\": \"data\", \"idx\": \"concerned\", \"val\": 10}, {\"col\": \"data\", \"idx\": \"concerned!\", \"val\": 10}, {\"col\": \"data\", \"idx\": \"confirmation.\", \"val\": 10}, {\"col\": \"data\", \"idx\": \"congestion\", \"val\": 10}, {\"col\": \"data\", \"idx\": \"congrats\", \"val\": 10}, {\"col\": \"data\", \"idx\": \"congratulations\", \"val\": 10}, {\"col\": \"data\", \"idx\": \"congratuwelldone!\", \"val\": 10}, {\"col\": \"data\", \"idx\": \"consecutive\", \"val\": 10}, {\"col\": \"data\", \"idx\": \"consider\", \"val\": 10}, {\"col\": \"data\", \"idx\": \"considerate\", \"val\": 10}, {\"col\": \"data\", \"idx\": \"considering\", \"val\": 10}, {\"col\": \"data\", \"idx\": \"constantly\", \"val\": 10}, {\"col\": \"data\", \"idx\": \"constructing\", \"val\": 10}, {\"col\": \"data\", \"idx\": \"consumer\", \"val\": 10}, {\"col\": \"data\", \"idx\": \"contact\", \"val\": 100}, {\"col\": \"data\", \"idx\": \"content\", \"val\": 10}, {\"col\": \"data\", \"idx\": \"contest\", \"val\": 10}, {\"col\": \"data\", \"idx\": \"continue\", \"val\": 10}, {\"col\": \"data\", \"idx\": \"continued\", \"val\": 10}, {\"col\": \"data\", \"idx\": \"continuo\", \"val\": 10}, {\"col\": \"data\", \"idx\": \"convenor\", \"val\": 10}, {\"col\": \"data\", \"idx\": \"convert\", \"val\": 10}, {\"col\": \"data\", \"idx\": \"convince\", \"val\": 10}, {\"col\": \"data\", \"idx\": \"cooker\", \"val\": 10}, {\"col\": \"data\", \"idx\": \"cookie\", \"val\": 10}, {\"col\": \"data\", \"idx\": \"cool,\", \"val\": 10}, {\"col\": \"data\", \"idx\": \"copied\", \"val\": 10}, {\"col\": \"data\", \"idx\": \"corde.\", \"val\": 10}, {\"col\": \"data\", \"idx\": \"corner\", \"val\": 10}, {\"col\": \"data\", \"idx\": \"cornish\", \"val\": 10}, {\"col\": \"data\", \"idx\": \"cornwall\", \"val\": 10}, {\"col\": \"data\", \"idx\": \"corridors\", \"val\": 10}, {\"col\": \"data\", \"idx\": \"costa\", \"val\": 10}, {\"col\": \"data\", \"idx\": \"costes.\", \"val\": 10}, {\"col\": \"data\", \"idx\": \"costs\", \"val\": 10}, {\"col\": \"data\", \"idx\": \"cotillard\", \"val\": 10}, {\"col\": \"data\", \"idx\": \"coton\", \"val\": 10}, {\"col\": \"data\", \"idx\": \"cottages\", \"val\": 10}, {\"col\": \"data\", \"idx\": \"cotton\", \"val\": 10}, {\"col\": \"data\", \"idx\": \"country\", \"val\": 10}, {\"col\": \"data\", \"idx\": \"couple\", \"val\": 10}, {\"col\": \"data\", \"idx\": \"course\", \"val\": 10}, {\"col\": \"data\", \"idx\": \"cover\", \"val\": 10}, {\"col\": \"data\", \"idx\": \"covered\", \"val\": 10}, {\"col\": \"data\", \"idx\": \"covered?\", \"val\": 10}, {\"col\": \"data\", \"idx\": \"covered??\", \"val\": 10}, {\"col\": \"data\", \"idx\": \"covering\", \"val\": 10}, {\"col\": \"data\", \"idx\": \"covering?\", \"val\": 10}, {\"col\": \"data\", \"idx\": \"covet\", \"val\": 10}, {\"col\": \"data\", \"idx\": \"cozinheiro,\", \"val\": 10}, {\"col\": \"data\", \"idx\": \"co\\u00eft.\", \"val\": 10}, {\"col\": \"data\", \"idx\": \"crabbi\", \"val\": 10}, {\"col\": \"data\", \"idx\": \"cracking\", \"val\": 10}, {\"col\": \"data\", \"idx\": \"crashing\", \"val\": 10}, {\"col\": \"data\", \"idx\": \"craving\", \"val\": 10}, {\"col\": \"data\", \"idx\": \"crazy\", \"val\": 10}, {\"col\": \"data\", \"idx\": \"cream\", \"val\": 10}, {\"col\": \"data\", \"idx\": \"cream,\", \"val\": 10}, {\"col\": \"data\", \"idx\": \"cream.\", \"val\": 10}, {\"col\": \"data\", \"idx\": \"creating\", \"val\": 10}, {\"col\": \"data\", \"idx\": \"cretins\", \"val\": 10}, {\"col\": \"data\", \"idx\": \"crossed\", \"val\": 10}, {\"col\": \"data\", \"idx\": \"crossing\", \"val\": 10}, {\"col\": \"data\", \"idx\": \"crossings!!\", \"val\": 10}, {\"col\": \"data\", \"idx\": \"crossover\", \"val\": 10}, {\"col\": \"data\", \"idx\": \"crowdsourcing\", \"val\": 10}, {\"col\": \"data\", \"idx\": \"cruces\", \"val\": 10}, {\"col\": \"data\", \"idx\": \"crucible\", \"val\": 10}, {\"col\": \"data\", \"idx\": \"crufts\", \"val\": 10}, {\"col\": \"data\", \"idx\": \"crunchie\", \"val\": 10}, {\"col\": \"data\", \"idx\": \"cunts\", \"val\": 10}, {\"col\": \"data\", \"idx\": \"cuore\", \"val\": 10}, {\"col\": \"data\", \"idx\": \"cup!!!\", \"val\": 10}, {\"col\": \"data\", \"idx\": \"curated\", \"val\": 10}, {\"col\": \"data\", \"idx\": \"currently\", \"val\": 10}, {\"col\": \"data\", \"idx\": \"customer\", \"val\": 10}, {\"col\": \"data\", \"idx\": \"customs\", \"val\": 10}, {\"col\": \"data\", \"idx\": \"cute!\", \"val\": 10}, {\"col\": \"data\", \"idx\": \"cute,\", \"val\": 10}, {\"col\": \"data\", \"idx\": \"cutting!\", \"val\": 10}, {\"col\": \"data\", \"idx\": \"cycle\", \"val\": 10}, {\"col\": \"data\", \"idx\": \"cycling\", \"val\": 10}, {\"col\": \"data\", \"idx\": \"d'ann\\u00e9es.\", \"val\": 10}, {\"col\": \"data\", \"idx\": \"d'\\u00e2ge.\", \"val\": 10}, {\"col\": \"data\", \"idx\": \"d0oofjfjpn\", \"val\": 10}, {\"col\": \"data\", \"idx\": \"daiya\", \"val\": 10}, {\"col\": \"data\", \"idx\": \"damon\", \"val\": 10}, {\"col\": \"data\", \"idx\": \"dandy\", \"val\": 10}, {\"col\": \"data\", \"idx\": \"dandy!\", \"val\": 10}, {\"col\": \"data\", \"idx\": \"danielle\", \"val\": 10}, {\"col\": \"data\", \"idx\": \"danny\", \"val\": 10}, {\"col\": \"data\", \"idx\": \"dardenne\", \"val\": 10}, {\"col\": \"data\", \"idx\": \"darle\", \"val\": 10}, {\"col\": \"data\", \"idx\": \"dartboard?\", \"val\": 10}, {\"col\": \"data\", \"idx\": \"davis\", \"val\": 10}, {\"col\": \"data\", \"idx\": \"dawg!\", \"val\": 10}, {\"col\": \"data\", \"idx\": \"day!!!\", \"val\": 10}, {\"col\": \"data\", \"idx\": \"days!!\", \"val\": 10}, {\"col\": \"data\", \"idx\": \"days.\", \"val\": 10}, {\"col\": \"data\", \"idx\": \"days?\", \"val\": 10}, {\"col\": \"data\", \"idx\": \"day\\ud83d\\ude02\\ud83d\\udc6f\\u263a\\ufe0f\", \"val\": 10}, {\"col\": \"data\", \"idx\": \"dealing\", \"val\": 10}, {\"col\": \"data\", \"idx\": \"dean?\", \"val\": 10}, {\"col\": \"data\", \"idx\": \"dear,\", \"val\": 10}, {\"col\": \"data\", \"idx\": \"death\", \"val\": 10}, {\"col\": \"data\", \"idx\": \"debt,\", \"val\": 10}, {\"col\": \"data\", \"idx\": \"debunked.\", \"val\": 10}, {\"col\": \"data\", \"idx\": \"decency.\", \"val\": 10}, {\"col\": \"data\", \"idx\": \"decide\", \"val\": 10}, {\"col\": \"data\", \"idx\": \"decorations\", \"val\": 10}, {\"col\": \"data\", \"idx\": \"dec\\u00eda,\", \"val\": 10}, {\"col\": \"data\", \"idx\": \"deface\", \"val\": 10}, {\"col\": \"data\", \"idx\": \"defeat.\", \"val\": 10}, {\"col\": \"data\", \"idx\": \"defeats\", \"val\": 10}, {\"col\": \"data\", \"idx\": \"defence\", \"val\": 10}, {\"col\": \"data\", \"idx\": \"definitely\", \"val\": 10}, {\"col\": \"data\", \"idx\": \"definitely!\", \"val\": 10}, {\"col\": \"data\", \"idx\": \"definitely.\", \"val\": 10}, {\"col\": \"data\", \"idx\": \"degree\", \"val\": 10}, {\"col\": \"data\", \"idx\": \"degree!!\", \"val\": 10}, {\"col\": \"data\", \"idx\": \"delay)\", \"val\": 10}, {\"col\": \"data\", \"idx\": \"delete\", \"val\": 10}, {\"col\": \"data\", \"idx\": \"deleted\", \"val\": 10}, {\"col\": \"data\", \"idx\": \"delighted\", \"val\": 10}, {\"col\": \"data\", \"idx\": \"delirious\", \"val\": 10}, {\"col\": \"data\", \"idx\": \"delivery.\", \"val\": 10}, {\"col\": \"data\", \"idx\": \"denial\", \"val\": 10}, {\"col\": \"data\", \"idx\": \"dental\", \"val\": 10}, {\"col\": \"data\", \"idx\": \"deprimenti.\", \"val\": 10}, {\"col\": \"data\", \"idx\": \"derbys'\", \"val\": 10}, {\"col\": \"data\", \"idx\": \"desaparece\", \"val\": 10}, {\"col\": \"data\", \"idx\": \"describe\", \"val\": 10}, {\"col\": \"data\", \"idx\": \"described\", \"val\": 10}, {\"col\": \"data\", \"idx\": \"deserved\", \"val\": 10}, {\"col\": \"data\", \"idx\": \"deserves\", \"val\": 10}, {\"col\": \"data\", \"idx\": \"design\", \"val\": 10}, {\"col\": \"data\", \"idx\": \"despite\", \"val\": 10}, {\"col\": \"data\", \"idx\": \"destroy\", \"val\": 10}, {\"col\": \"data\", \"idx\": \"details\", \"val\": 10}, {\"col\": \"data\", \"idx\": \"development\", \"val\": 10}, {\"col\": \"data\", \"idx\": \"development.\", \"val\": 10}, {\"col\": \"data\", \"idx\": \"devil\", \"val\": 10}, {\"col\": \"data\", \"idx\": \"dewsbury!\", \"val\": 10}, {\"col\": \"data\", \"idx\": \"diablo\", \"val\": 10}, {\"col\": \"data\", \"idx\": \"diaries\", \"val\": 10}, {\"col\": \"data\", \"idx\": \"dibenu\", \"val\": 10}, {\"col\": \"data\", \"idx\": \"didn\\u2019t\", \"val\": 10}, {\"col\": \"data\", \"idx\": \"diesel\", \"val\": 10}, {\"col\": \"data\", \"idx\": \"diminished\", \"val\": 10}, {\"col\": \"data\", \"idx\": \"dimmer\", \"val\": 10}, {\"col\": \"data\", \"idx\": \"dinner\", \"val\": 10}, {\"col\": \"data\", \"idx\": \"dinton\", \"val\": 10}, {\"col\": \"data\", \"idx\": \"dire,\", \"val\": 10}, {\"col\": \"data\", \"idx\": \"directions.\", \"val\": 10}, {\"col\": \"data\", \"idx\": \"disabled\", \"val\": 10}, {\"col\": \"data\", \"idx\": \"disappointed\", \"val\": 10}, {\"col\": \"data\", \"idx\": \"disappointing\", \"val\": 10}, {\"col\": \"data\", \"idx\": \"discovered\", \"val\": 10}, {\"col\": \"data\", \"idx\": \"discuss\", \"val\": 10}, {\"col\": \"data\", \"idx\": \"discussed\", \"val\": 10}, {\"col\": \"data\", \"idx\": \"disgraceful\", \"val\": 10}, {\"col\": \"data\", \"idx\": \"dispare\", \"val\": 10}, {\"col\": \"data\", \"idx\": \"dizer\", \"val\": 10}, {\"col\": \"data\", \"idx\": \"do...\", \"val\": 10}, {\"col\": \"data\", \"idx\": \"dockat\", \"val\": 10}, {\"col\": \"data\", \"idx\": \"doctor\", \"val\": 10}, {\"col\": \"data\", \"idx\": \"dodgeball,\", \"val\": 10}, {\"col\": \"data\", \"idx\": \"doing.\", \"val\": 10}, {\"col\": \"data\", \"idx\": \"dolphins\", \"val\": 10}, {\"col\": \"data\", \"idx\": \"done...looking\", \"val\": 10}, {\"col\": \"data\", \"idx\": \"dormir\", \"val\": 10}, {\"col\": \"data\", \"idx\": \"dotor\\\"\", \"val\": 10}, {\"col\": \"data\", \"idx\": \"double\", \"val\": 10}, {\"col\": \"data\", \"idx\": \"douche\", \"val\": 10}, {\"col\": \"data\", \"idx\": \"douchey\", \"val\": 10}, {\"col\": \"data\", \"idx\": \"dough\", \"val\": 10}, {\"col\": \"data\", \"idx\": \"draco\", \"val\": 10}, {\"col\": \"data\", \"idx\": \"dragon\", \"val\": 10}, {\"col\": \"data\", \"idx\": \"dragons\", \"val\": 10}, {\"col\": \"data\", \"idx\": \"drain\", \"val\": 10}, {\"col\": \"data\", \"idx\": \"dreaming\", \"val\": 10}, {\"col\": \"data\", \"idx\": \"dress\", \"val\": 10}, {\"col\": \"data\", \"idx\": \"dressed\", \"val\": 10}, {\"col\": \"data\", \"idx\": \"drink\", \"val\": 10}, {\"col\": \"data\", \"idx\": \"drinks\", \"val\": 10}, {\"col\": \"data\", \"idx\": \"drive\", \"val\": 10}, {\"col\": \"data\", \"idx\": \"driven\", \"val\": 10}, {\"col\": \"data\", \"idx\": \"driver\", \"val\": 10}, {\"col\": \"data\", \"idx\": \"drivers\", \"val\": 10}, {\"col\": \"data\", \"idx\": \"driving\", \"val\": 10}, {\"col\": \"data\", \"idx\": \"drix?\", \"val\": 10}, {\"col\": \"data\", \"idx\": \"drone\", \"val\": 10}, {\"col\": \"data\", \"idx\": \"dropped\", \"val\": 10}, {\"col\": \"data\", \"idx\": \"drowning\", \"val\": 10}, {\"col\": \"data\", \"idx\": \"drunk\", \"val\": 10}, {\"col\": \"data\", \"idx\": \"dungeons\", \"val\": 10}, {\"col\": \"data\", \"idx\": \"d\\u00e9testent\", \"val\": 10}, {\"col\": \"data\", \"idx\": \"earlier\", \"val\": 10}, {\"col\": \"data\", \"idx\": \"earlier!\", \"val\": 10}, {\"col\": \"data\", \"idx\": \"earlier.\", \"val\": 10}, {\"col\": \"data\", \"idx\": \"early\", \"val\": 10}, {\"col\": \"data\", \"idx\": \"earned\", \"val\": 10}, {\"col\": \"data\", \"idx\": \"easier\", \"val\": 10}, {\"col\": \"data\", \"idx\": \"easily\", \"val\": 10}, {\"col\": \"data\", \"idx\": \"easily.\", \"val\": 10}, {\"col\": \"data\", \"idx\": \"east,\", \"val\": 10}, {\"col\": \"data\", \"idx\": \"eastenders\", \"val\": 10}, {\"col\": \"data\", \"idx\": \"eaten\", \"val\": 10}, {\"col\": \"data\", \"idx\": \"eating\\ud83d\\ude02\", \"val\": 10}, {\"col\": \"data\", \"idx\": \"eceau\", \"val\": 10}, {\"col\": \"data\", \"idx\": \"edgar\", \"val\": 10}, {\"col\": \"data\", \"idx\": \"edited\", \"val\": 10}, {\"col\": \"data\", \"idx\": \"education\", \"val\": 10}, {\"col\": \"data\", \"idx\": \"educational\", \"val\": 10}, {\"col\": \"data\", \"idx\": \"eeeeeee\", \"val\": 10}, {\"col\": \"data\", \"idx\": \"eeing\", \"val\": 10}, {\"col\": \"data\", \"idx\": \"efficiency\", \"val\": 10}, {\"col\": \"data\", \"idx\": \"election\", \"val\": 10}, {\"col\": \"data\", \"idx\": \"elegance.\\u201d\", \"val\": 10}, {\"col\": \"data\", \"idx\": \"elegidos,\", \"val\": 10}, {\"col\": \"data\", \"idx\": \"elephant\", \"val\": 10}, {\"col\": \"data\", \"idx\": \"elms,\", \"val\": 10}, {\"col\": \"data\", \"idx\": \"email\", \"val\": 10}, {\"col\": \"data\", \"idx\": \"emailed\", \"val\": 10}, {\"col\": \"data\", \"idx\": \"emerdale\", \"val\": 10}, {\"col\": \"data\", \"idx\": \"emily,\", \"val\": 10}, {\"col\": \"data\", \"idx\": \"emojis\", \"val\": 10}, {\"col\": \"data\", \"idx\": \"emotional...draco\", \"val\": 10}, {\"col\": \"data\", \"idx\": \"empty\", \"val\": 10}, {\"col\": \"data\", \"idx\": \"encourage.\", \"val\": 10}, {\"col\": \"data\", \"idx\": \"ended.\", \"val\": 10}, {\"col\": \"data\", \"idx\": \"energy\", \"val\": 10}, {\"col\": \"data\", \"idx\": \"engage\", \"val\": 10}, {\"col\": \"data\", \"idx\": \"engineering\", \"val\": 10}, {\"col\": \"data\", \"idx\": \"england\", \"val\": 10}, {\"col\": \"data\", \"idx\": \"english\", \"val\": 10}, {\"col\": \"data\", \"idx\": \"enhanced\", \"val\": 10}, {\"col\": \"data\", \"idx\": \"enjoy\", \"val\": 10}, {\"col\": \"data\", \"idx\": \"enjoy!\", \"val\": 10}, {\"col\": \"data\", \"idx\": \"enjoy:\", \"val\": 10}, {\"col\": \"data\", \"idx\": \"enjoyed\", \"val\": 10}, {\"col\": \"data\", \"idx\": \"enjoying\", \"val\": 10}, {\"col\": \"data\", \"idx\": \"enjoyment\", \"val\": 10}, {\"col\": \"data\", \"idx\": \"enough\\u2600\\ufe0f!!\", \"val\": 10}, {\"col\": \"data\", \"idx\": \"entering?\", \"val\": 10}, {\"col\": \"data\", \"idx\": \"entre\", \"val\": 10}, {\"col\": \"data\", \"idx\": \"entries\", \"val\": 10}, {\"col\": \"data\", \"idx\": \"entry\", \"val\": 10}, {\"col\": \"data\", \"idx\": \"entry!\", \"val\": 10}, {\"col\": \"data\", \"idx\": \"epassport\", \"val\": 10}, {\"col\": \"data\", \"idx\": \"epassports\", \"val\": 10}, {\"col\": \"data\", \"idx\": \"episodes\", \"val\": 10}, {\"col\": \"data\", \"idx\": \"equivalent\", \"val\": 10}, {\"col\": \"data\", \"idx\": \"esbarrando\", \"val\": 10}, {\"col\": \"data\", \"idx\": \"esperar,por\", \"val\": 10}, {\"col\": \"data\", \"idx\": \"essay\", \"val\": 10}, {\"col\": \"data\", \"idx\": \"essex\", \"val\": 10}, {\"col\": \"data\", \"idx\": \"essex)\", \"val\": 10}, {\"col\": \"data\", \"idx\": \"est-ce\", \"val\": 10}, {\"col\": \"data\", \"idx\": \"estar\", \"val\": 10}, {\"col\": \"data\", \"idx\": \"estate\", \"val\": 10}, {\"col\": \"data\", \"idx\": \"euro?\", \"val\": 10}, {\"col\": \"data\", \"idx\": \"european\", \"val\": 10}, {\"col\": \"data\", \"idx\": \"event\", \"val\": 10}, {\"col\": \"data\", \"idx\": \"eventfull\", \"val\": 10}, {\"col\": \"data\", \"idx\": \"ever.\", \"val\": 10}, {\"col\": \"data\", \"idx\": \"everything's\", \"val\": 10}, {\"col\": \"data\", \"idx\": \"everything.\", \"val\": 10}, {\"col\": \"data\", \"idx\": \"examinations\", \"val\": 10}, {\"col\": \"data\", \"idx\": \"examines\", \"val\": 10}, {\"col\": \"data\", \"idx\": \"examples\", \"val\": 10}, {\"col\": \"data\", \"idx\": \"exams\", \"val\": 10}, {\"col\": \"data\", \"idx\": \"excellent\", \"val\": 10}, {\"col\": \"data\", \"idx\": \"excited\", \"val\": 10}, {\"col\": \"data\", \"idx\": \"exciting\", \"val\": 10}, {\"col\": \"data\", \"idx\": \"exercises\", \"val\": 10}, {\"col\": \"data\", \"idx\": \"expected\", \"val\": 10}, {\"col\": \"data\", \"idx\": \"expensive\", \"val\": 10}, {\"col\": \"data\", \"idx\": \"experience\", \"val\": 10}, {\"col\": \"data\", \"idx\": \"experience?\", \"val\": 10}, {\"col\": \"data\", \"idx\": \"experimental\", \"val\": 10}, {\"col\": \"data\", \"idx\": \"explaining\", \"val\": 10}, {\"col\": \"data\", \"idx\": \"explanation.\", \"val\": 10}, {\"col\": \"data\", \"idx\": \"exploring.\", \"val\": 10}, {\"col\": \"data\", \"idx\": \"exps.\", \"val\": 10}, {\"col\": \"data\", \"idx\": \"exuberance\", \"val\": 10}, {\"col\": \"data\", \"idx\": \"eyes,\", \"val\": 10}, {\"col\": \"data\", \"idx\": \"facebook,\", \"val\": 10}, {\"col\": \"data\", \"idx\": \"facebook.\", \"val\": 10}, {\"col\": \"data\", \"idx\": \"facil\", \"val\": 10}, {\"col\": \"data\", \"idx\": \"facts!\", \"val\": 10}, {\"col\": \"data\", \"idx\": \"failed\", \"val\": 10}, {\"col\": \"data\", \"idx\": \"fakat\", \"val\": 10}, {\"col\": \"data\", \"idx\": \"falling\", \"val\": 10}, {\"col\": \"data\", \"idx\": \"falling,\", \"val\": 10}, {\"col\": \"data\", \"idx\": \"falling.\", \"val\": 10}, {\"col\": \"data\", \"idx\": \"families.\", \"val\": 10}, {\"col\": \"data\", \"idx\": \"family\", \"val\": 10}, {\"col\": \"data\", \"idx\": \"family,\", \"val\": 10}, {\"col\": \"data\", \"idx\": \"fanatic.\", \"val\": 10}, {\"col\": \"data\", \"idx\": \"fancy\", \"val\": 10}, {\"col\": \"data\", \"idx\": \"fantastic\", \"val\": 10}, {\"col\": \"data\", \"idx\": \"farmers\", \"val\": 10}, {\"col\": \"data\", \"idx\": \"fashion\", \"val\": 10}, {\"col\": \"data\", \"idx\": \"fatales\", \"val\": 10}, {\"col\": \"data\", \"idx\": \"fault\", \"val\": 10}, {\"col\": \"data\", \"idx\": \"faulty\", \"val\": 10}, {\"col\": \"data\", \"idx\": \"favourite\", \"val\": 10}, {\"col\": \"data\", \"idx\": \"favourite?\", \"val\": 10}, {\"col\": \"data\", \"idx\": \"fav\\ud83d\\ude0b\\ud83d\\ude0b\", \"val\": 10}, {\"col\": \"data\", \"idx\": \"fazer\", \"val\": 10}, {\"col\": \"data\", \"idx\": \"feasible\", \"val\": 10}, {\"col\": \"data\", \"idx\": \"feast!\", \"val\": 10}, {\"col\": \"data\", \"idx\": \"feature\", \"val\": 10}, {\"col\": \"data\", \"idx\": \"features\", \"val\": 10}, {\"col\": \"data\", \"idx\": \"february\", \"val\": 10}, {\"col\": \"data\", \"idx\": \"feedback\", \"val\": 10}, {\"col\": \"data\", \"idx\": \"feeling\", \"val\": 10}, {\"col\": \"data\", \"idx\": \"feeling...do\", \"val\": 10}, {\"col\": \"data\", \"idx\": \"feels\", \"val\": 10}, {\"col\": \"data\", \"idx\": \"fellow\", \"val\": 10}, {\"col\": \"data\", \"idx\": \"femmes\", \"val\": 10}, {\"col\": \"data\", \"idx\": \"ferry,\", \"val\": 10}, {\"col\": \"data\", \"idx\": \"festival\", \"val\": 10}, {\"col\": \"data\", \"idx\": \"fibre\", \"val\": 10}, {\"col\": \"data\", \"idx\": \"fight\", \"val\": 10}, {\"col\": \"data\", \"idx\": \"fighting\", \"val\": 10}, {\"col\": \"data\", \"idx\": \"filled\", \"val\": 10}, {\"col\": \"data\", \"idx\": \"filming\", \"val\": 10}, {\"col\": \"data\", \"idx\": \"finalised\", \"val\": 10}, {\"col\": \"data\", \"idx\": \"finalllyyyy\", \"val\": 10}, {\"col\": \"data\", \"idx\": \"finally\", \"val\": 10}, {\"col\": \"data\", \"idx\": \"fine.\", \"val\": 10}, {\"col\": \"data\", \"idx\": \"finger\", \"val\": 10}, {\"col\": \"data\", \"idx\": \"fingers\", \"val\": 10}, {\"col\": \"data\", \"idx\": \"finish!\", \"val\": 10}, {\"col\": \"data\", \"idx\": \"finished\", \"val\": 10}, {\"col\": \"data\", \"idx\": \"finlay\", \"val\": 10}, {\"col\": \"data\", \"idx\": \"firstly\", \"val\": 10}, {\"col\": \"data\", \"idx\": \"fisherman's\", \"val\": 10}, {\"col\": \"data\", \"idx\": \"fixed\", \"val\": 10}, {\"col\": \"data\", \"idx\": \"flawless\", \"val\": 10}, {\"col\": \"data\", \"idx\": \"fleetwood\", \"val\": 10}, {\"col\": \"data\", \"idx\": \"flinging\", \"val\": 10}, {\"col\": \"data\", \"idx\": \"floor!!\", \"val\": 10}, {\"col\": \"data\", \"idx\": \"floors\", \"val\": 10}, {\"col\": \"data\", \"idx\": \"flower\", \"val\": 10}, {\"col\": \"data\", \"idx\": \"flyers\", \"val\": 10}, {\"col\": \"data\", \"idx\": \"flying\", \"val\": 10}, {\"col\": \"data\", \"idx\": \"focus\", \"val\": 10}, {\"col\": \"data\", \"idx\": \"follow\", \"val\": 10}, {\"col\": \"data\", \"idx\": \"follow!\", \"val\": 10}, {\"col\": \"data\", \"idx\": \"followers\", \"val\": 10}, {\"col\": \"data\", \"idx\": \"food,\", \"val\": 10}, {\"col\": \"data\", \"idx\": \"food.\", \"val\": 10}, {\"col\": \"data\", \"idx\": \"food4families\", \"val\": 10}, {\"col\": \"data\", \"idx\": \"fools.\", \"val\": 10}, {\"col\": \"data\", \"idx\": \"football\", \"val\": 10}, {\"col\": \"data\", \"idx\": \"for'-\", \"val\": 10}, {\"col\": \"data\", \"idx\": \"force\", \"val\": 10}, {\"col\": \"data\", \"idx\": \"forced\", \"val\": 10}, {\"col\": \"data\", \"idx\": \"forecast:\", \"val\": 10}, {\"col\": \"data\", \"idx\": \"forecasting\", \"val\": 10}, {\"col\": \"data\", \"idx\": \"forest\", \"val\": 10}, {\"col\": \"data\", \"idx\": \"forevz\", \"val\": 10}, {\"col\": \"data\", \"idx\": \"forget\", \"val\": 10}, {\"col\": \"data\", \"idx\": \"formula\", \"val\": 10}, {\"col\": \"data\", \"idx\": \"forward\", \"val\": 10}, {\"col\": \"data\", \"idx\": \"forza\", \"val\": 10}, {\"col\": \"data\", \"idx\": \"founder\", \"val\": 10}, {\"col\": \"data\", \"idx\": \"france\", \"val\": 10}, {\"col\": \"data\", \"idx\": \"freak\", \"val\": 10}, {\"col\": \"data\", \"idx\": \"free?\", \"val\": 10}, {\"col\": \"data\", \"idx\": \"freehold\", \"val\": 10}, {\"col\": \"data\", \"idx\": \"fresh\", \"val\": 10}, {\"col\": \"data\", \"idx\": \"friars\", \"val\": 10}, {\"col\": \"data\", \"idx\": \"fricking\", \"val\": 10}, {\"col\": \"data\", \"idx\": \"friday\", \"val\": 10}, {\"col\": \"data\", \"idx\": \"friend\", \"val\": 10}, {\"col\": \"data\", \"idx\": \"friend...\", \"val\": 10}, {\"col\": \"data\", \"idx\": \"friends\", \"val\": 10}, {\"col\": \"data\", \"idx\": \"friends\\ud83d\\udc81\", \"val\": 10}, {\"col\": \"data\", \"idx\": \"friggin\", \"val\": 10}, {\"col\": \"data\", \"idx\": \"frightened\", \"val\": 10}, {\"col\": \"data\", \"idx\": \"front\", \"val\": 10}, {\"col\": \"data\", \"idx\": \"fruit,\", \"val\": 10}, {\"col\": \"data\", \"idx\": \"fucked\", \"val\": 10}, {\"col\": \"data\", \"idx\": \"fucking\", \"val\": 10}, {\"col\": \"data\", \"idx\": \"fuck\\ud83d\\ude29\", \"val\": 10}, {\"col\": \"data\", \"idx\": \"fuming.\", \"val\": 10}, {\"col\": \"data\", \"idx\": \"functions\", \"val\": 10}, {\"col\": \"data\", \"idx\": \"funding\", \"val\": 10}, {\"col\": \"data\", \"idx\": \"fundraising\", \"val\": 10}, {\"col\": \"data\", \"idx\": \"funeral\", \"val\": 10}, {\"col\": \"data\", \"idx\": \"funeral,\", \"val\": 10}, {\"col\": \"data\", \"idx\": \"funny\", \"val\": 10}, {\"col\": \"data\", \"idx\": \"funny,\", \"val\": 10}, {\"col\": \"data\", \"idx\": \"furby\", \"val\": 10}, {\"col\": \"data\", \"idx\": \"furious\", \"val\": 10}, {\"col\": \"data\", \"idx\": \"fussy\", \"val\": 10}, {\"col\": \"data\", \"idx\": \"futsal,\", \"val\": 10}, {\"col\": \"data\", \"idx\": \"future\", \"val\": 10}, {\"col\": \"data\", \"idx\": \"future.\", \"val\": 10}, {\"col\": \"data\", \"idx\": \"futures\", \"val\": 10}, {\"col\": \"data\", \"idx\": \"fuzzy\", \"val\": 10}, {\"col\": \"data\", \"idx\": \"f\\u00e9ministes\", \"val\": 10}, {\"col\": \"data\", \"idx\": \"games\", \"val\": 10}, {\"col\": \"data\", \"idx\": \"garden\", \"val\": 10}, {\"col\": \"data\", \"idx\": \"geese\", \"val\": 10}, {\"col\": \"data\", \"idx\": \"geez.\", \"val\": 10}, {\"col\": \"data\", \"idx\": \"generous\", \"val\": 10}, {\"col\": \"data\", \"idx\": \"genetics.\", \"val\": 10}, {\"col\": \"data\", \"idx\": \"genius\", \"val\": 10}, {\"col\": \"data\", \"idx\": \"genome\", \"val\": 10}, {\"col\": \"data\", \"idx\": \"gente\", \"val\": 10}, {\"col\": \"data\", \"idx\": \"ghost\", \"val\": 10}, {\"col\": \"data\", \"idx\": \"gingery\", \"val\": 10}, {\"col\": \"data\", \"idx\": \"girando\", \"val\": 10}, {\"col\": \"data\", \"idx\": \"girl!\", \"val\": 10}, {\"col\": \"data\", \"idx\": \"girlhood\", \"val\": 10}, {\"col\": \"data\", \"idx\": \"girlies\", \"val\": 10}, {\"col\": \"data\", \"idx\": \"girls\", \"val\": 10}, {\"col\": \"data\", \"idx\": \"girls???\", \"val\": 10}, {\"col\": \"data\", \"idx\": \"glorious\", \"val\": 10}, {\"col\": \"data\", \"idx\": \"goat.\", \"val\": 10}, {\"col\": \"data\", \"idx\": \"godmanchester,\", \"val\": 10}, {\"col\": \"data\", \"idx\": \"going!!!!\", \"val\": 10}, {\"col\": \"data\", \"idx\": \"going?\", \"val\": 10}, {\"col\": \"data\", \"idx\": \"gonna\", \"val\": 10}, {\"col\": \"data\", \"idx\": \"good,\", \"val\": 10}, {\"col\": \"data\", \"idx\": \"good.\", \"val\": 10}, {\"col\": \"data\", \"idx\": \"good...\", \"val\": 10}, {\"col\": \"data\", \"idx\": \"good?\", \"val\": 10}, {\"col\": \"data\", \"idx\": \"goodies.\", \"val\": 10}, {\"col\": \"data\", \"idx\": \"google\", \"val\": 10}, {\"col\": \"data\", \"idx\": \"gooners\", \"val\": 10}, {\"col\": \"data\", \"idx\": \"gorgeous!\", \"val\": 10}, {\"col\": \"data\", \"idx\": \"gosh.\", \"val\": 10}, {\"col\": \"data\", \"idx\": \"go\\ud83d\\ude2d\\ud83d\\ude2d\\ud83d\\ude29\\ud83d\\ude29\", \"val\": 10}, {\"col\": \"data\", \"idx\": \"gracias\", \"val\": 10}, {\"col\": \"data\", \"idx\": \"grand\", \"val\": 10}, {\"col\": \"data\", \"idx\": \"grandad\", \"val\": 10}, {\"col\": \"data\", \"idx\": \"grandma\", \"val\": 10}, {\"col\": \"data\", \"idx\": \"grange\", \"val\": 10}, {\"col\": \"data\", \"idx\": \"grateful\", \"val\": 10}, {\"col\": \"data\", \"idx\": \"grayshott!!\", \"val\": 10}, {\"col\": \"data\", \"idx\": \"great\", \"val\": 100}, {\"col\": \"data\", \"idx\": \"great!\", \"val\": 10}, {\"col\": \"data\", \"idx\": \"great,\", \"val\": 10}, {\"col\": \"data\", \"idx\": \"greatly\", \"val\": 10}, {\"col\": \"data\", \"idx\": \"greatness...when\", \"val\": 10}, {\"col\": \"data\", \"idx\": \"greece\", \"val\": 10}, {\"col\": \"data\", \"idx\": \"griffo.\", \"val\": 10}, {\"col\": \"data\", \"idx\": \"grilled\", \"val\": 10}, {\"col\": \"data\", \"idx\": \"grind\", \"val\": 10}, {\"col\": \"data\", \"idx\": \"grinding\", \"val\": 10}, {\"col\": \"data\", \"idx\": \"gri\\u00f1an\", \"val\": 10}, {\"col\": \"data\", \"idx\": \"group\", \"val\": 10}, {\"col\": \"data\", \"idx\": \"grouped\\u2026\", \"val\": 10}, {\"col\": \"data\", \"idx\": \"grown\", \"val\": 10}, {\"col\": \"data\", \"idx\": \"gte-am\", \"val\": 10}, {\"col\": \"data\", \"idx\": \"guarantee\", \"val\": 10}, {\"col\": \"data\", \"idx\": \"guardian\", \"val\": 10}, {\"col\": \"data\", \"idx\": \"guess\", \"val\": 10}, {\"col\": \"data\", \"idx\": \"guilt\", \"val\": 10}, {\"col\": \"data\", \"idx\": \"gunna\", \"val\": 10}, {\"col\": \"data\", \"idx\": \"guy...\", \"val\": 10}, {\"col\": \"data\", \"idx\": \"g\\u00f3mez,\", \"val\": 10}, {\"col\": \"data\", \"idx\": \"haha!\", \"val\": 10}, {\"col\": \"data\", \"idx\": \"haha!!\", \"val\": 10}, {\"col\": \"data\", \"idx\": \"hahaa\", \"val\": 10}, {\"col\": \"data\", \"idx\": \"hahaha!\", \"val\": 10}, {\"col\": \"data\", \"idx\": \"hahahahaha\", \"val\": 10}, {\"col\": \"data\", \"idx\": \"hahahahahahahahahahahahahahahahahahahahahahahahahahahahahahahahahahahahahah.\", \"val\": 10}, {\"col\": \"data\", \"idx\": \"hahahha\", \"val\": 10}, {\"col\": \"data\", \"idx\": \"haha\\ud83d\\ude02\\ud83d\\ude02\\ud83d\\ude02\\ud83d\\ude02\", \"val\": 10}, {\"col\": \"data\", \"idx\": \"hamilton\", \"val\": 10}, {\"col\": \"data\", \"idx\": \"hangman\", \"val\": 10}, {\"col\": \"data\", \"idx\": \"happen\", \"val\": 10}, {\"col\": \"data\", \"idx\": \"happiness\", \"val\": 10}, {\"col\": \"data\", \"idx\": \"happy\", \"val\": 10}, {\"col\": \"data\", \"idx\": \"harassing\", \"val\": 10}, {\"col\": \"data\", \"idx\": \"hard....\", \"val\": 10}, {\"col\": \"data\", \"idx\": \"harrods\", \"val\": 10}, {\"col\": \"data\", \"idx\": \"harrods,\", \"val\": 10}, {\"col\": \"data\", \"idx\": \"harry\", \"val\": 10}, {\"col\": \"data\", \"idx\": \"harrys\", \"val\": 10}, {\"col\": \"data\", \"idx\": \"hartley\", \"val\": 10}, {\"col\": \"data\", \"idx\": \"hassle\", \"val\": 10}, {\"col\": \"data\", \"idx\": \"hastag\", \"val\": 10}, {\"col\": \"data\", \"idx\": \"have,\", \"val\": 10}, {\"col\": \"data\", \"idx\": \"havent\", \"val\": 10}, {\"col\": \"data\", \"idx\": \"hawkhurst\", \"val\": 10}, {\"col\": \"data\", \"idx\": \"he'll\", \"val\": 10}, {\"col\": \"data\", \"idx\": \"headline\", \"val\": 10}, {\"col\": \"data\", \"idx\": \"heads\", \"val\": 10}, {\"col\": \"data\", \"idx\": \"health\", \"val\": 10}, {\"col\": \"data\", \"idx\": \"health&amp;social\", \"val\": 10}, {\"col\": \"data\", \"idx\": \"healthy\", \"val\": 10}, {\"col\": \"data\", \"idx\": \"hear!\", \"val\": 10}, {\"col\": \"data\", \"idx\": \"heard\", \"val\": 10}, {\"col\": \"data\", \"idx\": \"hearing\", \"val\": 10}, {\"col\": \"data\", \"idx\": \"heart\", \"val\": 10}, {\"col\": \"data\", \"idx\": \"hearted\", \"val\": 10}, {\"col\": \"data\", \"idx\": \"hearts\", \"val\": 10}, {\"col\": \"data\", \"idx\": \"hedges\", \"val\": 10}, {\"col\": \"data\", \"idx\": \"heels\", \"val\": 10}, {\"col\": \"data\", \"idx\": \"hehehe\", \"val\": 10}, {\"col\": \"data\", \"idx\": \"hello\", \"val\": 10}, {\"col\": \"data\", \"idx\": \"hello!!\", \"val\": 10}, {\"col\": \"data\", \"idx\": \"helmet\", \"val\": 10}, {\"col\": \"data\", \"idx\": \"help!\", \"val\": 10}, {\"col\": \"data\", \"idx\": \"help.\", \"val\": 10}, {\"col\": \"data\", \"idx\": \"helps!\", \"val\": 10}, {\"col\": \"data\", \"idx\": \"hemsby!\", \"val\": 10}, {\"col\": \"data\", \"idx\": \"her....\", \"val\": 10}, {\"col\": \"data\", \"idx\": \"here's\", \"val\": 10}, {\"col\": \"data\", \"idx\": \"here,\", \"val\": 10}, {\"col\": \"data\", \"idx\": \"here..\", \"val\": 10}, {\"col\": \"data\", \"idx\": \"here:\", \"val\": 10}, {\"col\": \"data\", \"idx\": \"herringbone\", \"val\": 10}, {\"col\": \"data\", \"idx\": \"highly\", \"val\": 10}, {\"col\": \"data\", \"idx\": \"hii!!\", \"val\": 10}, {\"col\": \"data\", \"idx\": \"him..\", \"val\": 10}, {\"col\": \"data\", \"idx\": \"hitting\", \"val\": 10}, {\"col\": \"data\", \"idx\": \"hiya,\", \"val\": 10}, {\"col\": \"data\", \"idx\": \"holders.\", \"val\": 10}, {\"col\": \"data\", \"idx\": \"holders.contact\", \"val\": 10}, {\"col\": \"data\", \"idx\": \"holding\", \"val\": 10}, {\"col\": \"data\", \"idx\": \"home!\", \"val\": 10}, {\"col\": \"data\", \"idx\": \"home,\", \"val\": 10}, {\"col\": \"data\", \"idx\": \"home.\", \"val\": 10}, {\"col\": \"data\", \"idx\": \"homework,\", \"val\": 10}, {\"col\": \"data\", \"idx\": \"hommes\", \"val\": 10}, {\"col\": \"data\", \"idx\": \"honestly\", \"val\": 10}, {\"col\": \"data\", \"idx\": \"honestly.no\", \"val\": 10}, {\"col\": \"data\", \"idx\": \"honor\", \"val\": 10}, {\"col\": \"data\", \"idx\": \"hopefully\", \"val\": 10}, {\"col\": \"data\", \"idx\": \"hopitaux\", \"val\": 10}, {\"col\": \"data\", \"idx\": \"horizons\", \"val\": 10}, {\"col\": \"data\", \"idx\": \"horrible\", \"val\": 10}, {\"col\": \"data\", \"idx\": \"horse\", \"val\": 10}, {\"col\": \"data\", \"idx\": \"hospitality\", \"val\": 10}, {\"col\": \"data\", \"idx\": \"hosting\", \"val\": 10}, {\"col\": \"data\", \"idx\": \"hot!mess\", \"val\": 10}, {\"col\": \"data\", \"idx\": \"hotel\", \"val\": 10}, {\"col\": \"data\", \"idx\": \"hoult,\", \"val\": 10}, {\"col\": \"data\", \"idx\": \"hounds\", \"val\": 10}, {\"col\": \"data\", \"idx\": \"hours\", \"val\": 10}, {\"col\": \"data\", \"idx\": \"hours..\", \"val\": 10}, {\"col\": \"data\", \"idx\": \"house\", \"val\": 10}, {\"col\": \"data\", \"idx\": \"houses\", \"val\": 10}, {\"col\": \"data\", \"idx\": \"housing\", \"val\": 10}, {\"col\": \"data\", \"idx\": \"how's\", \"val\": 10}, {\"col\": \"data\", \"idx\": \"howling\", \"val\": 10}, {\"col\": \"data\", \"idx\": \"https://t.co/apncdkztue\", \"val\": 10}, {\"col\": \"data\", \"idx\": \"https://t.co/gbye7wjmwi\", \"val\": 10}, {\"col\": \"data\", \"idx\": \"https://t.co/gnwp0kp248\", \"val\": 10}, {\"col\": \"data\", \"idx\": \"https://t.co/hivqug53vw\", \"val\": 10}, {\"col\": \"data\", \"idx\": \"https://t.co/hwtwvwcpfy\", \"val\": 10}, {\"col\": \"data\", \"idx\": \"https://t.co/mxmicccopo\", \"val\": 10}, {\"col\": \"data\", \"idx\": \"https://t.co/otrlnwyd11\", \"val\": 10}, {\"col\": \"data\", \"idx\": \"https://t.co/qbrcpsmskt\", \"val\": 10}, {\"col\": \"data\", \"idx\": \"https://t.co/qu0qdwq7iy\", \"val\": 10}, {\"col\": \"data\", \"idx\": \"https://t.co/soy32uz7mn\", \"val\": 10}, {\"col\": \"data\", \"idx\": \"https://t.co/xaamokufep\", \"val\": 10}, {\"col\": \"data\", \"idx\": \"hug\\ud83d\\udcd5hermione\", \"val\": 10}, {\"col\": \"data\", \"idx\": \"human\", \"val\": 10}, {\"col\": \"data\", \"idx\": \"humans\", \"val\": 10}, {\"col\": \"data\", \"idx\": \"humid\", \"val\": 10}, {\"col\": \"data\", \"idx\": \"humidity\", \"val\": 10}, {\"col\": \"data\", \"idx\": \"humidity:\", \"val\": 10}, {\"col\": \"data\", \"idx\": \"humor\", \"val\": 10}, {\"col\": \"data\", \"idx\": \"hungry\", \"val\": 10}, {\"col\": \"data\", \"idx\": \"hunting!\", \"val\": 10}, {\"col\": \"data\", \"idx\": \"huntingdonshire,\", \"val\": 10}, {\"col\": \"data\", \"idx\": \"hurry\", \"val\": 10}, {\"col\": \"data\", \"idx\": \"hurst,\", \"val\": 10}, {\"col\": \"data\", \"idx\": \"husband\", \"val\": 10}, {\"col\": \"data\", \"idx\": \"husband.\", \"val\": 10}, {\"col\": \"data\", \"idx\": \"iceland\", \"val\": 10}, {\"col\": \"data\", \"idx\": \"icymi\", \"val\": 10}, {\"col\": \"data\", \"idx\": \"idea:\", \"val\": 10}, {\"col\": \"data\", \"idx\": \"ideas\", \"val\": 10}, {\"col\": \"data\", \"idx\": \"ignorant\", \"val\": 10}, {\"col\": \"data\", \"idx\": \"ignore\", \"val\": 10}, {\"col\": \"data\", \"idx\": \"illustrator\", \"val\": 10}, {\"col\": \"data\", \"idx\": \"ilysm\", \"val\": 10}, {\"col\": \"data\", \"idx\": \"images,\", \"val\": 10}, {\"col\": \"data\", \"idx\": \"imagine\", \"val\": 10}, {\"col\": \"data\", \"idx\": \"imploro\", \"val\": 10}, {\"col\": \"data\", \"idx\": \"importantly\", \"val\": 10}, {\"col\": \"data\", \"idx\": \"impressed\", \"val\": 10}, {\"col\": \"data\", \"idx\": \"improvements\", \"val\": 10}, {\"col\": \"data\", \"idx\": \"in-between\", \"val\": 10}, {\"col\": \"data\", \"idx\": \"in-store\", \"val\": 10}, {\"col\": \"data\", \"idx\": \"incited\", \"val\": 10}, {\"col\": \"data\", \"idx\": \"inconsiderate\", \"val\": 10}, {\"col\": \"data\", \"idx\": \"increase\", \"val\": 10}, {\"col\": \"data\", \"idx\": \"incr\\u00e9dulos\", \"val\": 10}, {\"col\": \"data\", \"idx\": \"indeed!\", \"val\": 10}, {\"col\": \"data\", \"idx\": \"indeed.\", \"val\": 10}, {\"col\": \"data\", \"idx\": \"indesign,\", \"val\": 10}, {\"col\": \"data\", \"idx\": \"industry.\", \"val\": 10}, {\"col\": \"data\", \"idx\": \"infiltrated/influenced\", \"val\": 10}, {\"col\": \"data\", \"idx\": \"info.\", \"val\": 10}, {\"col\": \"data\", \"idx\": \"informed.\", \"val\": 10}, {\"col\": \"data\", \"idx\": \"infuriating,\", \"val\": 10}, {\"col\": \"data\", \"idx\": \"injection\", \"val\": 10}, {\"col\": \"data\", \"idx\": \"innovation\", \"val\": 10}, {\"col\": \"data\", \"idx\": \"insane\\ud83d\\ude02\\ud83d\\ude02\\ud83d\\ude2d\", \"val\": 10}, {\"col\": \"data\", \"idx\": \"inside\", \"val\": 10}, {\"col\": \"data\", \"idx\": \"inspiration\", \"val\": 10}, {\"col\": \"data\", \"idx\": \"inspired\", \"val\": 10}, {\"col\": \"data\", \"idx\": \"inspo\", \"val\": 10}, {\"col\": \"data\", \"idx\": \"instagram\", \"val\": 10}, {\"col\": \"data\", \"idx\": \"instagram,\", \"val\": 10}, {\"col\": \"data\", \"idx\": \"instruction\", \"val\": 10}, {\"col\": \"data\", \"idx\": \"insulting\", \"val\": 10}, {\"col\": \"data\", \"idx\": \"insurance\", \"val\": 10}, {\"col\": \"data\", \"idx\": \"int'l\", \"val\": 10}, {\"col\": \"data\", \"idx\": \"interest\", \"val\": 10}, {\"col\": \"data\", \"idx\": \"interested\", \"val\": 10}, {\"col\": \"data\", \"idx\": \"interesting\", \"val\": 10}, {\"col\": \"data\", \"idx\": \"interesting!\", \"val\": 10}, {\"col\": \"data\", \"idx\": \"interesting!!\", \"val\": 10}, {\"col\": \"data\", \"idx\": \"interiors\", \"val\": 10}, {\"col\": \"data\", \"idx\": \"interpretation\", \"val\": 10}, {\"col\": \"data\", \"idx\": \"interval\", \"val\": 10}, {\"col\": \"data\", \"idx\": \"intrigued\", \"val\": 10}, {\"col\": \"data\", \"idx\": \"intrigued!!!!!\", \"val\": 10}, {\"col\": \"data\", \"idx\": \"intro'\", \"val\": 10}, {\"col\": \"data\", \"idx\": \"invite\", \"val\": 10}, {\"col\": \"data\", \"idx\": \"involved\", \"val\": 10}, {\"col\": \"data\", \"idx\": \"involving\", \"val\": 10}, {\"col\": \"data\", \"idx\": \"ipswich\", \"val\": 10}, {\"col\": \"data\", \"idx\": \"ireland\", \"val\": 10}, {\"col\": \"data\", \"idx\": \"issue\", \"val\": 10}, {\"col\": \"data\", \"idx\": \"issue.\", \"val\": 10}, {\"col\": \"data\", \"idx\": \"it!!!!\", \"val\": 10}, {\"col\": \"data\", \"idx\": \"it?do\", \"val\": 10}, {\"col\": \"data\", \"idx\": \"italia\", \"val\": 10}, {\"col\": \"data\", \"idx\": \"ittttt\", \"val\": 10}, {\"col\": \"data\", \"idx\": \"itunes\", \"val\": 10}, {\"col\": \"data\", \"idx\": \"jakbym\", \"val\": 10}, {\"col\": \"data\", \"idx\": \"january\", \"val\": 10}, {\"col\": \"data\", \"idx\": \"jealous\", \"val\": 10}, {\"col\": \"data\", \"idx\": \"jebal\", \"val\": 10}, {\"col\": \"data\", \"idx\": \"jenni\", \"val\": 10}, {\"col\": \"data\", \"idx\": \"jeremy\", \"val\": 10}, {\"col\": \"data\", \"idx\": \"jerome\", \"val\": 10}, {\"col\": \"data\", \"idx\": \"jezza\", \"val\": 10}, {\"col\": \"data\", \"idx\": \"jocks?\", \"val\": 10}, {\"col\": \"data\", \"idx\": \"johnny?\", \"val\": 10}, {\"col\": \"data\", \"idx\": \"joined\", \"val\": 10}, {\"col\": \"data\", \"idx\": \"joints\", \"val\": 10}, {\"col\": \"data\", \"idx\": \"joke!\", \"val\": 10}, {\"col\": \"data\", \"idx\": \"journalist\", \"val\": 10}, {\"col\": \"data\", \"idx\": \"judge\", \"val\": 10}, {\"col\": \"data\", \"idx\": \"juggernaut:\", \"val\": 10}, {\"col\": \"data\", \"idx\": \"juice\", \"val\": 10}, {\"col\": \"data\", \"idx\": \"jumping\", \"val\": 10}, {\"col\": \"data\", \"idx\": \"june!\", \"val\": 10}, {\"col\": \"data\", \"idx\": \"kane.\", \"val\": 10}, {\"col\": \"data\", \"idx\": \"kane?\", \"val\": 10}, {\"col\": \"data\", \"idx\": \"kareen?\", \"val\": 10}, {\"col\": \"data\", \"idx\": \"karni\", \"val\": 10}, {\"col\": \"data\", \"idx\": \"karoline\", \"val\": 10}, {\"col\": \"data\", \"idx\": \"katherine\", \"val\": 10}, {\"col\": \"data\", \"idx\": \"keeping\", \"val\": 10}, {\"col\": \"data\", \"idx\": \"keychains\", \"val\": 10}, {\"col\": \"data\", \"idx\": \"keynote\", \"val\": 10}, {\"col\": \"data\", \"idx\": \"kfseagulls\", \"val\": 10}, {\"col\": \"data\", \"idx\": \"khudkushi\", \"val\": 10}, {\"col\": \"data\", \"idx\": \"kicking\", \"val\": 10}, {\"col\": \"data\", \"idx\": \"killed\", \"val\": 10}, {\"col\": \"data\", \"idx\": \"killer\", \"val\": 10}, {\"col\": \"data\", \"idx\": \"kills\", \"val\": 10}, {\"col\": \"data\", \"idx\": \"kingfisher\", \"val\": 10}, {\"col\": \"data\", \"idx\": \"kingsley's\", \"val\": 10}, {\"col\": \"data\", \"idx\": \"kmttttt\", \"val\": 10}, {\"col\": \"data\", \"idx\": \"know!\", \"val\": 10}, {\"col\": \"data\", \"idx\": \"know,\", \"val\": 10}, {\"col\": \"data\", \"idx\": \"know.\", \"val\": 10}, {\"col\": \"data\", \"idx\": \"knowing\", \"val\": 10}, {\"col\": \"data\", \"idx\": \"kombat\", \"val\": 10}, {\"col\": \"data\", \"idx\": \"kreme\", \"val\": 10}, {\"col\": \"data\", \"idx\": \"krispy\", \"val\": 10}, {\"col\": \"data\", \"idx\": \"kumaris\", \"val\": 10}, {\"col\": \"data\", \"idx\": \"kwentin?#kkkwednesday\\\"\", \"val\": 10}, {\"col\": \"data\", \"idx\": \"kyoko\", \"val\": 10}, {\"col\": \"data\", \"idx\": \"l'activit\\u00e9\", \"val\": 10}, {\"col\": \"data\", \"idx\": \"lakes\", \"val\": 10}, {\"col\": \"data\", \"idx\": \"lambs\", \"val\": 10}, {\"col\": \"data\", \"idx\": \"landlocked\", \"val\": 10}, {\"col\": \"data\", \"idx\": \"largest\", \"val\": 10}, {\"col\": \"data\", \"idx\": \"later.\", \"val\": 10}, {\"col\": \"data\", \"idx\": \"latest\", \"val\": 10}, {\"col\": \"data\", \"idx\": \"latino\", \"val\": 10}, {\"col\": \"data\", \"idx\": \"laugh!\", \"val\": 10}, {\"col\": \"data\", \"idx\": \"laughed\", \"val\": 10}, {\"col\": \"data\", \"idx\": \"laughs\", \"val\": 10}, {\"col\": \"data\", \"idx\": \"launch\", \"val\": 10}, {\"col\": \"data\", \"idx\": \"launched\", \"val\": 10}, {\"col\": \"data\", \"idx\": \"lauren\", \"val\": 10}, {\"col\": \"data\", \"idx\": \"lawyers\", \"val\": 10}, {\"col\": \"data\", \"idx\": \"league\", \"val\": 10}, {\"col\": \"data\", \"idx\": \"league.\", \"val\": 10}, {\"col\": \"data\", \"idx\": \"leanne,\", \"val\": 10}, {\"col\": \"data\", \"idx\": \"learned\", \"val\": 10}, {\"col\": \"data\", \"idx\": \"learner\", \"val\": 10}, {\"col\": \"data\", \"idx\": \"learning\", \"val\": 10}, {\"col\": \"data\", \"idx\": \"leave\", \"val\": 10}, {\"col\": \"data\", \"idx\": \"leaving\", \"val\": 10}, {\"col\": \"data\", \"idx\": \"lecture\", \"val\": 10}, {\"col\": \"data\", \"idx\": \"lecturer\", \"val\": 10}, {\"col\": \"data\", \"idx\": \"legacy\", \"val\": 10}, {\"col\": \"data\", \"idx\": \"legends\\u200b\", \"val\": 10}, {\"col\": \"data\", \"idx\": \"leicester\", \"val\": 10}, {\"col\": \"data\", \"idx\": \"leisure\", \"val\": 10}, {\"col\": \"data\", \"idx\": \"lent?\", \"val\": 10}, {\"col\": \"data\", \"idx\": \"lesley\", \"val\": 10}, {\"col\": \"data\", \"idx\": \"lesson\", \"val\": 10}, {\"col\": \"data\", \"idx\": \"lessons\", \"val\": 10}, {\"col\": \"data\", \"idx\": \"lestat\", \"val\": 10}, {\"col\": \"data\", \"idx\": \"lettuce.\", \"val\": 10}, {\"col\": \"data\", \"idx\": \"level\", \"val\": 10}, {\"col\": \"data\", \"idx\": \"levels\", \"val\": 10}, {\"col\": \"data\", \"idx\": \"liberating\", \"val\": 10}, {\"col\": \"data\", \"idx\": \"library\", \"val\": 10}, {\"col\": \"data\", \"idx\": \"licence\", \"val\": 10}, {\"col\": \"data\", \"idx\": \"licences.so\", \"val\": 10}, {\"col\": \"data\", \"idx\": \"lidge.\", \"val\": 10}, {\"col\": \"data\", \"idx\": \"lifeguards\", \"val\": 10}, {\"col\": \"data\", \"idx\": \"light\", \"val\": 10}, {\"col\": \"data\", \"idx\": \"lighting\", \"val\": 10}, {\"col\": \"data\", \"idx\": \"lilys\", \"val\": 10}, {\"col\": \"data\", \"idx\": \"limited\", \"val\": 10}, {\"col\": \"data\", \"idx\": \"lim\\u00f3n\\\"\", \"val\": 10}, {\"col\": \"data\", \"idx\": \"line.\", \"val\": 10}, {\"col\": \"data\", \"idx\": \"lining\", \"val\": 10}, {\"col\": \"data\", \"idx\": \"link\\ud83d\\udc95\", \"val\": 10}, {\"col\": \"data\", \"idx\": \"lions!!\", \"val\": 10}, {\"col\": \"data\", \"idx\": \"list.\", \"val\": 10}, {\"col\": \"data\", \"idx\": \"listeming\", \"val\": 10}, {\"col\": \"data\", \"idx\": \"listen\", \"val\": 10}, {\"col\": \"data\", \"idx\": \"listening\", \"val\": 10}, {\"col\": \"data\", \"idx\": \"literally\", \"val\": 10}, {\"col\": \"data\", \"idx\": \"live,\", \"val\": 10}, {\"col\": \"data\", \"idx\": \"liverpool\", \"val\": 10}, {\"col\": \"data\", \"idx\": \"living\", \"val\": 10}, {\"col\": \"data\", \"idx\": \"lmaoooooo\", \"val\": 10}, {\"col\": \"data\", \"idx\": \"loads\", \"val\": 10}, {\"col\": \"data\", \"idx\": \"loaf.....\", \"val\": 10}, {\"col\": \"data\", \"idx\": \"local\", \"val\": 10}, {\"col\": \"data\", \"idx\": \"locally\", \"val\": 10}, {\"col\": \"data\", \"idx\": \"logout,\", \"val\": 10}, {\"col\": \"data\", \"idx\": \"london\", \"val\": 10}, {\"col\": \"data\", \"idx\": \"long.......\", \"val\": 10}, {\"col\": \"data\", \"idx\": \"lookout\", \"val\": 10}, {\"col\": \"data\", \"idx\": \"lool\\u201d\", \"val\": 10}, {\"col\": \"data\", \"idx\": \"loooool\", \"val\": 10}, {\"col\": \"data\", \"idx\": \"loooove\", \"val\": 10}, {\"col\": \"data\", \"idx\": \"loosing\", \"val\": 10}, {\"col\": \"data\", \"idx\": \"lorries\", \"val\": 10}, {\"col\": \"data\", \"idx\": \"losers\", \"val\": 10}, {\"col\": \"data\", \"idx\": \"lotion\", \"val\": 10}, {\"col\": \"data\", \"idx\": \"lots!!!!!!\\ud83d\\udc97\\ud83d\\udc97\\ud83d\\udc97\\ud83d\\udc97\\ud83d\\udc97\\ud83d\\udc97\\ud83d\\ude18\\ud83d\\ude18\\ud83d\\ude18\", \"val\": 10}, {\"col\": \"data\", \"idx\": \"loughborough.\", \"val\": 10}, {\"col\": \"data\", \"idx\": \"loved\", \"val\": 10}, {\"col\": \"data\", \"idx\": \"lovely\", \"val\": 10}, {\"col\": \"data\", \"idx\": \"lover!\", \"val\": 10}, {\"col\": \"data\", \"idx\": \"loves\", \"val\": 10}, {\"col\": \"data\", \"idx\": \"loving\", \"val\": 10}, {\"col\": \"data\", \"idx\": \"lowest\", \"val\": 10}, {\"col\": \"data\", \"idx\": \"luckily\", \"val\": 10}, {\"col\": \"data\", \"idx\": \"luego\", \"val\": 10}, {\"col\": \"data\", \"idx\": \"lunchtime.\", \"val\": 10}, {\"col\": \"data\", \"idx\": \"lungs!\", \"val\": 10}, {\"col\": \"data\", \"idx\": \"luved\", \"val\": 10}, {\"col\": \"data\", \"idx\": \"lynn!!\", \"val\": 10}, {\"col\": \"data\", \"idx\": \"m'attacher\", \"val\": 10}, {\"col\": \"data\", \"idx\": \"m25!!!!!\", \"val\": 10}, {\"col\": \"data\", \"idx\": \"machine\", \"val\": 10}, {\"col\": \"data\", \"idx\": \"machines\", \"val\": 10}, {\"col\": \"data\", \"idx\": \"macro\", \"val\": 10}, {\"col\": \"data\", \"idx\": \"madness\", \"val\": 10}, {\"col\": \"data\", \"idx\": \"magazine\", \"val\": 10}, {\"col\": \"data\", \"idx\": \"magically\", \"val\": 10}, {\"col\": \"data\", \"idx\": \"maitland\", \"val\": 10}, {\"col\": \"data\", \"idx\": \"majority\", \"val\": 10}, {\"col\": \"data\", \"idx\": \"make....\", \"val\": 10}, {\"col\": \"data\", \"idx\": \"maker?\", \"val\": 10}, {\"col\": \"data\", \"idx\": \"makers.\", \"val\": 10}, {\"col\": \"data\", \"idx\": \"makeup\", \"val\": 10}, {\"col\": \"data\", \"idx\": \"making\", \"val\": 10}, {\"col\": \"data\", \"idx\": \"malades\\\"\", \"val\": 10}, {\"col\": \"data\", \"idx\": \"male)\", \"val\": 10}, {\"col\": \"data\", \"idx\": \"mammoth\", \"val\": 10}, {\"col\": \"data\", \"idx\": \"manage\", \"val\": 10}, {\"col\": \"data\", \"idx\": \"managed\", \"val\": 10}, {\"col\": \"data\", \"idx\": \"management\", \"val\": 10}, {\"col\": \"data\", \"idx\": \"management.\", \"val\": 10}, {\"col\": \"data\", \"idx\": \"manchester\", \"val\": 10}, {\"col\": \"data\", \"idx\": \"manchi\", \"val\": 10}, {\"col\": \"data\", \"idx\": \"manure\", \"val\": 10}, {\"col\": \"data\", \"idx\": \"maple\", \"val\": 10}, {\"col\": \"data\", \"idx\": \"march\", \"val\": 10}, {\"col\": \"data\", \"idx\": \"march!\", \"val\": 10}, {\"col\": \"data\", \"idx\": \"mardi\", \"val\": 10}, {\"col\": \"data\", \"idx\": \"marinading\", \"val\": 10}, {\"col\": \"data\", \"idx\": \"marion\", \"val\": 10}, {\"col\": \"data\", \"idx\": \"market\", \"val\": 10}, {\"col\": \"data\", \"idx\": \"marlborough\", \"val\": 10}, {\"col\": \"data\", \"idx\": \"married\", \"val\": 10}, {\"col\": \"data\", \"idx\": \"marvellous\", \"val\": 10}, {\"col\": \"data\", \"idx\": \"mastiffs\", \"val\": 10}, {\"col\": \"data\", \"idx\": \"match\", \"val\": 10}, {\"col\": \"data\", \"idx\": \"match.\", \"val\": 10}, {\"col\": \"data\", \"idx\": \"matched\", \"val\": 10}, {\"col\": \"data\", \"idx\": \"matches.\", \"val\": 10}, {\"col\": \"data\", \"idx\": \"mate,\", \"val\": 10}, {\"col\": \"data\", \"idx\": \"mates\", \"val\": 10}, {\"col\": \"data\", \"idx\": \"matter\", \"val\": 10}, {\"col\": \"data\", \"idx\": \"matters\", \"val\": 10}, {\"col\": \"data\", \"idx\": \"mature\", \"val\": 10}, {\"col\": \"data\", \"idx\": \"mayor\", \"val\": 10}, {\"col\": \"data\", \"idx\": \"mb,falling\", \"val\": 10}, {\"col\": \"data\", \"idx\": \"mcdonalds\", \"val\": 10}, {\"col\": \"data\", \"idx\": \"me?\\ud83d\\ude02\\ud83d\\ude02\", \"val\": 10}, {\"col\": \"data\", \"idx\": \"meaning\", \"val\": 10}, {\"col\": \"data\", \"idx\": \"meant\", \"val\": 10}, {\"col\": \"data\", \"idx\": \"mean\\ud83d\\udc40\", \"val\": 10}, {\"col\": \"data\", \"idx\": \"measure\", \"val\": 10}, {\"col\": \"data\", \"idx\": \"media\", \"val\": 10}, {\"col\": \"data\", \"idx\": \"meditation\", \"val\": 10}, {\"col\": \"data\", \"idx\": \"meet,\", \"val\": 10}, {\"col\": \"data\", \"idx\": \"meeting\", \"val\": 10}, {\"col\": \"data\", \"idx\": \"megas\", \"val\": 10}, {\"col\": \"data\", \"idx\": \"member\", \"val\": 10}, {\"col\": \"data\", \"idx\": \"memorable\", \"val\": 10}, {\"col\": \"data\", \"idx\": \"memories\", \"val\": 10}, {\"col\": \"data\", \"idx\": \"memories.\", \"val\": 10}, {\"col\": \"data\", \"idx\": \"menina\", \"val\": 10}, {\"col\": \"data\", \"idx\": \"meninist\", \"val\": 10}, {\"col\": \"data\", \"idx\": \"mentality\", \"val\": 10}, {\"col\": \"data\", \"idx\": \"menu!!!\", \"val\": 10}, {\"col\": \"data\", \"idx\": \"mercy\", \"val\": 10}, {\"col\": \"data\", \"idx\": \"mesa.\", \"val\": 10}, {\"col\": \"data\", \"idx\": \"message\", \"val\": 10}, {\"col\": \"data\", \"idx\": \"metes\", \"val\": 10}, {\"col\": \"data\", \"idx\": \"method\", \"val\": 10}, {\"col\": \"data\", \"idx\": \"miles\", \"val\": 10}, {\"col\": \"data\", \"idx\": \"minds\", \"val\": 10}, {\"col\": \"data\", \"idx\": \"mine.\", \"val\": 10}, {\"col\": \"data\", \"idx\": \"minha\", \"val\": 10}, {\"col\": \"data\", \"idx\": \"minute\", \"val\": 10}, {\"col\": \"data\", \"idx\": \"misleading\", \"val\": 10}, {\"col\": \"data\", \"idx\": \"missed\", \"val\": 10}, {\"col\": \"data\", \"idx\": \"mistakes\", \"val\": 10}, {\"col\": \"data\", \"idx\": \"model\", \"val\": 10}, {\"col\": \"data\", \"idx\": \"modernised\", \"val\": 10}, {\"col\": \"data\", \"idx\": \"module\", \"val\": 10}, {\"col\": \"data\", \"idx\": \"moment?\", \"val\": 10}, {\"col\": \"data\", \"idx\": \"monday\", \"val\": 10}, {\"col\": \"data\", \"idx\": \"monent\", \"val\": 10}, {\"col\": \"data\", \"idx\": \"money\", \"val\": 10}, {\"col\": \"data\", \"idx\": \"monkey\", \"val\": 10}, {\"col\": \"data\", \"idx\": \"month\", \"val\": 10}, {\"col\": \"data\", \"idx\": \"months\", \"val\": 10}, {\"col\": \"data\", \"idx\": \"more!\", \"val\": 10}, {\"col\": \"data\", \"idx\": \"morning\", \"val\": 10}, {\"col\": \"data\", \"idx\": \"morning!\", \"val\": 10}, {\"col\": \"data\", \"idx\": \"mortal\", \"val\": 10}, {\"col\": \"data\", \"idx\": \"mother,\", \"val\": 10}, {\"col\": \"data\", \"idx\": \"motivation\", \"val\": 10}, {\"col\": \"data\", \"idx\": \"motivational\", \"val\": 10}, {\"col\": \"data\", \"idx\": \"motive\", \"val\": 10}, {\"col\": \"data\", \"idx\": \"motive.\", \"val\": 10}, {\"col\": \"data\", \"idx\": \"motor\", \"val\": 10}, {\"col\": \"data\", \"idx\": \"mountfitchet,\", \"val\": 10}, {\"col\": \"data\", \"idx\": \"moved\", \"val\": 10}, {\"col\": \"data\", \"idx\": \"moves\", \"val\": 10}, {\"col\": \"data\", \"idx\": \"movie\", \"val\": 10}, {\"col\": \"data\", \"idx\": \"movies\", \"val\": 10}, {\"col\": \"data\", \"idx\": \"moving\", \"val\": 10}, {\"col\": \"data\", \"idx\": \"much:((\", \"val\": 10}, {\"col\": \"data\", \"idx\": \"much\\ud83d\\ude25\\ud83c\\udf57\\ud83c\\udf64\", \"val\": 10}, {\"col\": \"data\", \"idx\": \"muffin\", \"val\": 10}, {\"col\": \"data\", \"idx\": \"mundo\", \"val\": 10}, {\"col\": \"data\", \"idx\": \"muscle\", \"val\": 10}, {\"col\": \"data\", \"idx\": \"muscle.\", \"val\": 10}, {\"col\": \"data\", \"idx\": \"music.\", \"val\": 10}, {\"col\": \"data\", \"idx\": \"musicas\", \"val\": 10}, {\"col\": \"data\", \"idx\": \"myself\\\"\", \"val\": 10}, {\"col\": \"data\", \"idx\": \"nadierrs\", \"val\": 10}, {\"col\": \"data\", \"idx\": \"nails\", \"val\": 10}, {\"col\": \"data\", \"idx\": \"name,\", \"val\": 10}, {\"col\": \"data\", \"idx\": \"named\", \"val\": 10}, {\"col\": \"data\", \"idx\": \"nanny\", \"val\": 10}, {\"col\": \"data\", \"idx\": \"nathan\", \"val\": 10}, {\"col\": \"data\", \"idx\": \"nations\", \"val\": 10}, {\"col\": \"data\", \"idx\": \"nature\", \"val\": 10}, {\"col\": \"data\", \"idx\": \"naturelle\", \"val\": 10}, {\"col\": \"data\", \"idx\": \"naudu\", \"val\": 10}, {\"col\": \"data\", \"idx\": \"need...\", \"val\": 10}, {\"col\": \"data\", \"idx\": \"needing\", \"val\": 10}, {\"col\": \"data\", \"idx\": \"neither,\", \"val\": 10}, {\"col\": \"data\", \"idx\": \"nemuzu\", \"val\": 10}, {\"col\": \"data\", \"idx\": \"nerves\", \"val\": 10}, {\"col\": \"data\", \"idx\": \"nerves.\", \"val\": 10}, {\"col\": \"data\", \"idx\": \"nerves?\", \"val\": 10}, {\"col\": \"data\", \"idx\": \"nervosinho\", \"val\": 10}, {\"col\": \"data\", \"idx\": \"neslauku\", \"val\": 10}, {\"col\": \"data\", \"idx\": \"netball,\", \"val\": 10}, {\"col\": \"data\", \"idx\": \"netflix\", \"val\": 10}, {\"col\": \"data\", \"idx\": \"networking\", \"val\": 10}, {\"col\": \"data\", \"idx\": \"networks\", \"val\": 10}, {\"col\": \"data\", \"idx\": \"never.\", \"val\": 10}, {\"col\": \"data\", \"idx\": \"news!\", \"val\": 10}, {\"col\": \"data\", \"idx\": \"newsletter\", \"val\": 10}, {\"col\": \"data\", \"idx\": \"next?\", \"val\": 10}, {\"col\": \"data\", \"idx\": \"niall\", \"val\": 10}, {\"col\": \"data\", \"idx\": \"nigga\", \"val\": 10}, {\"col\": \"data\", \"idx\": \"night\", \"val\": 10}, {\"col\": \"data\", \"idx\": \"night's\", \"val\": 10}, {\"col\": \"data\", \"idx\": \"night.\", \"val\": 10}, {\"col\": \"data\", \"idx\": \"nightclub\", \"val\": 10}, {\"col\": \"data\", \"idx\": \"nights\", \"val\": 10}, {\"col\": \"data\", \"idx\": \"ningu\\u00e9m\", \"val\": 10}, {\"col\": \"data\", \"idx\": \"nitwit\", \"val\": 10}, {\"col\": \"data\", \"idx\": \"noises\", \"val\": 10}, {\"col\": \"data\", \"idx\": \"nolan\", \"val\": 10}, {\"col\": \"data\", \"idx\": \"non-working\", \"val\": 10}, {\"col\": \"data\", \"idx\": \"nordschliefe\", \"val\": 10}, {\"col\": \"data\", \"idx\": \"normal\", \"val\": 10}, {\"col\": \"data\", \"idx\": \"north\", \"val\": 10}, {\"col\": \"data\", \"idx\": \"northampton!\", \"val\": 10}, {\"col\": \"data\", \"idx\": \"northampton,\", \"val\": 10}, {\"col\": \"data\", \"idx\": \"northamptonshire\", \"val\": 10}, {\"col\": \"data\", \"idx\": \"norways\", \"val\": 10}, {\"col\": \"data\", \"idx\": \"nose's\", \"val\": 10}, {\"col\": \"data\", \"idx\": \"nosebleed\", \"val\": 10}, {\"col\": \"data\", \"idx\": \"nosebleed.\", \"val\": 10}, {\"col\": \"data\", \"idx\": \"notes\", \"val\": 10}, {\"col\": \"data\", \"idx\": \"notes?\", \"val\": 10}, {\"col\": \"data\", \"idx\": \"november\", \"val\": 10}, {\"col\": \"data\", \"idx\": \"nugget\", \"val\": 10}, {\"col\": \"data\", \"idx\": \"nuggets\", \"val\": 10}, {\"col\": \"data\", \"idx\": \"number\", \"val\": 10}, {\"col\": \"data\", \"idx\": \"number.\", \"val\": 10}, {\"col\": \"data\", \"idx\": \"numerous\", \"val\": 10}, {\"col\": \"data\", \"idx\": \"numpties\", \"val\": 10}, {\"col\": \"data\", \"idx\": \"o'kelly\", \"val\": 10}, {\"col\": \"data\", \"idx\": \"obligations\", \"val\": 10}, {\"col\": \"data\", \"idx\": \"obrigada\", \"val\": 10}, {\"col\": \"data\", \"idx\": \"obsession,\", \"val\": 10}, {\"col\": \"data\", \"idx\": \"occasionally?\", \"val\": 10}, {\"col\": \"data\", \"idx\": \"october\", \"val\": 10}, {\"col\": \"data\", \"idx\": \"off!!!!!\", \"val\": 10}, {\"col\": \"data\", \"idx\": \"off's!\", \"val\": 10}, {\"col\": \"data\", \"idx\": \"off....#stillbroken\", \"val\": 10}, {\"col\": \"data\", \"idx\": \"offer\", \"val\": 10}, {\"col\": \"data\", \"idx\": \"offered\", \"val\": 10}, {\"col\": \"data\", \"idx\": \"office\", \"val\": 10}, {\"col\": \"data\", \"idx\": \"office,\", \"val\": 10}, {\"col\": \"data\", \"idx\": \"official\", \"val\": 10}, {\"col\": \"data\", \"idx\": \"often??\", \"val\": 10}, {\"col\": \"data\", \"idx\": \"ohmygod\", \"val\": 10}, {\"col\": \"data\", \"idx\": \"okay,\", \"val\": 10}, {\"col\": \"data\", \"idx\": \"older\", \"val\": 10}, {\"col\": \"data\", \"idx\": \"older,\", \"val\": 10}, {\"col\": \"data\", \"idx\": \"olds.\", \"val\": 10}, {\"col\": \"data\", \"idx\": \"olivia!\", \"val\": 10}, {\"col\": \"data\", \"idx\": \"omega\", \"val\": 10}, {\"col\": \"data\", \"idx\": \"on!??\", \"val\": 10}, {\"col\": \"data\", \"idx\": \"once.\", \"val\": 10}, {\"col\": \"data\", \"idx\": \"online\", \"val\": 10}, {\"col\": \"data\", \"idx\": \"online!\", \"val\": 10}, {\"col\": \"data\", \"idx\": \"oodles\", \"val\": 10}, {\"col\": \"data\", \"idx\": \"open!\", \"val\": 10}, {\"col\": \"data\", \"idx\": \"opportunity\", \"val\": 10}, {\"col\": \"data\", \"idx\": \"opposite\", \"val\": 10}, {\"col\": \"data\", \"idx\": \"optics.\", \"val\": 10}, {\"col\": \"data\", \"idx\": \"optimist\", \"val\": 10}, {\"col\": \"data\", \"idx\": \"options\", \"val\": 10}, {\"col\": \"data\", \"idx\": \"options!\", \"val\": 10}, {\"col\": \"data\", \"idx\": \"orange\", \"val\": 10}, {\"col\": \"data\", \"idx\": \"oranges\", \"val\": 10}, {\"col\": \"data\", \"idx\": \"order\", \"val\": 10}, {\"col\": \"data\", \"idx\": \"ordered!\", \"val\": 10}, {\"col\": \"data\", \"idx\": \"organisations\", \"val\": 10}, {\"col\": \"data\", \"idx\": \"organise\", \"val\": 10}, {\"col\": \"data\", \"idx\": \"organised\", \"val\": 10}, {\"col\": \"data\", \"idx\": \"organising\", \"val\": 10}, {\"col\": \"data\", \"idx\": \"ornaments\", \"val\": 10}, {\"col\": \"data\", \"idx\": \"orval.\", \"val\": 10}, {\"col\": \"data\", \"idx\": \"oscars\", \"val\": 10}, {\"col\": \"data\", \"idx\": \"otherwise)\", \"val\": 10}, {\"col\": \"data\", \"idx\": \"out!!\", \"val\": 10}, {\"col\": \"data\", \"idx\": \"outra\", \"val\": 10}, {\"col\": \"data\", \"idx\": \"outsource\", \"val\": 10}, {\"col\": \"data\", \"idx\": \"outsourcing\", \"val\": 10}, {\"col\": \"data\", \"idx\": \"oven.\", \"val\": 10}, {\"col\": \"data\", \"idx\": \"pa'cualquiera\", \"val\": 10}, {\"col\": \"data\", \"idx\": \"packaging\", \"val\": 10}, {\"col\": \"data\", \"idx\": \"paedophile\", \"val\": 10}, {\"col\": \"data\", \"idx\": \"painting\", \"val\": 10}, {\"col\": \"data\", \"idx\": \"pakistan\", \"val\": 10}, {\"col\": \"data\", \"idx\": \"palme\", \"val\": 10}, {\"col\": \"data\", \"idx\": \"pals?\", \"val\": 10}, {\"col\": \"data\", \"idx\": \"pancakes\", \"val\": 10}, {\"col\": \"data\", \"idx\": \"paperwork\", \"val\": 10}, {\"col\": \"data\", \"idx\": \"paradise\", \"val\": 10}, {\"col\": \"data\", \"idx\": \"paramim\", \"val\": 10}, {\"col\": \"data\", \"idx\": \"paria\", \"val\": 10}, {\"col\": \"data\", \"idx\": \"pariu\", \"val\": 10}, {\"col\": \"data\", \"idx\": \"parrot\", \"val\": 10}, {\"col\": \"data\", \"idx\": \"participants\", \"val\": 10}, {\"col\": \"data\", \"idx\": \"parties\", \"val\": 10}, {\"col\": \"data\", \"idx\": \"parties,\", \"val\": 10}, {\"col\": \"data\", \"idx\": \"partridge\", \"val\": 10}, {\"col\": \"data\", \"idx\": \"party\", \"val\": 10}, {\"col\": \"data\", \"idx\": \"pasado\", \"val\": 10}, {\"col\": \"data\", \"idx\": \"pass.\", \"val\": 10}, {\"col\": \"data\", \"idx\": \"passed\", \"val\": 10}, {\"col\": \"data\", \"idx\": \"passes\", \"val\": 10}, {\"col\": \"data\", \"idx\": \"password\", \"val\": 10}, {\"col\": \"data\", \"idx\": \"pastures\", \"val\": 10}, {\"col\": \"data\", \"idx\": \"pathetic\", \"val\": 10}, {\"col\": \"data\", \"idx\": \"pathetic.\", \"val\": 10}, {\"col\": \"data\", \"idx\": \"patient\", \"val\": 10}, {\"col\": \"data\", \"idx\": \"penny\", \"val\": 10}, {\"col\": \"data\", \"idx\": \"pensent\", \"val\": 10}, {\"col\": \"data\", \"idx\": \"people\", \"val\": 10}, {\"col\": \"data\", \"idx\": \"people's\", \"val\": 10}, {\"col\": \"data\", \"idx\": \"peperami\", \"val\": 10}, {\"col\": \"data\", \"idx\": \"perfect\", \"val\": 10}, {\"col\": \"data\", \"idx\": \"perfei\\u00e7\\u00e3o\", \"val\": 10}, {\"col\": \"data\", \"idx\": \"performance\", \"val\": 10}, {\"col\": \"data\", \"idx\": \"person\", \"val\": 10}, {\"col\": \"data\", \"idx\": \"personal\", \"val\": 10}, {\"col\": \"data\", \"idx\": \"personal?\", \"val\": 10}, {\"col\": \"data\", \"idx\": \"personalities\", \"val\": 10}, {\"col\": \"data\", \"idx\": \"peters,\", \"val\": 10}, {\"col\": \"data\", \"idx\": \"phoebe\", \"val\": 10}, {\"col\": \"data\", \"idx\": \"phone\", \"val\": 10}, {\"col\": \"data\", \"idx\": \"photo\", \"val\": 100}, {\"col\": \"data\", \"idx\": \"photographer.\", \"val\": 10}, {\"col\": \"data\", \"idx\": \"photos)...\", \"val\": 10}, {\"col\": \"data\", \"idx\": \"photoshop\", \"val\": 10}, {\"col\": \"data\", \"idx\": \"physique.\", \"val\": 10}, {\"col\": \"data\", \"idx\": \"picture\", \"val\": 10}, {\"col\": \"data\", \"idx\": \"picture.\", \"val\": 10}, {\"col\": \"data\", \"idx\": \"pictures\", \"val\": 10}, {\"col\": \"data\", \"idx\": \"picturesque\", \"val\": 10}, {\"col\": \"data\", \"idx\": \"piece\", \"val\": 10}, {\"col\": \"data\", \"idx\": \"pilot\", \"val\": 10}, {\"col\": \"data\", \"idx\": \"pitman,\", \"val\": 10}, {\"col\": \"data\", \"idx\": \"pixel\", \"val\": 10}, {\"col\": \"data\", \"idx\": \"pizza\", \"val\": 10}, {\"col\": \"data\", \"idx\": \"pizza\\ud83c\\udf55\", \"val\": 10}, {\"col\": \"data\", \"idx\": \"place\", \"val\": 10}, {\"col\": \"data\", \"idx\": \"place\\\"\", \"val\": 10}, {\"col\": \"data\", \"idx\": \"planned\", \"val\": 10}, {\"col\": \"data\", \"idx\": \"planning\", \"val\": 10}, {\"col\": \"data\", \"idx\": \"plans\\ud83d\\udc4c\", \"val\": 10}, {\"col\": \"data\", \"idx\": \"plant\", \"val\": 10}, {\"col\": \"data\", \"idx\": \"plastic\", \"val\": 10}, {\"col\": \"data\", \"idx\": \"playable\", \"val\": 10}, {\"col\": \"data\", \"idx\": \"played\", \"val\": 10}, {\"col\": \"data\", \"idx\": \"players\", \"val\": 10}, {\"col\": \"data\", \"idx\": \"playing\", \"val\": 10}, {\"col\": \"data\", \"idx\": \"playing.\", \"val\": 10}, {\"col\": \"data\", \"idx\": \"please!\", \"val\": 10}, {\"col\": \"data\", \"idx\": \"pleased\", \"val\": 10}, {\"col\": \"data\", \"idx\": \"pleasure\", \"val\": 10}, {\"col\": \"data\", \"idx\": \"plenty\", \"val\": 10}, {\"col\": \"data\", \"idx\": \"poems\", \"val\": 10}, {\"col\": \"data\", \"idx\": \"poetry\", \"val\": 10}, {\"col\": \"data\", \"idx\": \"point\", \"val\": 10}, {\"col\": \"data\", \"idx\": \"political\", \"val\": 10}, {\"col\": \"data\", \"idx\": \"pool.\", \"val\": 10}, {\"col\": \"data\", \"idx\": \"popped\", \"val\": 10}, {\"col\": \"data\", \"idx\": \"poster\", \"val\": 10}, {\"col\": \"data\", \"idx\": \"posting\", \"val\": 10}, {\"col\": \"data\", \"idx\": \"potatoes\", \"val\": 10}, {\"col\": \"data\", \"idx\": \"potter\", \"val\": 10}, {\"col\": \"data\", \"idx\": \"power\", \"val\": 10}, {\"col\": \"data\", \"idx\": \"power.\", \"val\": 10}, {\"col\": \"data\", \"idx\": \"praise\", \"val\": 10}, {\"col\": \"data\", \"idx\": \"pre-order\", \"val\": 10}, {\"col\": \"data\", \"idx\": \"pre-set\", \"val\": 10}, {\"col\": \"data\", \"idx\": \"preach\\ud83d\\ude4c\", \"val\": 10}, {\"col\": \"data\", \"idx\": \"prebook\", \"val\": 10}, {\"col\": \"data\", \"idx\": \"precio.\", \"val\": 10}, {\"col\": \"data\", \"idx\": \"preciso\", \"val\": 10}, {\"col\": \"data\", \"idx\": \"preed\", \"val\": 10}, {\"col\": \"data\", \"idx\": \"preferred\", \"val\": 10}, {\"col\": \"data\", \"idx\": \"prepared\", \"val\": 10}, {\"col\": \"data\", \"idx\": \"preparing\", \"val\": 10}, {\"col\": \"data\", \"idx\": \"prescriptions.\", \"val\": 10}, {\"col\": \"data\", \"idx\": \"presenting\", \"val\": 10}, {\"col\": \"data\", \"idx\": \"pressure:\", \"val\": 10}, {\"col\": \"data\", \"idx\": \"price\", \"val\": 10}, {\"col\": \"data\", \"idx\": \"priced\", \"val\": 10}, {\"col\": \"data\", \"idx\": \"prices\", \"val\": 10}, {\"col\": \"data\", \"idx\": \"pricing\", \"val\": 10}, {\"col\": \"data\", \"idx\": \"pride,\", \"val\": 10}, {\"col\": \"data\", \"idx\": \"primary\", \"val\": 10}, {\"col\": \"data\", \"idx\": \"print,\", \"val\": 10}, {\"col\": \"data\", \"idx\": \"printers\", \"val\": 10}, {\"col\": \"data\", \"idx\": \"prints\", \"val\": 10}, {\"col\": \"data\", \"idx\": \"problem\", \"val\": 10}, {\"col\": \"data\", \"idx\": \"problems.\", \"val\": 10}, {\"col\": \"data\", \"idx\": \"problem\\ud83d\\ude25\", \"val\": 10}, {\"col\": \"data\", \"idx\": \"process\", \"val\": 10}, {\"col\": \"data\", \"idx\": \"procrastinating\", \"val\": 10}, {\"col\": \"data\", \"idx\": \"product\", \"val\": 10}, {\"col\": \"data\", \"idx\": \"products\", \"val\": 10}, {\"col\": \"data\", \"idx\": \"profiles\", \"val\": 10}, {\"col\": \"data\", \"idx\": \"program\", \"val\": 10}, {\"col\": \"data\", \"idx\": \"programs\", \"val\": 10}, {\"col\": \"data\", \"idx\": \"project\", \"val\": 10}, {\"col\": \"data\", \"idx\": \"project?\", \"val\": 10}, {\"col\": \"data\", \"idx\": \"promoting\", \"val\": 10}, {\"col\": \"data\", \"idx\": \"promotion\", \"val\": 10}, {\"col\": \"data\", \"idx\": \"pronounce\", \"val\": 10}, {\"col\": \"data\", \"idx\": \"protagonist\", \"val\": 10}, {\"col\": \"data\", \"idx\": \"published\", \"val\": 10}, {\"col\": \"data\", \"idx\": \"punch\", \"val\": 10}, {\"col\": \"data\", \"idx\": \"puppy\", \"val\": 10}, {\"col\": \"data\", \"idx\": \"pushing\", \"val\": 10}, {\"col\": \"data\", \"idx\": \"q&amp;a\", \"val\": 10}, {\"col\": \"data\", \"idx\": \"quality\", \"val\": 10}, {\"col\": \"data\", \"idx\": \"quarter-final\", \"val\": 10}, {\"col\": \"data\", \"idx\": \"queen!\", \"val\": 10}, {\"col\": \"data\", \"idx\": \"quero\", \"val\": 10}, {\"col\": \"data\", \"idx\": \"question\", \"val\": 10}, {\"col\": \"data\", \"idx\": \"questions\", \"val\": 10}, {\"col\": \"data\", \"idx\": \"quibble\", \"val\": 10}, {\"col\": \"data\", \"idx\": \"quick\", \"val\": 10}, {\"col\": \"data\", \"idx\": \"quote\", \"val\": 10}, {\"col\": \"data\", \"idx\": \"quoting\", \"val\": 10}, {\"col\": \"data\", \"idx\": \"racer\", \"val\": 10}, {\"col\": \"data\", \"idx\": \"racing\", \"val\": 10}, {\"col\": \"data\", \"idx\": \"racist,\", \"val\": 10}, {\"col\": \"data\", \"idx\": \"radio\", \"val\": 10}, {\"col\": \"data\", \"idx\": \"raff!!\\ud83d\\ude0c\", \"val\": 10}, {\"col\": \"data\", \"idx\": \"rahhhh.\", \"val\": 10}, {\"col\": \"data\", \"idx\": \"rain:0.0mm\", \"val\": 10}, {\"col\": \"data\", \"idx\": \"raise\", \"val\": 10}, {\"col\": \"data\", \"idx\": \"range\", \"val\": 10}, {\"col\": \"data\", \"idx\": \"range.\", \"val\": 10}, {\"col\": \"data\", \"idx\": \"rattie!!\\ud83c\\udf1f\\ud83d\\udc9ethanks\", \"val\": 10}, {\"col\": \"data\", \"idx\": \"re-read.\", \"val\": 10}, {\"col\": \"data\", \"idx\": \"reach\", \"val\": 10}, {\"col\": \"data\", \"idx\": \"reaction\", \"val\": 10}, {\"col\": \"data\", \"idx\": \"readers\", \"val\": 10}, {\"col\": \"data\", \"idx\": \"reading\", \"val\": 10}, {\"col\": \"data\", \"idx\": \"ready\", \"val\": 10}, {\"col\": \"data\", \"idx\": \"real!\", \"val\": 10}, {\"col\": \"data\", \"idx\": \"realise\", \"val\": 10}, {\"col\": \"data\", \"idx\": \"realised\", \"val\": 10}, {\"col\": \"data\", \"idx\": \"reality\", \"val\": 10}, {\"col\": \"data\", \"idx\": \"reason\", \"val\": 10}, {\"col\": \"data\", \"idx\": \"recalls\", \"val\": 10}, {\"col\": \"data\", \"idx\": \"receipt\", \"val\": 10}, {\"col\": \"data\", \"idx\": \"record\", \"val\": 10}, {\"col\": \"data\", \"idx\": \"record,\", \"val\": 10}, {\"col\": \"data\", \"idx\": \"recovery?\", \"val\": 10}, {\"col\": \"data\", \"idx\": \"referencing\", \"val\": 10}, {\"col\": \"data\", \"idx\": \"register\", \"val\": 10}, {\"col\": \"data\", \"idx\": \"registration\", \"val\": 10}, {\"col\": \"data\", \"idx\": \"relatable\", \"val\": 10}, {\"col\": \"data\", \"idx\": \"release\", \"val\": 10}, {\"col\": \"data\", \"idx\": \"relly's\", \"val\": 10}, {\"col\": \"data\", \"idx\": \"remain\", \"val\": 10}, {\"col\": \"data\", \"idx\": \"remember\", \"val\": 10}, {\"col\": \"data\", \"idx\": \"remind\", \"val\": 10}, {\"col\": \"data\", \"idx\": \"reminiscence\", \"val\": 10}, {\"col\": \"data\", \"idx\": \"removed\", \"val\": 10}, {\"col\": \"data\", \"idx\": \"renew\", \"val\": 10}, {\"col\": \"data\", \"idx\": \"repeat\", \"val\": 10}, {\"col\": \"data\", \"idx\": \"replaced\", \"val\": 10}, {\"col\": \"data\", \"idx\": \"replacement\", \"val\": 10}, {\"col\": \"data\", \"idx\": \"replica\", \"val\": 10}, {\"col\": \"data\", \"idx\": \"replicate\", \"val\": 10}, {\"col\": \"data\", \"idx\": \"replying\", \"val\": 10}, {\"col\": \"data\", \"idx\": \"replying.\", \"val\": 10}, {\"col\": \"data\", \"idx\": \"reported\", \"val\": 10}, {\"col\": \"data\", \"idx\": \"repostapp.\\u2070\\u30fb\\u30fb\\u30fb\\u2070thank\", \"val\": 10}, {\"col\": \"data\", \"idx\": \"represent\", \"val\": 10}, {\"col\": \"data\", \"idx\": \"requests\", \"val\": 10}, {\"col\": \"data\", \"idx\": \"reset\", \"val\": 10}, {\"col\": \"data\", \"idx\": \"residents\", \"val\": 10}, {\"col\": \"data\", \"idx\": \"resist\", \"val\": 10}, {\"col\": \"data\", \"idx\": \"resource\", \"val\": 10}, {\"col\": \"data\", \"idx\": \"resources\", \"val\": 10}, {\"col\": \"data\", \"idx\": \"respect\", \"val\": 10}, {\"col\": \"data\", \"idx\": \"responsibility\", \"val\": 10}, {\"col\": \"data\", \"idx\": \"responsibility!\", \"val\": 10}, {\"col\": \"data\", \"idx\": \"result\", \"val\": 10}, {\"col\": \"data\", \"idx\": \"result.\", \"val\": 10}, {\"col\": \"data\", \"idx\": \"returns\", \"val\": 10}, {\"col\": \"data\", \"idx\": \"revealed\", \"val\": 10}, {\"col\": \"data\", \"idx\": \"revient\", \"val\": 10}, {\"col\": \"data\", \"idx\": \"revise\", \"val\": 10}, {\"col\": \"data\", \"idx\": \"revising\", \"val\": 10}, {\"col\": \"data\", \"idx\": \"reynard\", \"val\": 10}, {\"col\": \"data\", \"idx\": \"rh:80%,\", \"val\": 10}, {\"col\": \"data\", \"idx\": \"rhubarb\", \"val\": 10}, {\"col\": \"data\", \"idx\": \"ribbon,\", \"val\": 10}, {\"col\": \"data\", \"idx\": \"ridiculous\", \"val\": 10}, {\"col\": \"data\", \"idx\": \"right,\", \"val\": 10}, {\"col\": \"data\", \"idx\": \"righton\", \"val\": 10}, {\"col\": \"data\", \"idx\": \"rights\", \"val\": 10}, {\"col\": \"data\", \"idx\": \"rinder\", \"val\": 10}, {\"col\": \"data\", \"idx\": \"risc's\", \"val\": 10}, {\"col\": \"data\", \"idx\": \"rizlah\", \"val\": 10}, {\"col\": \"data\", \"idx\": \"road,\", \"val\": 10}, {\"col\": \"data\", \"idx\": \"roadtrip\", \"val\": 10}, {\"col\": \"data\", \"idx\": \"roast\", \"val\": 10}, {\"col\": \"data\", \"idx\": \"robespierre\", \"val\": 10}, {\"col\": \"data\", \"idx\": \"robin\", \"val\": 10}, {\"col\": \"data\", \"idx\": \"rollercoaster?\", \"val\": 10}, {\"col\": \"data\", \"idx\": \"rollie\", \"val\": 10}, {\"col\": \"data\", \"idx\": \"rolling\", \"val\": 10}, {\"col\": \"data\", \"idx\": \"ronald...and\", \"val\": 10}, {\"col\": \"data\", \"idx\": \"rose,\", \"val\": 10}, {\"col\": \"data\", \"idx\": \"roses.\", \"val\": 10}, {\"col\": \"data\", \"idx\": \"rossall\", \"val\": 10}, {\"col\": \"data\", \"idx\": \"round\", \"val\": 10}, {\"col\": \"data\", \"idx\": \"round!!!\", \"val\": 10}, {\"col\": \"data\", \"idx\": \"roundabouts#\", \"val\": 10}, {\"col\": \"data\", \"idx\": \"rounders\", \"val\": 10}, {\"col\": \"data\", \"idx\": \"routes\", \"val\": 10}, {\"col\": \"data\", \"idx\": \"rugby\", \"val\": 10}, {\"col\": \"data\", \"idx\": \"ruining\", \"val\": 10}, {\"col\": \"data\", \"idx\": \"running\", \"val\": 10}, {\"col\": \"data\", \"idx\": \"runny\", \"val\": 10}, {\"col\": \"data\", \"idx\": \"rushden\", \"val\": 10}, {\"col\": \"data\", \"idx\": \"s'appelle\", \"val\": 10}, {\"col\": \"data\", \"idx\": \"s-cross\", \"val\": 10}, {\"col\": \"data\", \"idx\": \"saber\", \"val\": 10}, {\"col\": \"data\", \"idx\": \"sabio\", \"val\": 10}, {\"col\": \"data\", \"idx\": \"saddo,\", \"val\": 10}, {\"col\": \"data\", \"idx\": \"sadly\", \"val\": 10}, {\"col\": \"data\", \"idx\": \"safety\", \"val\": 10}, {\"col\": \"data\", \"idx\": \"saints:\", \"val\": 10}, {\"col\": \"data\", \"idx\": \"saints\\u2019\", \"val\": 10}, {\"col\": \"data\", \"idx\": \"sale!\\ud83d\\ude4c\\ud83d\\ude4c\", \"val\": 10}, {\"col\": \"data\", \"idx\": \"sales\", \"val\": 10}, {\"col\": \"data\", \"idx\": \"salida\", \"val\": 10}, {\"col\": \"data\", \"idx\": \"salmon\", \"val\": 10}, {\"col\": \"data\", \"idx\": \"samrat\", \"val\": 10}, {\"col\": \"data\", \"idx\": \"samsung\", \"val\": 10}, {\"col\": \"data\", \"idx\": \"samurai\", \"val\": 10}, {\"col\": \"data\", \"idx\": \"sandi\", \"val\": 10}, {\"col\": \"data\", \"idx\": \"sandra,\", \"val\": 10}, {\"col\": \"data\", \"idx\": \"satisfaction\", \"val\": 10}, {\"col\": \"data\", \"idx\": \"saturday\", \"val\": 10}, {\"col\": \"data\", \"idx\": \"saturday\\\"\", \"val\": 10}, {\"col\": \"data\", \"idx\": \"saving\", \"val\": 10}, {\"col\": \"data\", \"idx\": \"savings\", \"val\": 10}, {\"col\": \"data\", \"idx\": \"scent\", \"val\": 10}, {\"col\": \"data\", \"idx\": \"scheduled\", \"val\": 10}, {\"col\": \"data\", \"idx\": \"scholarship\", \"val\": 10}, {\"col\": \"data\", \"idx\": \"school\", \"val\": 10}, {\"col\": \"data\", \"idx\": \"school!\", \"val\": 10}, {\"col\": \"data\", \"idx\": \"schools\", \"val\": 10}, {\"col\": \"data\", \"idx\": \"schoolteacher\", \"val\": 10}, {\"col\": \"data\", \"idx\": \"scores\", \"val\": 10}, {\"col\": \"data\", \"idx\": \"scotlan\", \"val\": 10}, {\"col\": \"data\", \"idx\": \"scotland\", \"val\": 10}, {\"col\": \"data\", \"idx\": \"scots\", \"val\": 10}, {\"col\": \"data\", \"idx\": \"scrap\", \"val\": 10}, {\"col\": \"data\", \"idx\": \"scratched\", \"val\": 10}, {\"col\": \"data\", \"idx\": \"screenshot\", \"val\": 10}, {\"col\": \"data\", \"idx\": \"scrubbing\", \"val\": 10}, {\"col\": \"data\", \"idx\": \"scruffiest\", \"val\": 10}, {\"col\": \"data\", \"idx\": \"seafront\", \"val\": 10}, {\"col\": \"data\", \"idx\": \"search\", \"val\": 10}, {\"col\": \"data\", \"idx\": \"searching\", \"val\": 10}, {\"col\": \"data\", \"idx\": \"season!\", \"val\": 10}, {\"col\": \"data\", \"idx\": \"seasonal\", \"val\": 10}, {\"col\": \"data\", \"idx\": \"seatbelt\", \"val\": 10}, {\"col\": \"data\", \"idx\": \"seats!\", \"val\": 10}, {\"col\": \"data\", \"idx\": \"secondary..1/2\", \"val\": 10}, {\"col\": \"data\", \"idx\": \"seconds\", \"val\": 10}, {\"col\": \"data\", \"idx\": \"sector\", \"val\": 10}, {\"col\": \"data\", \"idx\": \"seedless\", \"val\": 10}, {\"col\": \"data\", \"idx\": \"seeeeeeriously\\ud83d\\ude13\", \"val\": 10}, {\"col\": \"data\", \"idx\": \"self-sufficient\", \"val\": 10}, {\"col\": \"data\", \"idx\": \"selfies\", \"val\": 10}, {\"col\": \"data\", \"idx\": \"sending\", \"val\": 10}, {\"col\": \"data\", \"idx\": \"sends\", \"val\": 10}, {\"col\": \"data\", \"idx\": \"sentou\", \"val\": 10}, {\"col\": \"data\", \"idx\": \"separate\", \"val\": 10}, {\"col\": \"data\", \"idx\": \"sequential\", \"val\": 10}, {\"col\": \"data\", \"idx\": \"serie\", \"val\": 10}, {\"col\": \"data\", \"idx\": \"series\", \"val\": 10}, {\"col\": \"data\", \"idx\": \"serious.\", \"val\": 10}, {\"col\": \"data\", \"idx\": \"serious?\", \"val\": 10}, {\"col\": \"data\", \"idx\": \"seriously\", \"val\": 10}, {\"col\": \"data\", \"idx\": \"seriously..\", \"val\": 10}, {\"col\": \"data\", \"idx\": \"service\", \"val\": 10}, {\"col\": \"data\", \"idx\": \"services.do\", \"val\": 10}, {\"col\": \"data\", \"idx\": \"servir\\u00e0\", \"val\": 10}, {\"col\": \"data\", \"idx\": \"sesame\", \"val\": 10}, {\"col\": \"data\", \"idx\": \"session\", \"val\": 10}, {\"col\": \"data\", \"idx\": \"settled\", \"val\": 10}, {\"col\": \"data\", \"idx\": \"severlyyyyyy.\", \"val\": 10}, {\"col\": \"data\", \"idx\": \"sexe,\", \"val\": 10}, {\"col\": \"data\", \"idx\": \"sexe.\", \"val\": 10}, {\"col\": \"data\", \"idx\": \"sexe?\", \"val\": 10}, {\"col\": \"data\", \"idx\": \"sexual\", \"val\": 10}, {\"col\": \"data\", \"idx\": \"shades\", \"val\": 10}, {\"col\": \"data\", \"idx\": \"shaheed\", \"val\": 10}, {\"col\": \"data\", \"idx\": \"shaman\", \"val\": 10}, {\"col\": \"data\", \"idx\": \"shame\", \"val\": 10}, {\"col\": \"data\", \"idx\": \"shania!!\", \"val\": 10}, {\"col\": \"data\", \"idx\": \"shape.\", \"val\": 10}, {\"col\": \"data\", \"idx\": \"shaped\", \"val\": 10}, {\"col\": \"data\", \"idx\": \"share\", \"val\": 10}, {\"col\": \"data\", \"idx\": \"sharing\", \"val\": 10}, {\"col\": \"data\", \"idx\": \"she's\", \"val\": 10}, {\"col\": \"data\", \"idx\": \"shift\", \"val\": 10}, {\"col\": \"data\", \"idx\": \"shiny\", \"val\": 10}, {\"col\": \"data\", \"idx\": \"shizz\", \"val\": 10}, {\"col\": \"data\", \"idx\": \"shoot\", \"val\": 10}, {\"col\": \"data\", \"idx\": \"shop.\", \"val\": 10}, {\"col\": \"data\", \"idx\": \"shopping\", \"val\": 10}, {\"col\": \"data\", \"idx\": \"short\", \"val\": 10}, {\"col\": \"data\", \"idx\": \"shoulder.\", \"val\": 10}, {\"col\": \"data\", \"idx\": \"shout\", \"val\": 10}, {\"col\": \"data\", \"idx\": \"show!\", \"val\": 10}, {\"col\": \"data\", \"idx\": \"showcase\", \"val\": 10}, {\"col\": \"data\", \"idx\": \"shrivelled\", \"val\": 10}, {\"col\": \"data\", \"idx\": \"sick,\", \"val\": 10}, {\"col\": \"data\", \"idx\": \"side,\", \"val\": 10}, {\"col\": \"data\", \"idx\": \"signal\", \"val\": 10}, {\"col\": \"data\", \"idx\": \"signing\", \"val\": 10}, {\"col\": \"data\", \"idx\": \"silly\", \"val\": 10}, {\"col\": \"data\", \"idx\": \"silly.\", \"val\": 10}, {\"col\": \"data\", \"idx\": \"simon\", \"val\": 10}, {\"col\": \"data\", \"idx\": \"singing\", \"val\": 10}, {\"col\": \"data\", \"idx\": \"single\", \"val\": 10}, {\"col\": \"data\", \"idx\": \"sister\", \"val\": 10}, {\"col\": \"data\", \"idx\": \"situation\", \"val\": 10}, {\"col\": \"data\", \"idx\": \"skint\", \"val\": 10}, {\"col\": \"data\", \"idx\": \"skype\", \"val\": 10}, {\"col\": \"data\", \"idx\": \"slauku\", \"val\": 10}, {\"col\": \"data\", \"idx\": \"sleep\", \"val\": 10}, {\"col\": \"data\", \"idx\": \"slower\", \"val\": 10}, {\"col\": \"data\", \"idx\": \"small\", \"val\": 10}, {\"col\": \"data\", \"idx\": \"small,\", \"val\": 10}, {\"col\": \"data\", \"idx\": \"smashing\", \"val\": 10}, {\"col\": \"data\", \"idx\": \"smaskigt?\", \"val\": 10}, {\"col\": \"data\", \"idx\": \"smell\", \"val\": 10}, {\"col\": \"data\", \"idx\": \"smooshes\", \"val\": 10}, {\"col\": \"data\", \"idx\": \"snaps\", \"val\": 10}, {\"col\": \"data\", \"idx\": \"sneaking\", \"val\": 10}, {\"col\": \"data\", \"idx\": \"sneekes,\", \"val\": 10}, {\"col\": \"data\", \"idx\": \"sniff\", \"val\": 10}, {\"col\": \"data\", \"idx\": \"snowdrops\", \"val\": 10}, {\"col\": \"data\", \"idx\": \"so....\", \"val\": 10}, {\"col\": \"data\", \"idx\": \"soap,\", \"val\": 10}, {\"col\": \"data\", \"idx\": \"social\", \"val\": 10}, {\"col\": \"data\", \"idx\": \"societies!\", \"val\": 10}, {\"col\": \"data\", \"idx\": \"society\", \"val\": 10}, {\"col\": \"data\", \"idx\": \"solid\", \"val\": 10}, {\"col\": \"data\", \"idx\": \"someday\", \"val\": 10}, {\"col\": \"data\", \"idx\": \"sometimes.\", \"val\": 10}, {\"col\": \"data\", \"idx\": \"song\\\"\", \"val\": 10}, {\"col\": \"data\", \"idx\": \"soon.\", \"val\": 10}, {\"col\": \"data\", \"idx\": \"soonest\", \"val\": 10}, {\"col\": \"data\", \"idx\": \"sorry,\", \"val\": 10}, {\"col\": \"data\", \"idx\": \"sorry.http://t.co/q0feqfzcux\", \"val\": 10}, {\"col\": \"data\", \"idx\": \"sorted\", \"val\": 10}, {\"col\": \"data\", \"idx\": \"souls,\", \"val\": 10}, {\"col\": \"data\", \"idx\": \"sounds\", \"val\": 10}, {\"col\": \"data\", \"idx\": \"sourced.\", \"val\": 10}, {\"col\": \"data\", \"idx\": \"sourdough\", \"val\": 10}, {\"col\": \"data\", \"idx\": \"south\", \"val\": 10}, {\"col\": \"data\", \"idx\": \"southboun...\", \"val\": 10}, {\"col\": \"data\", \"idx\": \"southbound\", \"val\": 10}, {\"col\": \"data\", \"idx\": \"space\", \"val\": 10}, {\"col\": \"data\", \"idx\": \"sparrow\\ud83d\\udc40\", \"val\": 10}, {\"col\": \"data\", \"idx\": \"speadsheets.\", \"val\": 10}, {\"col\": \"data\", \"idx\": \"spec).\", \"val\": 10}, {\"col\": \"data\", \"idx\": \"special\", \"val\": 10}, {\"col\": \"data\", \"idx\": \"speed\", \"val\": 10}, {\"col\": \"data\", \"idx\": \"spiderman\", \"val\": 10}, {\"col\": \"data\", \"idx\": \"spiritual\", \"val\": 10}, {\"col\": \"data\", \"idx\": \"splash\", \"val\": 10}, {\"col\": \"data\", \"idx\": \"spoilers\", \"val\": 10}, {\"col\": \"data\", \"idx\": \"spoken\", \"val\": 10}, {\"col\": \"data\", \"idx\": \"spoliers\", \"val\": 10}, {\"col\": \"data\", \"idx\": \"sporting\", \"val\": 10}, {\"col\": \"data\", \"idx\": \"spotify\", \"val\": 10}, {\"col\": \"data\", \"idx\": \"spotless\", \"val\": 10}, {\"col\": \"data\", \"idx\": \"spotted.\", \"val\": 10}, {\"col\": \"data\", \"idx\": \"spring\", \"val\": 10}, {\"col\": \"data\", \"idx\": \"st,@stigammonds\", \"val\": 10}, {\"col\": \"data\", \"idx\": \"stadium\", \"val\": 10}, {\"col\": \"data\", \"idx\": \"staff\", \"val\": 10}, {\"col\": \"data\", \"idx\": \"stage\", \"val\": 10}, {\"col\": \"data\", \"idx\": \"stalking\", \"val\": 10}, {\"col\": \"data\", \"idx\": \"stall\", \"val\": 10}, {\"col\": \"data\", \"idx\": \"stand\", \"val\": 10}, {\"col\": \"data\", \"idx\": \"standing\", \"val\": 10}, {\"col\": \"data\", \"idx\": \"stands\", \"val\": 10}, {\"col\": \"data\", \"idx\": \"stansted\", \"val\": 10}, {\"col\": \"data\", \"idx\": \"stars\", \"val\": 10}, {\"col\": \"data\", \"idx\": \"start\", \"val\": 10}, {\"col\": \"data\", \"idx\": \"started\", \"val\": 10}, {\"col\": \"data\", \"idx\": \"starting\", \"val\": 10}, {\"col\": \"data\", \"idx\": \"starts\", \"val\": 10}, {\"col\": \"data\", \"idx\": \"stats\", \"val\": 10}, {\"col\": \"data\", \"idx\": \"stayed\", \"val\": 10}, {\"col\": \"data\", \"idx\": \"staying\", \"val\": 10}, {\"col\": \"data\", \"idx\": \"steal\", \"val\": 10}, {\"col\": \"data\", \"idx\": \"steps\", \"val\": 10}, {\"col\": \"data\", \"idx\": \"stick\", \"val\": 10}, {\"col\": \"data\", \"idx\": \"stimulante\", \"val\": 10}, {\"col\": \"data\", \"idx\": \"stinking\", \"val\": 10}, {\"col\": \"data\", \"idx\": \"stirrer\", \"val\": 10}, {\"col\": \"data\", \"idx\": \"stock\", \"val\": 10}, {\"col\": \"data\", \"idx\": \"stood\", \"val\": 10}, {\"col\": \"data\", \"idx\": \"stops\", \"val\": 10}, {\"col\": \"data\", \"idx\": \"store?\", \"val\": 10}, {\"col\": \"data\", \"idx\": \"stored\", \"val\": 10}, {\"col\": \"data\", \"idx\": \"stories.\", \"val\": 10}, {\"col\": \"data\", \"idx\": \"story\", \"val\": 10}, {\"col\": \"data\", \"idx\": \"story.\", \"val\": 10}, {\"col\": \"data\", \"idx\": \"strange\", \"val\": 10}, {\"col\": \"data\", \"idx\": \"strawberries\", \"val\": 10}, {\"col\": \"data\", \"idx\": \"strawberries,\", \"val\": 10}, {\"col\": \"data\", \"idx\": \"strawbs,\", \"val\": 10}, {\"col\": \"data\", \"idx\": \"street)\", \"val\": 10}, {\"col\": \"data\", \"idx\": \"streets\", \"val\": 10}, {\"col\": \"data\", \"idx\": \"stressed\", \"val\": 10}, {\"col\": \"data\", \"idx\": \"stressing\", \"val\": 10}, {\"col\": \"data\", \"idx\": \"strides\", \"val\": 10}, {\"col\": \"data\", \"idx\": \"strike\", \"val\": 10}, {\"col\": \"data\", \"idx\": \"stroked\", \"val\": 10}, {\"col\": \"data\", \"idx\": \"strong\", \"val\": 10}, {\"col\": \"data\", \"idx\": \"stronza.\", \"val\": 10}, {\"col\": \"data\", \"idx\": \"stuck\", \"val\": 10}, {\"col\": \"data\", \"idx\": \"studio\", \"val\": 10}, {\"col\": \"data\", \"idx\": \"studios\\ud83d\\udd2e\\u26a1\\ufe0f\", \"val\": 10}, {\"col\": \"data\", \"idx\": \"stuff!\", \"val\": 10}, {\"col\": \"data\", \"idx\": \"stuff!?!\", \"val\": 10}, {\"col\": \"data\", \"idx\": \"stuff.\", \"val\": 10}, {\"col\": \"data\", \"idx\": \"stumps\", \"val\": 10}, {\"col\": \"data\", \"idx\": \"stunning\", \"val\": 10}, {\"col\": \"data\", \"idx\": \"stupid\", \"val\": 10}, {\"col\": \"data\", \"idx\": \"style\", \"val\": 10}, {\"col\": \"data\", \"idx\": \"submission.\", \"val\": 10}, {\"col\": \"data\", \"idx\": \"submit\", \"val\": 10}, {\"col\": \"data\", \"idx\": \"subscribe\", \"val\": 10}, {\"col\": \"data\", \"idx\": \"subscription\", \"val\": 10}, {\"col\": \"data\", \"idx\": \"success\", \"val\": 10}, {\"col\": \"data\", \"idx\": \"suffering\", \"val\": 10}, {\"col\": \"data\", \"idx\": \"suicide\", \"val\": 10}, {\"col\": \"data\", \"idx\": \"summer\", \"val\": 10}, {\"col\": \"data\", \"idx\": \"summer!\", \"val\": 10}, {\"col\": \"data\", \"idx\": \"sumthin\", \"val\": 10}, {\"col\": \"data\", \"idx\": \"sunny\", \"val\": 10}, {\"col\": \"data\", \"idx\": \"sunshine!\", \"val\": 10}, {\"col\": \"data\", \"idx\": \"super\", \"val\": 10}, {\"col\": \"data\", \"idx\": \"superb\", \"val\": 10}, {\"col\": \"data\", \"idx\": \"superman\", \"val\": 10}, {\"col\": \"data\", \"idx\": \"supplier\", \"val\": 10}, {\"col\": \"data\", \"idx\": \"supply\", \"val\": 10}, {\"col\": \"data\", \"idx\": \"support\", \"val\": 10}, {\"col\": \"data\", \"idx\": \"suppose\", \"val\": 10}, {\"col\": \"data\", \"idx\": \"supposed\", \"val\": 10}, {\"col\": \"data\", \"idx\": \"supreme\", \"val\": 10}, {\"col\": \"data\", \"idx\": \"surcharg\\u00e9s\", \"val\": 10}, {\"col\": \"data\", \"idx\": \"surgery,\", \"val\": 10}, {\"col\": \"data\", \"idx\": \"surplus\", \"val\": 10}, {\"col\": \"data\", \"idx\": \"surprised\", \"val\": 10}, {\"col\": \"data\", \"idx\": \"surprising,\", \"val\": 10}, {\"col\": \"data\", \"idx\": \"surrender\", \"val\": 10}, {\"col\": \"data\", \"idx\": \"susan\", \"val\": 10}, {\"col\": \"data\", \"idx\": \"sushi\", \"val\": 10}, {\"col\": \"data\", \"idx\": \"sustain\", \"val\": 10}, {\"col\": \"data\", \"idx\": \"swear?\", \"val\": 10}, {\"col\": \"data\", \"idx\": \"sweatshirt\", \"val\": 10}, {\"col\": \"data\", \"idx\": \"sweet\", \"val\": 10}, {\"col\": \"data\", \"idx\": \"swept\", \"val\": 10}, {\"col\": \"data\", \"idx\": \"switch\", \"val\": 10}, {\"col\": \"data\", \"idx\": \"syrup\", \"val\": 10}, {\"col\": \"data\", \"idx\": \"t'int\\u00e9resses\", \"val\": 10}, {\"col\": \"data\", \"idx\": \"t:10.8c,\", \"val\": 10}, {\"col\": \"data\", \"idx\": \"tablets\", \"val\": 10}, {\"col\": \"data\", \"idx\": \"tadi\\ud83c\\udf88\", \"val\": 10}, {\"col\": \"data\", \"idx\": \"taken\", \"val\": 10}, {\"col\": \"data\", \"idx\": \"takes\", \"val\": 10}, {\"col\": \"data\", \"idx\": \"taking\", \"val\": 10}, {\"col\": \"data\", \"idx\": \"talibans\", \"val\": 10}, {\"col\": \"data\", \"idx\": \"talked\", \"val\": 10}, {\"col\": \"data\", \"idx\": \"talking\", \"val\": 10}, {\"col\": \"data\", \"idx\": \"talks\", \"val\": 10}, {\"col\": \"data\", \"idx\": \"tank.\", \"val\": 10}, {\"col\": \"data\", \"idx\": \"tanya\", \"val\": 10}, {\"col\": \"data\", \"idx\": \"tapas\", \"val\": 10}, {\"col\": \"data\", \"idx\": \"tardeeee\", \"val\": 10}, {\"col\": \"data\", \"idx\": \"tastes\", \"val\": 10}, {\"col\": \"data\", \"idx\": \"tasting\", \"val\": 10}, {\"col\": \"data\", \"idx\": \"tattoo\", \"val\": 10}, {\"col\": \"data\", \"idx\": \"tattoos\", \"val\": 10}, {\"col\": \"data\", \"idx\": \"tbh...but\", \"val\": 10}, {\"col\": \"data\", \"idx\": \"teams\", \"val\": 10}, {\"col\": \"data\", \"idx\": \"technology\", \"val\": 10}, {\"col\": \"data\", \"idx\": \"teenager\", \"val\": 10}, {\"col\": \"data\", \"idx\": \"tell?@healthwatch_cb\", \"val\": 10}, {\"col\": \"data\", \"idx\": \"telling\", \"val\": 10}, {\"col\": \"data\", \"idx\": \"temp:\", \"val\": 10}, {\"col\": \"data\", \"idx\": \"temperature\", \"val\": 10}, {\"col\": \"data\", \"idx\": \"temperature:\", \"val\": 10}, {\"col\": \"data\", \"idx\": \"temptation\", \"val\": 10}, {\"col\": \"data\", \"idx\": \"tenho\", \"val\": 10}, {\"col\": \"data\", \"idx\": \"tenir\", \"val\": 10}, {\"col\": \"data\", \"idx\": \"term...\", \"val\": 10}, {\"col\": \"data\", \"idx\": \"term\\u2026\", \"val\": 10}, {\"col\": \"data\", \"idx\": \"terrible\", \"val\": 10}, {\"col\": \"data\", \"idx\": \"tested\", \"val\": 10}, {\"col\": \"data\", \"idx\": \"testing\", \"val\": 10}, {\"col\": \"data\", \"idx\": \"texts\", \"val\": 10}, {\"col\": \"data\", \"idx\": \"thank\", \"val\": 10}, {\"col\": \"data\", \"idx\": \"thanks!\", \"val\": 10}, {\"col\": \"data\", \"idx\": \"thankyou\", \"val\": 10}, {\"col\": \"data\", \"idx\": \"thankyou!\", \"val\": 10}, {\"col\": \"data\", \"idx\": \"thankyou.\", \"val\": 10}, {\"col\": \"data\", \"idx\": \"that!\", \"val\": 10}, {\"col\": \"data\", \"idx\": \"that's\", \"val\": 10}, {\"col\": \"data\", \"idx\": \"that.\", \"val\": 10}, {\"col\": \"data\", \"idx\": \"that...\", \"val\": 10}, {\"col\": \"data\", \"idx\": \"thats\", \"val\": 10}, {\"col\": \"data\", \"idx\": \"their\", \"val\": 10}, {\"col\": \"data\", \"idx\": \"them!\", \"val\": 10}, {\"col\": \"data\", \"idx\": \"them\\\"\", \"val\": 10}, {\"col\": \"data\", \"idx\": \"them:\", \"val\": 10}, {\"col\": \"data\", \"idx\": \"then.\", \"val\": 10}, {\"col\": \"data\", \"idx\": \"then..\", \"val\": 10}, {\"col\": \"data\", \"idx\": \"then?\", \"val\": 10}, {\"col\": \"data\", \"idx\": \"theory\\ud83d\\ude97\\ud83d\\ude97\", \"val\": 10}, {\"col\": \"data\", \"idx\": \"there!\", \"val\": 10}, {\"col\": \"data\", \"idx\": \"there's\", \"val\": 10}, {\"col\": \"data\", \"idx\": \"there,\", \"val\": 10}, {\"col\": \"data\", \"idx\": \"there.\", \"val\": 10}, {\"col\": \"data\", \"idx\": \"these\", \"val\": 10}, {\"col\": \"data\", \"idx\": \"these!\", \"val\": 10}, {\"col\": \"data\", \"idx\": \"they'd\", \"val\": 10}, {\"col\": \"data\", \"idx\": \"they'll\", \"val\": 10}, {\"col\": \"data\", \"idx\": \"they're\", \"val\": 10}, {\"col\": \"data\", \"idx\": \"they?\", \"val\": 10}, {\"col\": \"data\", \"idx\": \"thick\", \"val\": 10}, {\"col\": \"data\", \"idx\": \"thing\", \"val\": 10}, {\"col\": \"data\", \"idx\": \"things\", \"val\": 10}, {\"col\": \"data\", \"idx\": \"thinking\", \"val\": 10}, {\"col\": \"data\", \"idx\": \"thinks\", \"val\": 10}, {\"col\": \"data\", \"idx\": \"third\", \"val\": 10}, {\"col\": \"data\", \"idx\": \"this,\", \"val\": 10}, {\"col\": \"data\", \"idx\": \"this.\", \"val\": 10}, {\"col\": \"data\", \"idx\": \"this?\", \"val\": 10}, {\"col\": \"data\", \"idx\": \"those\", \"val\": 10}, {\"col\": \"data\", \"idx\": \"though\", \"val\": 10}, {\"col\": \"data\", \"idx\": \"though,\", \"val\": 10}, {\"col\": \"data\", \"idx\": \"thought\", \"val\": 10}, {\"col\": \"data\", \"idx\": \"threaten\", \"val\": 10}, {\"col\": \"data\", \"idx\": \"three\", \"val\": 10}, {\"col\": \"data\", \"idx\": \"threw\", \"val\": 10}, {\"col\": \"data\", \"idx\": \"throngs\", \"val\": 10}, {\"col\": \"data\", \"idx\": \"through\", \"val\": 10}, {\"col\": \"data\", \"idx\": \"throw\", \"val\": 10}, {\"col\": \"data\", \"idx\": \"throws\", \"val\": 10}, {\"col\": \"data\", \"idx\": \"thumb\", \"val\": 10}, {\"col\": \"data\", \"idx\": \"thursday!\", \"val\": 10}, {\"col\": \"data\", \"idx\": \"tibetan\", \"val\": 10}, {\"col\": \"data\", \"idx\": \"tick!!\", \"val\": 10}, {\"col\": \"data\", \"idx\": \"ticket\", \"val\": 10}, {\"col\": \"data\", \"idx\": \"tickets\", \"val\": 10}, {\"col\": \"data\", \"idx\": \"time!\", \"val\": 10}, {\"col\": \"data\", \"idx\": \"time.\", \"val\": 10}, {\"col\": \"data\", \"idx\": \"times\", \"val\": 10}, {\"col\": \"data\", \"idx\": \"tings\", \"val\": 10}, {\"col\": \"data\", \"idx\": \"tings.\", \"val\": 10}, {\"col\": \"data\", \"idx\": \"tinkler\", \"val\": 10}, {\"col\": \"data\", \"idx\": \"tinme\", \"val\": 10}, {\"col\": \"data\", \"idx\": \"tiring\", \"val\": 10}, {\"col\": \"data\", \"idx\": \"titre\", \"val\": 10}, {\"col\": \"data\", \"idx\": \"toasted\", \"val\": 10}, {\"col\": \"data\", \"idx\": \"toasters.\", \"val\": 10}, {\"col\": \"data\", \"idx\": \"today!\", \"val\": 10}, {\"col\": \"data\", \"idx\": \"today.\", \"val\": 10}, {\"col\": \"data\", \"idx\": \"today.discussed\", \"val\": 10}, {\"col\": \"data\", \"idx\": \"today:\", \"val\": 10}, {\"col\": \"data\", \"idx\": \"together\", \"val\": 10}, {\"col\": \"data\", \"idx\": \"together.\", \"val\": 10}, {\"col\": \"data\", \"idx\": \"tom!!\", \"val\": 10}, {\"col\": \"data\", \"idx\": \"tomorrow\", \"val\": 10}, {\"col\": \"data\", \"idx\": \"tomorrow!\", \"val\": 10}, {\"col\": \"data\", \"idx\": \"tomorrow,\", \"val\": 10}, {\"col\": \"data\", \"idx\": \"tomorrow.\", \"val\": 10}, {\"col\": \"data\", \"idx\": \"tomorrow:\", \"val\": 10}, {\"col\": \"data\", \"idx\": \"tomoz\", \"val\": 10}, {\"col\": \"data\", \"idx\": \"tonbridge\", \"val\": 10}, {\"col\": \"data\", \"idx\": \"tonight\", \"val\": 10}, {\"col\": \"data\", \"idx\": \"tonight!\", \"val\": 10}, {\"col\": \"data\", \"idx\": \"tony.\", \"val\": 10}, {\"col\": \"data\", \"idx\": \"tools\", \"val\": 10}, {\"col\": \"data\", \"idx\": \"toooo\", \"val\": 10}, {\"col\": \"data\", \"idx\": \"tooooo\", \"val\": 10}, {\"col\": \"data\", \"idx\": \"topgolf\", \"val\": 10}, {\"col\": \"data\", \"idx\": \"tossing\", \"val\": 10}, {\"col\": \"data\", \"idx\": \"touch\", \"val\": 10}, {\"col\": \"data\", \"idx\": \"touch!\", \"val\": 10}, {\"col\": \"data\", \"idx\": \"tower!\", \"val\": 10}, {\"col\": \"data\", \"idx\": \"toying\", \"val\": 10}, {\"col\": \"data\", \"idx\": \"trabalhe\", \"val\": 10}, {\"col\": \"data\", \"idx\": \"trade\", \"val\": 10}, {\"col\": \"data\", \"idx\": \"traders\", \"val\": 10}, {\"col\": \"data\", \"idx\": \"trailer\", \"val\": 10}, {\"col\": \"data\", \"idx\": \"train\", \"val\": 10}, {\"col\": \"data\", \"idx\": \"trainer.\", \"val\": 10}, {\"col\": \"data\", \"idx\": \"trainer..\", \"val\": 10}, {\"col\": \"data\", \"idx\": \"trainers?\", \"val\": 10}, {\"col\": \"data\", \"idx\": \"tram)\", \"val\": 10}, {\"col\": \"data\", \"idx\": \"transgender\", \"val\": 10}, {\"col\": \"data\", \"idx\": \"transport\", \"val\": 10}, {\"col\": \"data\", \"idx\": \"trapianto\", \"val\": 10}, {\"col\": \"data\", \"idx\": \"travel\", \"val\": 10}, {\"col\": \"data\", \"idx\": \"treated\", \"val\": 10}, {\"col\": \"data\", \"idx\": \"tremendously\", \"val\": 10}, {\"col\": \"data\", \"idx\": \"trial\", \"val\": 10}, {\"col\": \"data\", \"idx\": \"trials\", \"val\": 10}, {\"col\": \"data\", \"idx\": \"trick,\", \"val\": 10}, {\"col\": \"data\", \"idx\": \"tring\", \"val\": 10}, {\"col\": \"data\", \"idx\": \"tripping\", \"val\": 10}, {\"col\": \"data\", \"idx\": \"trips\", \"val\": 10}, {\"col\": \"data\", \"idx\": \"troll?@motherboardz97\", \"val\": 10}, {\"col\": \"data\", \"idx\": \"trollop\", \"val\": 10}, {\"col\": \"data\", \"idx\": \"trouble\", \"val\": 10}, {\"col\": \"data\", \"idx\": \"true.\", \"val\": 10}, {\"col\": \"data\", \"idx\": \"trying\", \"val\": 10}, {\"col\": \"data\", \"idx\": \"tuesday\", \"val\": 10}, {\"col\": \"data\", \"idx\": \"tumble\", \"val\": 10}, {\"col\": \"data\", \"idx\": \"tumblr\", \"val\": 10}, {\"col\": \"data\", \"idx\": \"tupperware\", \"val\": 10}, {\"col\": \"data\", \"idx\": \"turn...\", \"val\": 10}, {\"col\": \"data\", \"idx\": \"tutorials\\ud83d\\udc85\", \"val\": 10}, {\"col\": \"data\", \"idx\": \"tutte\", \"val\": 10}, {\"col\": \"data\", \"idx\": \"tweet\", \"val\": 10}, {\"col\": \"data\", \"idx\": \"tweeting\", \"val\": 10}, {\"col\": \"data\", \"idx\": \"tweets\", \"val\": 10}, {\"col\": \"data\", \"idx\": \"twice\", \"val\": 10}, {\"col\": \"data\", \"idx\": \"twisted\", \"val\": 10}, {\"col\": \"data\", \"idx\": \"twitter\", \"val\": 10}, {\"col\": \"data\", \"idx\": \"twitter!\", \"val\": 10}, {\"col\": \"data\", \"idx\": \"twitters\", \"val\": 10}, {\"col\": \"data\", \"idx\": \"t\\u00e9l\\u00e9,\", \"val\": 10}, {\"col\": \"data\", \"idx\": \"t\\u00f3mas\", \"val\": 10}, {\"col\": \"data\", \"idx\": \"uk.the\", \"val\": 10}, {\"col\": \"data\", \"idx\": \"ukippers.\", \"val\": 10}, {\"col\": \"data\", \"idx\": \"uklpromotions@gmail.com\", \"val\": 10}, {\"col\": \"data\", \"idx\": \"ultimate\", \"val\": 10}, {\"col\": \"data\", \"idx\": \"unboxed\", \"val\": 10}, {\"col\": \"data\", \"idx\": \"undeniable.\", \"val\": 10}, {\"col\": \"data\", \"idx\": \"under\", \"val\": 10}, {\"col\": \"data\", \"idx\": \"understand\", \"val\": 10}, {\"col\": \"data\", \"idx\": \"underway\", \"val\": 10}, {\"col\": \"data\", \"idx\": \"underwear/nude\", \"val\": 10}, {\"col\": \"data\", \"idx\": \"underwear?\", \"val\": 10}, {\"col\": \"data\", \"idx\": \"unfortunates\", \"val\": 10}, {\"col\": \"data\", \"idx\": \"united\", \"val\": 10}, {\"col\": \"data\", \"idx\": \"university\", \"val\": 10}, {\"col\": \"data\", \"idx\": \"university,\", \"val\": 10}, {\"col\": \"data\", \"idx\": \"unmotivated\", \"val\": 10}, {\"col\": \"data\", \"idx\": \"until\", \"val\": 10}, {\"col\": \"data\", \"idx\": \"unwrap\", \"val\": 10}, {\"col\": \"data\", \"idx\": \"updates\", \"val\": 10}, {\"col\": \"data\", \"idx\": \"uploaded\", \"val\": 10}, {\"col\": \"data\", \"idx\": \"upmarket\", \"val\": 10}, {\"col\": \"data\", \"idx\": \"upton\", \"val\": 10}, {\"col\": \"data\", \"idx\": \"using\", \"val\": 10}, {\"col\": \"data\", \"idx\": \"usually\", \"val\": 10}, {\"col\": \"data\", \"idx\": \"vaguely,\", \"val\": 10}, {\"col\": \"data\", \"idx\": \"valentine's\", \"val\": 10}, {\"col\": \"data\", \"idx\": \"value\", \"val\": 10}, {\"col\": \"data\", \"idx\": \"values:\", \"val\": 10}, {\"col\": \"data\", \"idx\": \"vampire\", \"val\": 10}, {\"col\": \"data\", \"idx\": \"vanessa:\", \"val\": 10}, {\"col\": \"data\", \"idx\": \"vaults.\", \"val\": 10}, {\"col\": \"data\", \"idx\": \"vedere\", \"val\": 10}, {\"col\": \"data\", \"idx\": \"vehicles\", \"val\": 10}, {\"col\": \"data\", \"idx\": \"vendiendo\", \"val\": 10}, {\"col\": \"data\", \"idx\": \"victim\", \"val\": 10}, {\"col\": \"data\", \"idx\": \"video\", \"val\": 10}, {\"col\": \"data\", \"idx\": \"video...\", \"val\": 10}, {\"col\": \"data\", \"idx\": \"videos\", \"val\": 10}, {\"col\": \"data\", \"idx\": \"views\", \"val\": 10}, {\"col\": \"data\", \"idx\": \"village\", \"val\": 10}, {\"col\": \"data\", \"idx\": \"village,\", \"val\": 10}, {\"col\": \"data\", \"idx\": \"visit\", \"val\": 10}, {\"col\": \"data\", \"idx\": \"visit..\", \"val\": 10}, {\"col\": \"data\", \"idx\": \"visited\", \"val\": 10}, {\"col\": \"data\", \"idx\": \"visiting\", \"val\": 10}, {\"col\": \"data\", \"idx\": \"visitors\", \"val\": 10}, {\"col\": \"data\", \"idx\": \"vitara\", \"val\": 10}, {\"col\": \"data\", \"idx\": \"vocals\", \"val\": 10}, {\"col\": \"data\", \"idx\": \"vogue\", \"val\": 10}, {\"col\": \"data\", \"idx\": \"voice\\\"\", \"val\": 10}, {\"col\": \"data\", \"idx\": \"voles\", \"val\": 10}, {\"col\": \"data\", \"idx\": \"volunteer\", \"val\": 10}, {\"col\": \"data\", \"idx\": \"volunteering\", \"val\": 10}, {\"col\": \"data\", \"idx\": \"votes\", \"val\": 10}, {\"col\": \"data\", \"idx\": \"waiting\", \"val\": 10}, {\"col\": \"data\", \"idx\": \"waitrose\", \"val\": 10}, {\"col\": \"data\", \"idx\": \"wakefield\", \"val\": 10}, {\"col\": \"data\", \"idx\": \"wales\", \"val\": 10}, {\"col\": \"data\", \"idx\": \"walk,\", \"val\": 10}, {\"col\": \"data\", \"idx\": \"walkabouts\", \"val\": 10}, {\"col\": \"data\", \"idx\": \"walkabouts.\", \"val\": 10}, {\"col\": \"data\", \"idx\": \"walking\", \"val\": 10}, {\"col\": \"data\", \"idx\": \"wallets,\", \"val\": 10}, {\"col\": \"data\", \"idx\": \"wanna\", \"val\": 10}, {\"col\": \"data\", \"idx\": \"wanted\", \"val\": 10}, {\"col\": \"data\", \"idx\": \"wants\", \"val\": 10}, {\"col\": \"data\", \"idx\": \"wants2chat\", \"val\": 10}, {\"col\": \"data\", \"idx\": \"warboys\", \"val\": 10}, {\"col\": \"data\", \"idx\": \"warburton\", \"val\": 10}, {\"col\": \"data\", \"idx\": \"warner\", \"val\": 10}, {\"col\": \"data\", \"idx\": \"wasn't\", \"val\": 10}, {\"col\": \"data\", \"idx\": \"waste\", \"val\": 10}, {\"col\": \"data\", \"idx\": \"watch\", \"val\": 10}, {\"col\": \"data\", \"idx\": \"watched\", \"val\": 10}, {\"col\": \"data\", \"idx\": \"watches\", \"val\": 10}, {\"col\": \"data\", \"idx\": \"watching\", \"val\": 10}, {\"col\": \"data\", \"idx\": \"watchmen\", \"val\": 10}, {\"col\": \"data\", \"idx\": \"water\", \"val\": 10}, {\"col\": \"data\", \"idx\": \"water!\", \"val\": 10}, {\"col\": \"data\", \"idx\": \"water.\", \"val\": 10}, {\"col\": \"data\", \"idx\": \"waters\", \"val\": 10}, {\"col\": \"data\", \"idx\": \"watford\", \"val\": 10}, {\"col\": \"data\", \"idx\": \"watts\", \"val\": 10}, {\"col\": \"data\", \"idx\": \"we'll\", \"val\": 10}, {\"col\": \"data\", \"idx\": \"we're\", \"val\": 10}, {\"col\": \"data\", \"idx\": \"we've\", \"val\": 10}, {\"col\": \"data\", \"idx\": \"weaker\", \"val\": 10}, {\"col\": \"data\", \"idx\": \"wearing\", \"val\": 10}, {\"col\": \"data\", \"idx\": \"wears\", \"val\": 10}, {\"col\": \"data\", \"idx\": \"weather\", \"val\": 10}, {\"col\": \"data\", \"idx\": \"website!\", \"val\": 10}, {\"col\": \"data\", \"idx\": \"wedding\", \"val\": 10}, {\"col\": \"data\", \"idx\": \"wednesday\", \"val\": 10}, {\"col\": \"data\", \"idx\": \"wednesday...\", \"val\": 10}, {\"col\": \"data\", \"idx\": \"wednesdays\", \"val\": 10}, {\"col\": \"data\", \"idx\": \"week!\", \"val\": 10}, {\"col\": \"data\", \"idx\": \"week.\", \"val\": 10}, {\"col\": \"data\", \"idx\": \"weekend!!!\", \"val\": 10}, {\"col\": \"data\", \"idx\": \"weekend.\", \"val\": 10}, {\"col\": \"data\", \"idx\": \"weeks\", \"val\": 10}, {\"col\": \"data\", \"idx\": \"weeks.\", \"val\": 10}, {\"col\": \"data\", \"idx\": \"weeks\\ud83d\\ude97\", \"val\": 10}, {\"col\": \"data\", \"idx\": \"weird\", \"val\": 10}, {\"col\": \"data\", \"idx\": \"weird.\", \"val\": 10}, {\"col\": \"data\", \"idx\": \"weirdest\", \"val\": 10}, {\"col\": \"data\", \"idx\": \"welcome\", \"val\": 10}, {\"col\": \"data\", \"idx\": \"welcome.\", \"val\": 10}, {\"col\": \"data\", \"idx\": \"well,\", \"val\": 10}, {\"col\": \"data\", \"idx\": \"well...\", \"val\": 10}, {\"col\": \"data\", \"idx\": \"well?\", \"val\": 10}, {\"col\": \"data\", \"idx\": \"welsh\", \"val\": 10}, {\"col\": \"data\", \"idx\": \"what???\", \"val\": 10}, {\"col\": \"data\", \"idx\": \"whats\", \"val\": 10}, {\"col\": \"data\", \"idx\": \"wheels\", \"val\": 10}, {\"col\": \"data\", \"idx\": \"whens\", \"val\": 10}, {\"col\": \"data\", \"idx\": \"where\", \"val\": 10}, {\"col\": \"data\", \"idx\": \"whereas\", \"val\": 10}, {\"col\": \"data\", \"idx\": \"whether\", \"val\": 10}, {\"col\": \"data\", \"idx\": \"which\", \"val\": 10}, {\"col\": \"data\", \"idx\": \"whichever\", \"val\": 10}, {\"col\": \"data\", \"idx\": \"while,\", \"val\": 10}, {\"col\": \"data\", \"idx\": \"white\", \"val\": 10}, {\"col\": \"data\", \"idx\": \"white-fronted\", \"val\": 10}, {\"col\": \"data\", \"idx\": \"who'll\", \"val\": 10}, {\"col\": \"data\", \"idx\": \"whole\", \"val\": 10}, {\"col\": \"data\", \"idx\": \"whom?\", \"val\": 10}, {\"col\": \"data\", \"idx\": \"whooooooops\", \"val\": 10}, {\"col\": \"data\", \"idx\": \"wifey\", \"val\": 10}, {\"col\": \"data\", \"idx\": \"wightlink\", \"val\": 10}, {\"col\": \"data\", \"idx\": \"wild!\", \"val\": 10}, {\"col\": \"data\", \"idx\": \"wild,\", \"val\": 10}, {\"col\": \"data\", \"idx\": \"wildin'\", \"val\": 10}, {\"col\": \"data\", \"idx\": \"williams\", \"val\": 10}, {\"col\": \"data\", \"idx\": \"williams:\", \"val\": 10}, {\"col\": \"data\", \"idx\": \"willlambhair\", \"val\": 10}, {\"col\": \"data\", \"idx\": \"win*,\", \"val\": 10}, {\"col\": \"data\", \"idx\": \"win...\", \"val\": 10}, {\"col\": \"data\", \"idx\": \"wind:\", \"val\": 10}, {\"col\": \"data\", \"idx\": \"window...\", \"val\": 10}, {\"col\": \"data\", \"idx\": \"winic\", \"val\": 10}, {\"col\": \"data\", \"idx\": \"winner\", \"val\": 10}, {\"col\": \"data\", \"idx\": \"winning\", \"val\": 10}, {\"col\": \"data\", \"idx\": \"winning!\", \"val\": 10}, {\"col\": \"data\", \"idx\": \"winter\", \"val\": 10}, {\"col\": \"data\", \"idx\": \"winwick\", \"val\": 10}, {\"col\": \"data\", \"idx\": \"wishing\", \"val\": 10}, {\"col\": \"data\", \"idx\": \"within\", \"val\": 10}, {\"col\": \"data\", \"idx\": \"without\", \"val\": 10}, {\"col\": \"data\", \"idx\": \"women\", \"val\": 10}, {\"col\": \"data\", \"idx\": \"wonder?\", \"val\": 10}, {\"col\": \"data\", \"idx\": \"wonderful\", \"val\": 10}, {\"col\": \"data\", \"idx\": \"work.\", \"val\": 10}, {\"col\": \"data\", \"idx\": \"worked\", \"val\": 10}, {\"col\": \"data\", \"idx\": \"working\", \"val\": 10}, {\"col\": \"data\", \"idx\": \"workload\", \"val\": 10}, {\"col\": \"data\", \"idx\": \"workmates\", \"val\": 10}, {\"col\": \"data\", \"idx\": \"workshop\", \"val\": 10}, {\"col\": \"data\", \"idx\": \"workstreams\", \"val\": 10}, {\"col\": \"data\", \"idx\": \"world\", \"val\": 10}, {\"col\": \"data\", \"idx\": \"world,\", \"val\": 10}, {\"col\": \"data\", \"idx\": \"world.\", \"val\": 10}, {\"col\": \"data\", \"idx\": \"worlds\", \"val\": 10}, {\"col\": \"data\", \"idx\": \"worry\", \"val\": 10}, {\"col\": \"data\", \"idx\": \"worrying\", \"val\": 10}, {\"col\": \"data\", \"idx\": \"worse\", \"val\": 10}, {\"col\": \"data\", \"idx\": \"worse.\", \"val\": 10}, {\"col\": \"data\", \"idx\": \"worst\", \"val\": 10}, {\"col\": \"data\", \"idx\": \"worth\", \"val\": 10}, {\"col\": \"data\", \"idx\": \"woven\", \"val\": 10}, {\"col\": \"data\", \"idx\": \"wrazenie\", \"val\": 10}, {\"col\": \"data\", \"idx\": \"writes\", \"val\": 10}, {\"col\": \"data\", \"idx\": \"writing\", \"val\": 10}, {\"col\": \"data\", \"idx\": \"wrong\", \"val\": 10}, {\"col\": \"data\", \"idx\": \"wrong?\", \"val\": 10}, {\"col\": \"data\", \"idx\": \"wrote\", \"val\": 10}, {\"col\": \"data\", \"idx\": \"wuzzy\", \"val\": 10}, {\"col\": \"data\", \"idx\": \"xxxxxxx\", \"val\": 10}, {\"col\": \"data\", \"idx\": \"xxx\\u201dthank\", \"val\": 10}, {\"col\": \"data\", \"idx\": \"yahoos\", \"val\": 10}, {\"col\": \"data\", \"idx\": \"yarmouth.\", \"val\": 10}, {\"col\": \"data\", \"idx\": \"yayayay\\ud83d\\udc72\\ud83d\\udc6b\", \"val\": 10}, {\"col\": \"data\", \"idx\": \"ya\\u011f\\u0131yor\", \"val\": 10}, {\"col\": \"data\", \"idx\": \"yeah.\", \"val\": 10}, {\"col\": \"data\", \"idx\": \"year!!!\", \"val\": 10}, {\"col\": \"data\", \"idx\": \"year/year\", \"val\": 10}, {\"col\": \"data\", \"idx\": \"years\", \"val\": 10}, {\"col\": \"data\", \"idx\": \"yes!!\", \"val\": 10}, {\"col\": \"data\", \"idx\": \"yesterday\", \"val\": 10}, {\"col\": \"data\", \"idx\": \"yesterday!!\", \"val\": 10}, {\"col\": \"data\", \"idx\": \"yorkshire\", \"val\": 10}, {\"col\": \"data\", \"idx\": \"you\\\"...chinese\", \"val\": 10}, {\"col\": \"data\", \"idx\": \"you'd\", \"val\": 10}, {\"col\": \"data\", \"idx\": \"you'll\", \"val\": 10}, {\"col\": \"data\", \"idx\": \"you're\", \"val\": 10}, {\"col\": \"data\", \"idx\": \"you've\", \"val\": 10}, {\"col\": \"data\", \"idx\": \"you.yeah\", \"val\": 10}, {\"col\": \"data\", \"idx\": \"young-\", \"val\": 10}, {\"col\": \"data\", \"idx\": \"younger\", \"val\": 10}, {\"col\": \"data\", \"idx\": \"yourself\", \"val\": 10}, {\"col\": \"data\", \"idx\": \"youtube\", \"val\": 10}, {\"col\": \"data\", \"idx\": \"you\\u2019re\", \"val\": 10}, {\"col\": \"data\", \"idx\": \"yummy\", \"val\": 10}, {\"col\": \"data\", \"idx\": \"zebra\", \"val\": 10}, {\"col\": \"data\", \"idx\": \"zeltu!!!\\\"\", \"val\": 10}, {\"col\": \"data\", \"idx\": \"znala\", \"val\": 10}, {\"col\": \"data\", \"idx\": \"zumbathon\", \"val\": 10}, {\"col\": \"data\", \"idx\": \"\\u00a31,500.00\", \"val\": 10}, {\"col\": \"data\", \"idx\": \"\\u00a31.00\", \"val\": 10}, {\"col\": \"data\", \"idx\": \"\\u00a3163pm\", \"val\": 10}, {\"col\": \"data\", \"idx\": \"\\u00a32,000.00\", \"val\": 10}, {\"col\": \"data\", \"idx\": \"\\u00a3800k\", \"val\": 10}, {\"col\": \"data\", \"idx\": \"\\u00a3999,950\", \"val\": 10}, {\"col\": \"data\", \"idx\": \"\\u00e9cart\", \"val\": 10}, {\"col\": \"data\", \"idx\": \"\\u043f\\u0440\\u043e\\u0434\\u043e\\u043b\\u0436\\u0430\\u0439\", \"val\": 10}, {\"col\": \"data\", \"idx\": \"\\u0442\\u043e\\u0433\\u0434\\u0430\", \"val\": 10}, {\"col\": \"data\", \"idx\": \"\\u0444\\u0430\\u043f\\u0442\\u0430\\u0439\\u043c?\", \"val\": 10}, {\"col\": \"data\", \"idx\": \"\\u0627\\u0644\\u0627\\u0631\\u0647\\u0627\\u0628\\u064a\\u0646\", \"val\": 10}, {\"col\": \"data\", \"idx\": \"\\u0627\\u0644\\u0633\\u0641\\u0647\\u0627\\u0627\\u0627\\u0627\\u0627\\u0627\\u0627\\u0627\\u0627\\u0627\\u0627\\u0627\\u0627\\u0627\\u0627\\u0627\\u0621\", \"val\": 10}, {\"col\": \"data\", \"idx\": \"\\u0627\\u0645\\u064a\\u0631\\u0643\\u064a\\u0627\\u0627\", \"val\": 10}, {\"col\": \"data\", \"idx\": \"\\u0628\\u062a\\u0637\\u0627\\u0644\\u0628\", \"val\": 10}, {\"col\": \"data\", \"idx\": \"\\u062a\\u0639\\u0644\\u064a\\u0642\\u0643\", \"val\": 10}, {\"col\": \"data\", \"idx\": \"\\u0633\\u064a\\u0627\\u0633\\u0649\", \"val\": 10}, {\"col\": \"data\", \"idx\": \"\\u201c@amb_bates:\", \"val\": 10}, {\"col\": \"data\", \"idx\": \"\\u201c@courtneycawks_x:\", \"val\": 10}, {\"col\": \"data\", \"idx\": \"\\u201c@cuntsoffootball:\", \"val\": 10}, {\"col\": \"data\", \"idx\": \"\\u201c@joeytribbiiani:\", \"val\": 10}, {\"col\": \"data\", \"idx\": \"\\u201c@missraymarshall:\", \"val\": 10}, {\"col\": \"data\", \"idx\": \"\\u201c@narrowboatpigs:\", \"val\": 10}, {\"col\": \"data\", \"idx\": \"\\u201c@niamhxaisling:\", \"val\": 10}, {\"col\": \"data\", \"idx\": \"\\u201c@nigella_lawson:\", \"val\": 10}, {\"col\": \"data\", \"idx\": \"\\u201c@stevestfler:\", \"val\": 10}, {\"col\": \"data\", \"idx\": \"\\u201c@theagentloki:\", \"val\": 10}, {\"col\": \"data\", \"idx\": \"\\u201c@zensfg:\", \"val\": 10}, {\"col\": \"data\", \"idx\": \"\\u201cproper\", \"val\": 10}, {\"col\": \"data\", \"idx\": \"\\u201csimplicity\", \"val\": 10}, {\"col\": \"data\", \"idx\": \"\\u2600\\ufe0f\\u2600\\ufe0f\\u2600\\ufe0f\", \"val\": 10}, {\"col\": \"data\", \"idx\": \"\\u4eca\\u5929\\u7684\\u73ed\\u597d\\u4e45\\u3002\\u3002\\u3002\\u3002\\u3002\", \"val\": 10}, {\"col\": \"data\", \"idx\": \"\\u5728\\u516c\\u4f17\\u770b\\u8272\\u60c5\\u6545\\u4e8b\\uff01\\uff01\\uff01\\uff01\\u54c8\\u54c8\\u54c8\\u54c8\\u54c8\\u54c8\\u54c8\\u7b11\\u6b7b\\u6211\\u3002\", \"val\": 10}, {\"col\": \"data\", \"idx\": \"\\ud83c\\udf3a\\u270c\\ufe0f\\ud83d\\udc4c\\u2728\", \"val\": 10}, {\"col\": \"data\", \"idx\": \"\\ud83d\\udc40\\u231a\\ufe0f\\ud83d\\ude4b\\u2764\\ufe0f\", \"val\": 10}, {\"col\": \"data\", \"idx\": \"\\ud83d\\udc98\\ud83d\\ude0f\\ud83d\\udc98\\ud83c\\udf1a\\ud83c\\udf1a\", \"val\": 10}, {\"col\": \"data\", \"idx\": \"\\ud83d\\ude02\\ud83d\\ude02\\u2764\\ufe0f\\u2764\\ufe0f\\ud83d\\ude2c\\ud83d\\ude2c\", \"val\": 10}, {\"col\": \"data\", \"idx\": \"\\ud83d\\ude02\\ud83d\\ude02\\ud83d\\ude02what\", \"val\": 10}, {\"col\": \"data\", \"idx\": \"\\ud83d\\ude02\\ud83d\\ude02\\ud83d\\ude02\\ud83d\\ude02\\ud83d\\ude02\", \"val\": 10}, {\"col\": \"data\", \"idx\": \"\\ud83d\\ude02\\ud83d\\ude2b\\ud83d\\ude29\\ud83d\\ude0f\\ud83d\\ude4c\\ud83d\\udca6\\ud83d\\ude0d\\u2764\\ufe0f\\ud83d\\udc4f\\ud83d\\ude4a\\u263a\\ufe0f\\ud83d\\udc94\\u261d\\ufe0f\\ud83d\\ude09\\ud83d\\udc4d\\ud83d\\udc81\\ud83c\\udf55\\ud83d\\udd2b\\u2615\\ufe0f\\ud83c\\udf51\\ud83d\\udc38\", \"val\": 10}, {\"col\": \"data\", \"idx\": \"\\ud83d\\ude0d\\ud83c\\udf55\\ud83c\\udf54\\ud83c\\udf5f\\ud83c\\udf57\\ud83c\\udf57\\ud83c\\udf56\\ud83c\\udf5d\\ud83c\\udf5b\\ud83c\\udf64\\ud83c\\udf67\\ud83c\\udf68\\ud83c\\udf66\\ud83c\\udf82\\ud83c\\udf70\\ud83c\\udf6a\\ud83c\\udf6b\\ud83c\\udf69\\ud83c\\udf6c\", \"val\": 10}, {\"col\": \"data\", \"idx\": \"\\ud83d\\ude23\\ud83d\\ude24\\ud83d\\ude25\\ud83d\\ude26\\ud83d\\ude27\\ud83d\\ude28\\ud83d\\ude29\\ud83d\\ude30\\ud83d\\ude1f\\ud83d\\ude31\", \"val\": 10}]}], \"height\": 500, \"legends\": [], \"marks\": [{\"from\": {\"data\": \"table\"}, \"properties\": {\"enter\": {\"align\": {\"value\": \"center\"}, \"angle\": {\"field\": \"angle\"}, \"baseline\": {\"value\": \"middle\"}, \"fill\": {\"field\": \"data.idx\", \"scale\": \"color\"}, \"font\": {\"field\": \"font\"}, \"fontSize\": {\"field\": \"fontSize\"}, \"text\": {\"field\": \"data.idx\"}, \"x\": {\"field\": \"x\"}, \"y\": {\"field\": \"y\"}}}, \"type\": \"text\"}], \"padding\": \"auto\", \"scales\": [{\"domain\": {\"data\": \"table\", \"field\": \"data.idx\"}, \"name\": \"color\", \"range\": \"category10\", \"type\": \"ordinal\"}], \"width\": 960}, function(chart) {\n",
        "         chart({el: \"#visa82493d2d14d4b1689685719f43ee848\"}).update();\n",
        "       });\n",
        "     };\n",
        "     _do_plot();\n",
        "   })();\n",
        "</script>\n",
        "<style>.vega canvas {width: 100%;}</style>\n",
        "        "
       ],
       "metadata": {},
       "output_type": "display_data",
       "text": [
        "<IPython.core.display.HTML at 0x7ffe9c71c890>"
       ]
      }
     ],
     "prompt_number": 4
    },
    {
     "cell_type": "code",
     "collapsed": false,
     "input": [],
     "language": "python",
     "metadata": {},
     "outputs": []
    }
   ],
   "metadata": {}
  }
 ]
}